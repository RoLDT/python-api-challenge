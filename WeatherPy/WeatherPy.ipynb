{
 "cells": [
  {
   "cell_type": "code",
   "execution_count": 1,
   "metadata": {},
   "outputs": [],
   "source": [
    "from citipy import citipy\n",
    "import pandas as pd\n",
    "import numpy as np\n",
    "import json\n",
    "import requests\n",
    "import matplotlib.pyplot as plt\n",
    "from config import weather_api\n",
    "from pprint import pprint"
   ]
  },
  {
   "cell_type": "markdown",
   "metadata": {},
   "source": [
    "# Creating the cities DataFrame"
   ]
  },
  {
   "cell_type": "code",
   "execution_count": 2,
   "metadata": {},
   "outputs": [
    {
     "name": "stdout",
     "output_type": "stream",
     "text": [
      "500\n"
     ]
    },
    {
     "data": {
      "text/html": [
       "<div>\n",
       "<style scoped>\n",
       "    .dataframe tbody tr th:only-of-type {\n",
       "        vertical-align: middle;\n",
       "    }\n",
       "\n",
       "    .dataframe tbody tr th {\n",
       "        vertical-align: top;\n",
       "    }\n",
       "\n",
       "    .dataframe thead th {\n",
       "        text-align: right;\n",
       "    }\n",
       "</style>\n",
       "<table border=\"1\" class=\"dataframe\">\n",
       "  <thead>\n",
       "    <tr style=\"text-align: right;\">\n",
       "      <th></th>\n",
       "      <th>lat</th>\n",
       "      <th>long</th>\n",
       "    </tr>\n",
       "  </thead>\n",
       "  <tbody>\n",
       "    <tr>\n",
       "      <th>0</th>\n",
       "      <td>-37.092551</td>\n",
       "      <td>-81.223852</td>\n",
       "    </tr>\n",
       "    <tr>\n",
       "      <th>1</th>\n",
       "      <td>35.151068</td>\n",
       "      <td>86.759262</td>\n",
       "    </tr>\n",
       "    <tr>\n",
       "      <th>2</th>\n",
       "      <td>-35.321667</td>\n",
       "      <td>170.227764</td>\n",
       "    </tr>\n",
       "    <tr>\n",
       "      <th>3</th>\n",
       "      <td>0.508284</td>\n",
       "      <td>-45.526150</td>\n",
       "    </tr>\n",
       "    <tr>\n",
       "      <th>4</th>\n",
       "      <td>-13.533050</td>\n",
       "      <td>78.674963</td>\n",
       "    </tr>\n",
       "  </tbody>\n",
       "</table>\n",
       "</div>"
      ],
      "text/plain": [
       "         lat        long\n",
       "0 -37.092551  -81.223852\n",
       "1  35.151068   86.759262\n",
       "2 -35.321667  170.227764\n",
       "3   0.508284  -45.526150\n",
       "4 -13.533050   78.674963"
      ]
     },
     "execution_count": 2,
     "metadata": {},
     "output_type": "execute_result"
    }
   ],
   "source": [
    "#Create a list of random latitudes and longitudes\n",
    "cities_df = pd.DataFrame({\"lat\":np.random.uniform(-90,90,500), \"long\":np.random.uniform(-180,180,500)})\n",
    "\n",
    "print(len(cities_df))\n",
    "\n",
    "cities_df.head()"
   ]
  },
  {
   "cell_type": "code",
   "execution_count": 3,
   "metadata": {},
   "outputs": [
    {
     "data": {
      "text/html": [
       "<div>\n",
       "<style scoped>\n",
       "    .dataframe tbody tr th:only-of-type {\n",
       "        vertical-align: middle;\n",
       "    }\n",
       "\n",
       "    .dataframe tbody tr th {\n",
       "        vertical-align: top;\n",
       "    }\n",
       "\n",
       "    .dataframe thead th {\n",
       "        text-align: right;\n",
       "    }\n",
       "</style>\n",
       "<table border=\"1\" class=\"dataframe\">\n",
       "  <thead>\n",
       "    <tr style=\"text-align: right;\">\n",
       "      <th></th>\n",
       "      <th>lat</th>\n",
       "      <th>long</th>\n",
       "      <th>city</th>\n",
       "      <th>country</th>\n",
       "    </tr>\n",
       "  </thead>\n",
       "  <tbody>\n",
       "    <tr>\n",
       "      <th>0</th>\n",
       "      <td>-37.092551</td>\n",
       "      <td>-81.223852</td>\n",
       "      <td>lebu</td>\n",
       "      <td>cl</td>\n",
       "    </tr>\n",
       "    <tr>\n",
       "      <th>1</th>\n",
       "      <td>35.151068</td>\n",
       "      <td>86.759262</td>\n",
       "      <td>korla</td>\n",
       "      <td>cn</td>\n",
       "    </tr>\n",
       "    <tr>\n",
       "      <th>2</th>\n",
       "      <td>-35.321667</td>\n",
       "      <td>170.227764</td>\n",
       "      <td>ahipara</td>\n",
       "      <td>nz</td>\n",
       "    </tr>\n",
       "    <tr>\n",
       "      <th>3</th>\n",
       "      <td>0.508284</td>\n",
       "      <td>-45.526150</td>\n",
       "      <td>carutapera</td>\n",
       "      <td>br</td>\n",
       "    </tr>\n",
       "    <tr>\n",
       "      <th>4</th>\n",
       "      <td>-13.533050</td>\n",
       "      <td>78.674963</td>\n",
       "      <td>hithadhoo</td>\n",
       "      <td>mv</td>\n",
       "    </tr>\n",
       "  </tbody>\n",
       "</table>\n",
       "</div>"
      ],
      "text/plain": [
       "         lat        long        city country\n",
       "0 -37.092551  -81.223852        lebu      cl\n",
       "1  35.151068   86.759262       korla      cn\n",
       "2 -35.321667  170.227764     ahipara      nz\n",
       "3   0.508284  -45.526150  carutapera      br\n",
       "4 -13.533050   78.674963   hithadhoo      mv"
      ]
     },
     "execution_count": 3,
     "metadata": {},
     "output_type": "execute_result"
    }
   ],
   "source": [
    "city_name = []\n",
    "country_list =[]\n",
    "\n",
    "for coords in range(0, len(cities_df[\"lat\"])):\n",
    "    lat=cities_df.iloc[coords][\"lat\"]\n",
    "    long=cities_df.iloc[coords][\"long\"]\n",
    "    city = citipy.nearest_city(lat,long)\n",
    "    name= city.city_name\n",
    "    city_name.append(name)\n",
    "    country= city.country_code\n",
    "    country_list.append(country)\n",
    "\n",
    "cities_df[\"city\"]=city_name\n",
    "cities_df[\"country\"]=country_list\n",
    "\n",
    "cities_df.head()"
   ]
  },
  {
   "cell_type": "code",
   "execution_count": 4,
   "metadata": {},
   "outputs": [
    {
     "data": {
      "text/plain": [
       "False    291\n",
       "True     209\n",
       "Name: city, dtype: int64"
      ]
     },
     "execution_count": 4,
     "metadata": {},
     "output_type": "execute_result"
    }
   ],
   "source": [
    "cities_df[\"city\"].duplicated().value_counts()"
   ]
  },
  {
   "cell_type": "markdown",
   "metadata": {},
   "source": [
    "### Since there are duplicated cities in our DF, we  have to drop those specific rows. "
   ]
  },
  {
   "cell_type": "code",
   "execution_count": 5,
   "metadata": {},
   "outputs": [],
   "source": [
    "cleancities_df = cities_df.drop_duplicates(subset=\"city\", keep=\"first\").reset_index(drop=True)\n"
   ]
  },
  {
   "cell_type": "code",
   "execution_count": 6,
   "metadata": {},
   "outputs": [
    {
     "data": {
      "text/plain": [
       "291"
      ]
     },
     "execution_count": 6,
     "metadata": {},
     "output_type": "execute_result"
    }
   ],
   "source": [
    "len(cleancities_df)"
   ]
  },
  {
   "cell_type": "markdown",
   "metadata": {},
   "source": [
    "### Now that we have a clean data set, we can keep going with the exercise."
   ]
  },
  {
   "cell_type": "code",
   "execution_count": 7,
   "metadata": {},
   "outputs": [
    {
     "data": {
      "text/html": [
       "<div>\n",
       "<style scoped>\n",
       "    .dataframe tbody tr th:only-of-type {\n",
       "        vertical-align: middle;\n",
       "    }\n",
       "\n",
       "    .dataframe tbody tr th {\n",
       "        vertical-align: top;\n",
       "    }\n",
       "\n",
       "    .dataframe thead th {\n",
       "        text-align: right;\n",
       "    }\n",
       "</style>\n",
       "<table border=\"1\" class=\"dataframe\">\n",
       "  <thead>\n",
       "    <tr style=\"text-align: right;\">\n",
       "      <th></th>\n",
       "      <th>lat</th>\n",
       "      <th>long</th>\n",
       "      <th>city</th>\n",
       "      <th>country</th>\n",
       "      <th>max temp</th>\n",
       "      <th>humidity</th>\n",
       "      <th>cloudiness</th>\n",
       "      <th>wind speed</th>\n",
       "      <th>date</th>\n",
       "    </tr>\n",
       "  </thead>\n",
       "  <tbody>\n",
       "    <tr>\n",
       "      <th>0</th>\n",
       "      <td>-37.092551</td>\n",
       "      <td>-81.223852</td>\n",
       "      <td>lebu</td>\n",
       "      <td>cl</td>\n",
       "      <td></td>\n",
       "      <td></td>\n",
       "      <td></td>\n",
       "      <td></td>\n",
       "      <td></td>\n",
       "    </tr>\n",
       "    <tr>\n",
       "      <th>1</th>\n",
       "      <td>35.151068</td>\n",
       "      <td>86.759262</td>\n",
       "      <td>korla</td>\n",
       "      <td>cn</td>\n",
       "      <td></td>\n",
       "      <td></td>\n",
       "      <td></td>\n",
       "      <td></td>\n",
       "      <td></td>\n",
       "    </tr>\n",
       "    <tr>\n",
       "      <th>2</th>\n",
       "      <td>-35.321667</td>\n",
       "      <td>170.227764</td>\n",
       "      <td>ahipara</td>\n",
       "      <td>nz</td>\n",
       "      <td></td>\n",
       "      <td></td>\n",
       "      <td></td>\n",
       "      <td></td>\n",
       "      <td></td>\n",
       "    </tr>\n",
       "    <tr>\n",
       "      <th>3</th>\n",
       "      <td>0.508284</td>\n",
       "      <td>-45.526150</td>\n",
       "      <td>carutapera</td>\n",
       "      <td>br</td>\n",
       "      <td></td>\n",
       "      <td></td>\n",
       "      <td></td>\n",
       "      <td></td>\n",
       "      <td></td>\n",
       "    </tr>\n",
       "    <tr>\n",
       "      <th>4</th>\n",
       "      <td>-13.533050</td>\n",
       "      <td>78.674963</td>\n",
       "      <td>hithadhoo</td>\n",
       "      <td>mv</td>\n",
       "      <td></td>\n",
       "      <td></td>\n",
       "      <td></td>\n",
       "      <td></td>\n",
       "      <td></td>\n",
       "    </tr>\n",
       "  </tbody>\n",
       "</table>\n",
       "</div>"
      ],
      "text/plain": [
       "         lat        long        city country max temp humidity cloudiness  \\\n",
       "0 -37.092551  -81.223852        lebu      cl                                \n",
       "1  35.151068   86.759262       korla      cn                                \n",
       "2 -35.321667  170.227764     ahipara      nz                                \n",
       "3   0.508284  -45.526150  carutapera      br                                \n",
       "4 -13.533050   78.674963   hithadhoo      mv                                \n",
       "\n",
       "  wind speed date  \n",
       "0                  \n",
       "1                  \n",
       "2                  \n",
       "3                  \n",
       "4                  "
      ]
     },
     "execution_count": 7,
     "metadata": {},
     "output_type": "execute_result"
    }
   ],
   "source": [
    "cleancities_df[\"max temp\"] = \"\"\n",
    "cleancities_df[\"humidity\"] = \"\"\n",
    "cleancities_df[\"cloudiness\"] = \"\"\n",
    "cleancities_df[\"wind speed\"] = \"\"\n",
    "cleancities_df[\"date\"] = \"\"\n",
    "\n",
    "cleancities_df.head()"
   ]
  },
  {
   "cell_type": "code",
   "execution_count": 8,
   "metadata": {},
   "outputs": [
    {
     "name": "stdout",
     "output_type": "stream",
     "text": [
      "Looking for the weather in city number 0, lebu\n",
      "Looking for the weather in city number 1, korla\n",
      "Looking for the weather in city number 2, ahipara\n",
      "Looking for the weather in city number 3, carutapera\n",
      "Looking for the weather in city number 4, hithadhoo\n",
      "Looking for the weather in city number 5, avarua\n",
      "Looking for the weather in city number 6, hasaki\n",
      "Looking for the weather in city number 7, atuona\n",
      "Looking for the weather in city number 8, vaini\n",
      "Looking for the weather in city number 9, mehamn\n",
      "Looking for the weather in city number 10, colares\n",
      "Looking for the weather in city number 11, albany\n",
      "Looking for the weather in city number 12, arrecife\n",
      "Looking for the weather in city number 13, taolanaro\n",
      "Missing city. Moving on...\n",
      "Looking for the weather in city number 14, analipsis\n",
      "Looking for the weather in city number 15, mataura\n",
      "Looking for the weather in city number 16, nantucket\n",
      "Looking for the weather in city number 17, maulvi bazar\n",
      "Missing city. Moving on...\n",
      "Looking for the weather in city number 18, laguna\n",
      "Looking for the weather in city number 19, puerto ayora\n",
      "Looking for the weather in city number 20, punta arenas\n",
      "Looking for the weather in city number 21, torbay\n",
      "Looking for the weather in city number 22, port elizabeth\n",
      "Looking for the weather in city number 23, kidal\n",
      "Looking for the weather in city number 24, grand river south east\n",
      "Missing city. Moving on...\n",
      "Looking for the weather in city number 25, belushya guba\n",
      "Missing city. Moving on...\n",
      "Looking for the weather in city number 26, hermanus\n",
      "Looking for the weather in city number 27, arraial do cabo\n",
      "Looking for the weather in city number 28, lar\n",
      "Looking for the weather in city number 29, pisco\n",
      "Looking for the weather in city number 30, pedra branca\n",
      "Looking for the weather in city number 31, qaanaaq\n",
      "Looking for the weather in city number 32, saint anthony\n",
      "Looking for the weather in city number 33, khatanga\n",
      "Looking for the weather in city number 34, port macquarie\n",
      "Looking for the weather in city number 35, tuktoyaktuk\n",
      "Looking for the weather in city number 36, cape town\n",
      "Looking for the weather in city number 37, adrar\n",
      "Looking for the weather in city number 38, port alfred\n",
      "Looking for the weather in city number 39, chaiya\n",
      "Looking for the weather in city number 40, kirakira\n",
      "Looking for the weather in city number 41, strezhevoy\n",
      "Looking for the weather in city number 42, cherskiy\n",
      "Looking for the weather in city number 43, mount gambier\n",
      "Looking for the weather in city number 44, tazovskiy\n",
      "Looking for the weather in city number 45, hemsedal\n",
      "Looking for the weather in city number 46, tasiilaq\n",
      "Looking for the weather in city number 47, lagoa\n",
      "Looking for the weather in city number 48, rawson\n",
      "Looking for the weather in city number 49, hobart\n",
      "Looking for the weather in city number 50, ekibastuz\n",
      "Looking for the weather in city number 51, neryungri\n",
      "Looking for the weather in city number 52, kapaa\n",
      "Looking for the weather in city number 53, mayo\n",
      "Looking for the weather in city number 54, illoqqortoormiut\n",
      "Missing city. Moving on...\n",
      "Looking for the weather in city number 55, davila\n",
      "Looking for the weather in city number 56, ondorhaan\n",
      "Missing city. Moving on...\n",
      "Looking for the weather in city number 57, weligama\n",
      "Looking for the weather in city number 58, vanimo\n",
      "Looking for the weather in city number 59, katha\n",
      "Missing city. Moving on...\n",
      "Looking for the weather in city number 60, victoria\n",
      "Looking for the weather in city number 61, xining\n",
      "Looking for the weather in city number 62, ixtapa\n",
      "Looking for the weather in city number 63, ribeira grande\n",
      "Looking for the weather in city number 64, sibu\n",
      "Looking for the weather in city number 65, navrongo\n",
      "Looking for the weather in city number 66, barrow\n",
      "Looking for the weather in city number 67, hilo\n",
      "Looking for the weather in city number 68, jamestown\n",
      "Looking for the weather in city number 69, casa nova\n",
      "Looking for the weather in city number 70, princeton\n",
      "Looking for the weather in city number 71, bosaso\n",
      "Looking for the weather in city number 72, luderitz\n",
      "Looking for the weather in city number 73, cravo norte\n",
      "Looking for the weather in city number 74, airai\n",
      "Looking for the weather in city number 75, havre-saint-pierre\n",
      "Looking for the weather in city number 76, yellowknife\n",
      "Looking for the weather in city number 77, bluff\n",
      "Looking for the weather in city number 78, rikitea\n",
      "Looking for the weather in city number 79, saint-paul\n",
      "Looking for the weather in city number 80, lavrentiya\n",
      "Looking for the weather in city number 81, sao gabriel da cachoeira\n",
      "Looking for the weather in city number 82, chokurdakh\n",
      "Looking for the weather in city number 83, carnarvon\n",
      "Looking for the weather in city number 84, alice springs\n",
      "Looking for the weather in city number 85, valleyview\n",
      "Looking for the weather in city number 86, upernavik\n",
      "Looking for the weather in city number 87, saskylakh\n",
      "Looking for the weather in city number 88, castro\n",
      "Looking for the weather in city number 89, krasnoselkup\n",
      "Looking for the weather in city number 90, dikson\n",
      "Looking for the weather in city number 91, marcona\n",
      "Missing city. Moving on...\n",
      "Looking for the weather in city number 92, kahului\n",
      "Looking for the weather in city number 93, toliary\n",
      "Missing city. Moving on...\n",
      "Looking for the weather in city number 94, xadani\n",
      "Missing city. Moving on...\n",
      "Looking for the weather in city number 95, chegdomyn\n",
      "Looking for the weather in city number 96, saint-pierre\n",
      "Looking for the weather in city number 97, laibin\n",
      "Looking for the weather in city number 98, butaritari\n",
      "Looking for the weather in city number 99, ust-ishim\n",
      "Looking for the weather in city number 100, iqaluit\n",
      "Looking for the weather in city number 101, matara\n",
      "Looking for the weather in city number 102, huarmey\n",
      "Looking for the weather in city number 103, benjamin hill\n",
      "Looking for the weather in city number 104, eregli\n",
      "Looking for the weather in city number 105, barentsburg\n",
      "Missing city. Moving on...\n",
      "Looking for the weather in city number 106, busselton\n",
      "Looking for the weather in city number 107, avera\n",
      "Looking for the weather in city number 108, umzimvubu\n",
      "Missing city. Moving on...\n",
      "Looking for the weather in city number 109, ulladulla\n",
      "Looking for the weather in city number 110, khash\n",
      "Looking for the weather in city number 111, pandan\n",
      "Looking for the weather in city number 112, ushuaia\n",
      "Looking for the weather in city number 113, georgetown\n",
      "Looking for the weather in city number 114, chapais\n",
      "Looking for the weather in city number 115, brigantine\n",
      "Looking for the weather in city number 116, nanortalik\n",
      "Looking for the weather in city number 117, chuy\n",
      "Looking for the weather in city number 118, dzhusaly\n",
      "Missing city. Moving on...\n",
      "Looking for the weather in city number 119, lichinga\n",
      "Looking for the weather in city number 120, guerrero negro\n",
      "Looking for the weather in city number 121, portland\n",
      "Looking for the weather in city number 122, baykit\n",
      "Looking for the weather in city number 123, nizhneyansk\n",
      "Missing city. Moving on...\n",
      "Looking for the weather in city number 124, saint-philippe\n",
      "Looking for the weather in city number 125, new norfolk\n",
      "Looking for the weather in city number 126, slave lake\n",
      "Looking for the weather in city number 127, tecoanapa\n",
      "Looking for the weather in city number 128, berlevag\n",
      "Looking for the weather in city number 129, cabo san lucas\n",
      "Looking for the weather in city number 130, ancud\n",
      "Looking for the weather in city number 131, bull savanna\n",
      "Looking for the weather in city number 132, manokwari\n",
      "Looking for the weather in city number 133, tagusao\n",
      "Looking for the weather in city number 134, moerai\n",
      "Looking for the weather in city number 135, ambon\n",
      "Looking for the weather in city number 136, ayan\n",
      "Looking for the weather in city number 137, bonthe\n",
      "Looking for the weather in city number 138, tiksi\n",
      "Looking for the weather in city number 139, souillac\n",
      "Looking for the weather in city number 140, richards bay\n",
      "Looking for the weather in city number 141, harper\n",
      "Looking for the weather in city number 142, pevek\n",
      "Looking for the weather in city number 143, lompoc\n",
      "Looking for the weather in city number 144, provideniya\n",
      "Looking for the weather in city number 145, usinsk\n",
      "Looking for the weather in city number 146, abu kamal\n",
      "Looking for the weather in city number 147, galesong\n",
      "Looking for the weather in city number 148, bengkulu\n"
     ]
    },
    {
     "name": "stdout",
     "output_type": "stream",
     "text": [
      "Looking for the weather in city number 149, murgab\n",
      "Looking for the weather in city number 150, mentok\n",
      "Missing city. Moving on...\n",
      "Looking for the weather in city number 151, campbell river\n",
      "Looking for the weather in city number 152, tambilil\n",
      "Looking for the weather in city number 153, kayasula\n",
      "Looking for the weather in city number 154, muzhi\n",
      "Looking for the weather in city number 155, albanel\n",
      "Looking for the weather in city number 156, kalmunai\n",
      "Looking for the weather in city number 157, bredasdorp\n",
      "Looking for the weather in city number 158, diffa\n",
      "Looking for the weather in city number 159, los llanos de aridane\n",
      "Looking for the weather in city number 160, vangaindrano\n",
      "Looking for the weather in city number 161, tuatapere\n",
      "Looking for the weather in city number 162, nuevo casas grandes\n",
      "Looking for the weather in city number 163, la rioja\n",
      "Looking for the weather in city number 164, deputatskiy\n",
      "Looking for the weather in city number 165, nicoya\n",
      "Looking for the weather in city number 166, praesto\n",
      "Looking for the weather in city number 167, bethel\n",
      "Looking for the weather in city number 168, byron bay\n",
      "Looking for the weather in city number 169, cedar city\n",
      "Looking for the weather in city number 170, sao joao da barra\n",
      "Looking for the weather in city number 171, thompson\n",
      "Looking for the weather in city number 172, east london\n",
      "Looking for the weather in city number 173, berdigestyakh\n",
      "Looking for the weather in city number 174, yar-sale\n",
      "Looking for the weather in city number 175, pula\n",
      "Looking for the weather in city number 176, kyra\n",
      "Looking for the weather in city number 177, padang\n",
      "Looking for the weather in city number 178, veraval\n",
      "Looking for the weather in city number 179, mount isa\n",
      "Looking for the weather in city number 180, palana\n",
      "Looking for the weather in city number 181, zabol\n",
      "Looking for the weather in city number 182, aurillac\n",
      "Looking for the weather in city number 183, vestmanna\n",
      "Looking for the weather in city number 184, kokopo\n",
      "Looking for the weather in city number 185, attawapiskat\n",
      "Missing city. Moving on...\n",
      "Looking for the weather in city number 186, beloha\n",
      "Looking for the weather in city number 187, mitsamiouli\n",
      "Looking for the weather in city number 188, biltine\n",
      "Looking for the weather in city number 189, zhangye\n",
      "Looking for the weather in city number 190, conakry\n",
      "Looking for the weather in city number 191, la roche-sur-yon\n",
      "Looking for the weather in city number 192, ilulissat\n",
      "Looking for the weather in city number 193, mys shmidta\n",
      "Missing city. Moving on...\n",
      "Looking for the weather in city number 194, samusu\n",
      "Missing city. Moving on...\n",
      "Looking for the weather in city number 195, cidreira\n",
      "Looking for the weather in city number 196, tuban\n",
      "Looking for the weather in city number 197, boysun\n",
      "Looking for the weather in city number 198, beaverlodge\n",
      "Looking for the weather in city number 199, pianco\n",
      "Looking for the weather in city number 200, ust-koksa\n",
      "Looking for the weather in city number 201, banamba\n",
      "Looking for the weather in city number 202, gat\n",
      "Looking for the weather in city number 203, falealupo\n",
      "Missing city. Moving on...\n",
      "Looking for the weather in city number 204, antofagasta\n",
      "Looking for the weather in city number 205, phan thiet\n",
      "Looking for the weather in city number 206, saint-augustin\n",
      "Looking for the weather in city number 207, okakarara\n",
      "Looking for the weather in city number 208, tsihombe\n",
      "Missing city. Moving on...\n",
      "Looking for the weather in city number 209, mayumba\n",
      "Looking for the weather in city number 210, kosh-agach\n",
      "Looking for the weather in city number 211, bambous virieux\n",
      "Looking for the weather in city number 212, dingle\n",
      "Looking for the weather in city number 213, makakilo city\n",
      "Looking for the weather in city number 214, husavik\n",
      "Looking for the weather in city number 215, yomitan\n",
      "Missing city. Moving on...\n",
      "Looking for the weather in city number 216, soyo\n",
      "Looking for the weather in city number 217, la ronge\n",
      "Looking for the weather in city number 218, labuhan\n",
      "Looking for the weather in city number 219, faanui\n",
      "Looking for the weather in city number 220, bentiu\n",
      "Looking for the weather in city number 221, ca mau\n",
      "Looking for the weather in city number 222, santa cruz\n",
      "Looking for the weather in city number 223, kaoma\n",
      "Looking for the weather in city number 224, redlands\n",
      "Looking for the weather in city number 225, camacha\n",
      "Looking for the weather in city number 226, magistralnyy\n",
      "Looking for the weather in city number 227, kargat\n",
      "Looking for the weather in city number 228, puerto escondido\n",
      "Looking for the weather in city number 229, tra vinh\n",
      "Looking for the weather in city number 230, madras\n",
      "Looking for the weather in city number 231, lemesos\n",
      "Missing city. Moving on...\n",
      "Looking for the weather in city number 232, kloulklubed\n",
      "Looking for the weather in city number 233, sa kaeo\n",
      "Looking for the weather in city number 234, hovd\n",
      "Looking for the weather in city number 235, dzhebariki-khaya\n",
      "Looking for the weather in city number 236, maniitsoq\n",
      "Looking for the weather in city number 237, port-gentil\n",
      "Looking for the weather in city number 238, fasa\n",
      "Looking for the weather in city number 239, mar del plata\n",
      "Looking for the weather in city number 240, karpathos\n",
      "Looking for the weather in city number 241, shakiso\n",
      "Looking for the weather in city number 242, tilichiki\n",
      "Looking for the weather in city number 243, pacific grove\n",
      "Looking for the weather in city number 244, waipawa\n",
      "Looking for the weather in city number 245, taoudenni\n",
      "Looking for the weather in city number 246, linqiong\n",
      "Looking for the weather in city number 247, ponta delgada\n",
      "Looking for the weather in city number 248, khilok\n",
      "Looking for the weather in city number 249, katsuura\n",
      "Looking for the weather in city number 250, champerico\n",
      "Looking for the weather in city number 251, petropavlovsk-kamchatskiy\n",
      "Looking for the weather in city number 252, srednekolymsk\n",
      "Looking for the weather in city number 253, grindavik\n",
      "Looking for the weather in city number 254, suzun\n",
      "Looking for the weather in city number 255, abaza\n",
      "Looking for the weather in city number 256, tungor\n",
      "Looking for the weather in city number 257, saldanha\n",
      "Looking for the weather in city number 258, high level\n",
      "Looking for the weather in city number 259, saint-georges\n",
      "Looking for the weather in city number 260, songea\n",
      "Looking for the weather in city number 261, mamallapuram\n",
      "Looking for the weather in city number 262, kamenskoye\n",
      "Missing city. Moving on...\n",
      "Looking for the weather in city number 263, taksimo\n",
      "Looking for the weather in city number 264, zaraza\n",
      "Looking for the weather in city number 265, longyearbyen\n",
      "Looking for the weather in city number 266, ranong\n",
      "Looking for the weather in city number 267, ritchie\n",
      "Looking for the weather in city number 268, asau\n",
      "Looking for the weather in city number 269, fort nelson\n",
      "Looking for the weather in city number 270, male\n",
      "Looking for the weather in city number 271, haines junction\n",
      "Looking for the weather in city number 272, ojinaga\n",
      "Looking for the weather in city number 273, erenhot\n",
      "Looking for the weather in city number 274, constitucion\n",
      "Looking for the weather in city number 275, artyk\n",
      "Missing city. Moving on...\n",
      "Looking for the weather in city number 276, batagay\n",
      "Looking for the weather in city number 277, eureka\n",
      "Looking for the weather in city number 278, northam\n",
      "Looking for the weather in city number 279, dwarka\n",
      "Looking for the weather in city number 280, lazaro cardenas\n",
      "Looking for the weather in city number 281, sentyabrskiy\n",
      "Missing city. Moving on...\n",
      "Looking for the weather in city number 282, amderma\n",
      "Missing city. Moving on...\n",
      "Looking for the weather in city number 283, sur\n",
      "Looking for the weather in city number 284, arkhipo-osipovka\n",
      "Looking for the weather in city number 285, palmer\n",
      "Looking for the weather in city number 286, hobyo\n",
      "Looking for the weather in city number 287, lolua\n",
      "Missing city. Moving on...\n",
      "Looking for the weather in city number 288, meulaboh\n",
      "Looking for the weather in city number 289, mattru\n",
      "Looking for the weather in city number 290, esqueda\n"
     ]
    },
    {
     "data": {
      "text/html": [
       "<div>\n",
       "<style scoped>\n",
       "    .dataframe tbody tr th:only-of-type {\n",
       "        vertical-align: middle;\n",
       "    }\n",
       "\n",
       "    .dataframe tbody tr th {\n",
       "        vertical-align: top;\n",
       "    }\n",
       "\n",
       "    .dataframe thead th {\n",
       "        text-align: right;\n",
       "    }\n",
       "</style>\n",
       "<table border=\"1\" class=\"dataframe\">\n",
       "  <thead>\n",
       "    <tr style=\"text-align: right;\">\n",
       "      <th></th>\n",
       "      <th>lat</th>\n",
       "      <th>long</th>\n",
       "      <th>city</th>\n",
       "      <th>country</th>\n",
       "      <th>max temp</th>\n",
       "      <th>humidity</th>\n",
       "      <th>cloudiness</th>\n",
       "      <th>wind speed</th>\n",
       "      <th>date</th>\n",
       "    </tr>\n",
       "  </thead>\n",
       "  <tbody>\n",
       "    <tr>\n",
       "      <th>0</th>\n",
       "      <td>-37.092551</td>\n",
       "      <td>-81.223852</td>\n",
       "      <td>lebu</td>\n",
       "      <td>cl</td>\n",
       "      <td>48.87</td>\n",
       "      <td>86</td>\n",
       "      <td>26</td>\n",
       "      <td>0.81</td>\n",
       "      <td>1599346491</td>\n",
       "    </tr>\n",
       "    <tr>\n",
       "      <th>1</th>\n",
       "      <td>35.151068</td>\n",
       "      <td>86.759262</td>\n",
       "      <td>korla</td>\n",
       "      <td>cn</td>\n",
       "      <td>73</td>\n",
       "      <td>52</td>\n",
       "      <td>0</td>\n",
       "      <td>5.99</td>\n",
       "      <td>1599346491</td>\n",
       "    </tr>\n",
       "    <tr>\n",
       "      <th>2</th>\n",
       "      <td>-35.321667</td>\n",
       "      <td>170.227764</td>\n",
       "      <td>ahipara</td>\n",
       "      <td>nz</td>\n",
       "      <td>58.39</td>\n",
       "      <td>68</td>\n",
       "      <td>100</td>\n",
       "      <td>12.64</td>\n",
       "      <td>1599346491</td>\n",
       "    </tr>\n",
       "    <tr>\n",
       "      <th>3</th>\n",
       "      <td>0.508284</td>\n",
       "      <td>-45.526150</td>\n",
       "      <td>carutapera</td>\n",
       "      <td>br</td>\n",
       "      <td>78.84</td>\n",
       "      <td>83</td>\n",
       "      <td>85</td>\n",
       "      <td>7.72</td>\n",
       "      <td>1599346492</td>\n",
       "    </tr>\n",
       "    <tr>\n",
       "      <th>4</th>\n",
       "      <td>-13.533050</td>\n",
       "      <td>78.674963</td>\n",
       "      <td>hithadhoo</td>\n",
       "      <td>mv</td>\n",
       "      <td>80.51</td>\n",
       "      <td>76</td>\n",
       "      <td>100</td>\n",
       "      <td>25.59</td>\n",
       "      <td>1599346492</td>\n",
       "    </tr>\n",
       "  </tbody>\n",
       "</table>\n",
       "</div>"
      ],
      "text/plain": [
       "         lat        long        city country max temp humidity cloudiness  \\\n",
       "0 -37.092551  -81.223852        lebu      cl    48.87       86         26   \n",
       "1  35.151068   86.759262       korla      cn       73       52          0   \n",
       "2 -35.321667  170.227764     ahipara      nz    58.39       68        100   \n",
       "3   0.508284  -45.526150  carutapera      br    78.84       83         85   \n",
       "4 -13.533050   78.674963   hithadhoo      mv    80.51       76        100   \n",
       "\n",
       "  wind speed        date  \n",
       "0       0.81  1599346491  \n",
       "1       5.99  1599346491  \n",
       "2      12.64  1599346491  \n",
       "3       7.72  1599346492  \n",
       "4      25.59  1599346492  "
      ]
     },
     "execution_count": 8,
     "metadata": {},
     "output_type": "execute_result"
    }
   ],
   "source": [
    "url = \"http://api.openweathermap.org/data/2.5/weather?\"\n",
    "units = \"imperial\"\n",
    "api_key = weather_api\n",
    "query_url = f\"{url}appid={api_key}&units={units}&q=\"\n",
    "\n",
    "for index, row in cleancities_df.iterrows():\n",
    "    city = row[\"city\"]\n",
    "    response = requests.get(query_url + city).json()\n",
    "    \n",
    "    print(f\"Looking for the weather in city number {index}, {city}\")\n",
    "          \n",
    "    try:\n",
    "          cleancities_df.at[index, \"max temp\"] = response[\"main\"][\"temp_max\"]\n",
    "          cleancities_df.at[index, \"humidity\"] = response[\"main\"][\"humidity\"]\n",
    "          cleancities_df.at[index, \"cloudiness\"] = response[\"clouds\"][\"all\"]\n",
    "          cleancities_df.at[index, \"wind speed\"] = response[\"wind\"][\"speed\"]\n",
    "          cleancities_df.at[index, \"date\"] = response[\"dt\"]\n",
    "    except:\n",
    "          print(\"Missing city. Moving on...\")\n",
    "          \n",
    "\n",
    "cleancities_df.head()"
   ]
  },
  {
   "cell_type": "code",
   "execution_count": 9,
   "metadata": {},
   "outputs": [
    {
     "name": "stdout",
     "output_type": "stream",
     "text": [
      "291\n"
     ]
    }
   ],
   "source": [
    "print(len(cleancities_df[\"city\"]))"
   ]
  },
  {
   "cell_type": "code",
   "execution_count": 10,
   "metadata": {},
   "outputs": [
    {
     "data": {
      "text/plain": [
       "lat           0\n",
       "long          0\n",
       "city          0\n",
       "country       0\n",
       "max temp      0\n",
       "humidity      0\n",
       "cloudiness    0\n",
       "wind speed    0\n",
       "date          0\n",
       "dtype: int64"
      ]
     },
     "execution_count": 10,
     "metadata": {},
     "output_type": "execute_result"
    }
   ],
   "source": [
    "cleancities_df.isnull().sum()"
   ]
  },
  {
   "cell_type": "code",
   "execution_count": 11,
   "metadata": {},
   "outputs": [
    {
     "data": {
      "text/plain": [
       "lat           0\n",
       "long          0\n",
       "city          0\n",
       "country       0\n",
       "max temp      0\n",
       "humidity      0\n",
       "cloudiness    0\n",
       "wind speed    0\n",
       "date          0\n",
       "dtype: int64"
      ]
     },
     "execution_count": 11,
     "metadata": {},
     "output_type": "execute_result"
    }
   ],
   "source": [
    "cleancities_df.dropna(inplace=True)\n",
    "\n",
    "cleancities_df.isnull().sum()\n"
   ]
  },
  {
   "cell_type": "code",
   "execution_count": 12,
   "metadata": {},
   "outputs": [
    {
     "name": "stdout",
     "output_type": "stream",
     "text": [
      "291\n"
     ]
    }
   ],
   "source": [
    "print(len(cleancities_df[\"city\"]))"
   ]
  },
  {
   "cell_type": "code",
   "execution_count": 13,
   "metadata": {
    "scrolled": true
   },
   "outputs": [
    {
     "data": {
      "text/plain": [
       "lat           float64\n",
       "long          float64\n",
       "city           object\n",
       "country        object\n",
       "max temp       object\n",
       "humidity       object\n",
       "cloudiness     object\n",
       "wind speed     object\n",
       "date           object\n",
       "dtype: object"
      ]
     },
     "execution_count": 13,
     "metadata": {},
     "output_type": "execute_result"
    }
   ],
   "source": [
    "cleancities_df.dtypes"
   ]
  },
  {
   "cell_type": "code",
   "execution_count": 14,
   "metadata": {
    "scrolled": true
   },
   "outputs": [
    {
     "data": {
      "text/plain": [
       "lat           float64\n",
       "long          float64\n",
       "city           object\n",
       "country        object\n",
       "max temp      float64\n",
       "humidity      float64\n",
       "cloudiness    float64\n",
       "wind speed    float64\n",
       "date           object\n",
       "dtype: object"
      ]
     },
     "execution_count": 14,
     "metadata": {},
     "output_type": "execute_result"
    }
   ],
   "source": [
    "cleancities_df[\"max temp\"] = pd.to_numeric(cleancities_df[\"max temp\"])\n",
    "cleancities_df[\"humidity\"] = pd.to_numeric(cleancities_df[\"humidity\"])\n",
    "cleancities_df[\"cloudiness\"] = pd.to_numeric(cleancities_df[\"cloudiness\"])\n",
    "cleancities_df[\"wind speed\"] = pd.to_numeric(cleancities_df[\"wind speed\"])\n",
    "\n",
    "cleancities_df.dtypes"
   ]
  },
  {
   "cell_type": "code",
   "execution_count": 15,
   "metadata": {},
   "outputs": [],
   "source": [
    "cleancities_df.to_csv(r\"..\\\\Output\\\\Clean Cities.csv\", index = False, header=True)"
   ]
  },
  {
   "cell_type": "code",
   "execution_count": 16,
   "metadata": {},
   "outputs": [
    {
     "data": {
      "image/png": "[encoded data removed]",
      "text/plain": [
       "<Figure size 432x288 with 1 Axes>"
      ]
     },
     "metadata": {
      "needs_background": "light"
     },
     "output_type": "display_data"
    }
   ],
   "source": [
    "a = cleancities_df.plot.scatter(x=\"lat\", y=\"max temp\").get_figure()\n",
    "plt.title(\"Latitude vs. Max Temperature in chosen Cities\")\n",
    "a.savefig(\"..\\\\Output\\\\latvsmaxtemp.png\")\n",
    "plt.show()"
   ]
  },
  {
   "cell_type": "markdown",
   "metadata": {},
   "source": [
    "### This scatter plot makes the most sense to me. We can notice how temperature increases the closer we move to the Equator."
   ]
  },
  {
   "cell_type": "code",
   "execution_count": 17,
   "metadata": {
    "scrolled": true
   },
   "outputs": [
    {
     "data": {
      "image/png": "[encoded data removed]",
      "text/plain": [
       "<Figure size 432x288 with 1 Axes>"
      ]
     },
     "metadata": {
      "needs_background": "light"
     },
     "output_type": "display_data"
    }
   ],
   "source": [
    "b= cleancities_df.plot.scatter(x=\"lat\", y=\"humidity\").get_figure()\n",
    "plt.title(\"Latitude vs. Humidity in chosen Cities\")\n",
    "b.savefig(\"..\\\\Output\\\\latvshumid.png\")\n",
    "plt.show()"
   ]
  },
  {
   "cell_type": "markdown",
   "metadata": {},
   "source": [
    "### Humidity and Latitude seems a little random. I'd believe that a city would be more humid if it was closer to the ocean. Or maybe it depends on the amount of vegetation there is there."
   ]
  },
  {
   "cell_type": "code",
   "execution_count": 18,
   "metadata": {
    "scrolled": true
   },
   "outputs": [
    {
     "data": {
      "image/png": "[encoded data removed]",
      "text/plain": [
       "<Figure size 432x288 with 1 Axes>"
      ]
     },
     "metadata": {
      "needs_background": "light"
     },
     "output_type": "display_data"
    }
   ],
   "source": [
    "c=cleancities_df.plot.scatter(x=\"lat\", y=\"cloudiness\").get_figure()\n",
    "plt.title(\"Latitude vs. Cloudiness in chosen Cities\")\n",
    "c.savefig(\"..\\\\Output\\\\latvscloud.png\")\n",
    "plt.show()"
   ]
  },
  {
   "cell_type": "markdown",
   "metadata": {},
   "source": [
    "### There doesn't appear to be anything noticeable in this scatter plot."
   ]
  },
  {
   "cell_type": "code",
   "execution_count": 19,
   "metadata": {},
   "outputs": [
    {
     "data": {
      "image/png": "[encoded data removed]",
      "text/plain": [
       "<Figure size 432x288 with 1 Axes>"
      ]
     },
     "metadata": {
      "needs_background": "light"
     },
     "output_type": "display_data"
    }
   ],
   "source": [
    "d=cleancities_df.plot.scatter(x=\"lat\", y=\"wind speed\").get_figure()\n",
    "plt.title(\"Latitude vs. Wind Speed in chosen Cities\")\n",
    "d.savefig(\"..\\\\Output\\\\latvswind.png\")\n",
    "plt.show()"
   ]
  },
  {
   "cell_type": "markdown",
   "metadata": {},
   "source": [
    "### We can see that the cities that were chosen are not that windy. Maybe if we plotted altitude along with latitude and wind speed, we could see another kind of pattern."
   ]
  },
  {
   "cell_type": "markdown",
   "metadata": {},
   "source": [
    "# Now lets makes regressions comparing the Northern and Southern Hemisphere"
   ]
  },
  {
   "cell_type": "code",
   "execution_count": 20,
   "metadata": {},
   "outputs": [],
   "source": [
    "import scipy.stats as st\n",
    "from scipy.stats import linregress"
   ]
  },
  {
   "cell_type": "code",
   "execution_count": 21,
   "metadata": {},
   "outputs": [
    {
     "name": "stderr",
     "output_type": "stream",
     "text": [
      "<ipython-input-21-4312184d1897>:4: SettingWithCopyWarning: \n",
      "A value is trying to be set on a copy of a slice from a DataFrame\n",
      "\n",
      "See the caveats in the documentation: https://pandas.pydata.org/pandas-docs/stable/user_guide/indexing.html#returning-a-view-versus-a-copy\n",
      "  northhem.dropna(inplace=True)\n",
      "<ipython-input-21-4312184d1897>:5: SettingWithCopyWarning: \n",
      "A value is trying to be set on a copy of a slice from a DataFrame\n",
      "\n",
      "See the caveats in the documentation: https://pandas.pydata.org/pandas-docs/stable/user_guide/indexing.html#returning-a-view-versus-a-copy\n",
      "  southhem.dropna(inplace=True)\n"
     ]
    }
   ],
   "source": [
    "northhem = cleancities_df.loc[cleancities_df[\"lat\"]>=0]\n",
    "southhem = cleancities_df.loc[cleancities_df[\"lat\"]<0]\n",
    "\n",
    "northhem.dropna(inplace=True)\n",
    "southhem.dropna(inplace=True)"
   ]
  },
  {
   "cell_type": "code",
   "execution_count": 22,
   "metadata": {},
   "outputs": [],
   "source": [
    "def regression(x_values, y_values, x_label, y_label, eq_pos, save):\n",
    "    (slope, intercept, rvalue, pvalue, stderr) = st.linregress(x_values, y_values)\n",
    "    regress_values = x_values * slope + intercept\n",
    "    line_eq = \"y = \" + str(round(slope,2)) + \"x + \" + str(round(intercept,2))\n",
    "    plt.scatter(x_values,y_values)\n",
    "    plt.plot(x_values,regress_values,\"r-\")\n",
    "    plt.annotate(line_eq,(eq_pos),fontsize=15,color=\"red\")\n",
    "    plt.xlabel(x_label)\n",
    "    plt.ylabel(y_label)\n",
    "    plt.title(f\"{save}\")\n",
    "    print(f\"The r-squared is: {rvalue**2}\")\n",
    "    plt.savefig(f\"..\\\\Output\\\\{save}\")\n",
    "    plt.show()"
   ]
  },
  {
   "cell_type": "code",
   "execution_count": 23,
   "metadata": {},
   "outputs": [
    {
     "name": "stdout",
     "output_type": "stream",
     "text": [
      "The r-squared is: 0.5677006734202428\n"
     ]
    },
    {
     "data": {
      "image/png": "[encoded data removed]",
      "text/plain": [
       "<Figure size 432x288 with 1 Axes>"
      ]
     },
     "metadata": {
      "needs_background": "light"
     },
     "output_type": "display_data"
    }
   ],
   "source": [
    "x_label = \"lat\"\n",
    "y_label = \"max temp\"\n",
    "\n",
    "eq_pos = (0,40)\n",
    "\n",
    "regression(northhem[x_label], northhem[y_label], x_label, y_label, eq_pos, \"NorthHemLatvsMaxTemp\")"
   ]
  },
  {
   "cell_type": "code",
   "execution_count": 24,
   "metadata": {},
   "outputs": [
    {
     "name": "stdout",
     "output_type": "stream",
     "text": [
      "The r-squared is: 0.3447784682863659\n"
     ]
    },
    {
     "data": {
      "image/png": "[encoded data removed]",
      "text/plain": [
       "<Figure size 432x288 with 1 Axes>"
      ]
     },
     "metadata": {
      "needs_background": "light"
     },
     "output_type": "display_data"
    }
   ],
   "source": [
    "x_label = \"lat\"\n",
    "y_label = \"max temp\"\n",
    "\n",
    "eq_pos = (-80,80)\n",
    "\n",
    "regression(southhem[x_label], southhem[y_label], x_label, y_label, eq_pos, \"SouthHemLatvsMaxTemp\")"
   ]
  },
  {
   "cell_type": "code",
   "execution_count": 25,
   "metadata": {},
   "outputs": [
    {
     "name": "stdout",
     "output_type": "stream",
     "text": [
      "The r-squared is: 1.7327639241970638e-05\n"
     ]
    },
    {
     "data": {
      "image/png": "[encoded data removed]",
      "text/plain": [
       "<Figure size 432x288 with 1 Axes>"
      ]
     },
     "metadata": {
      "needs_background": "light"
     },
     "output_type": "display_data"
    }
   ],
   "source": [
    "x_label = \"lat\"\n",
    "y_label = \"humidity\"\n",
    "\n",
    "eq_pos = (50,20)\n",
    "\n",
    "regression(northhem[x_label], northhem[y_label], x_label, y_label, eq_pos, \"NorthHemLatvsHumidity\")"
   ]
  },
  {
   "cell_type": "code",
   "execution_count": 26,
   "metadata": {},
   "outputs": [
    {
     "name": "stdout",
     "output_type": "stream",
     "text": [
      "The r-squared is: 0.0003254677992236528\n"
     ]
    },
    {
     "data": {
      "image/png": "[encoded data removed]",
      "text/plain": [
       "<Figure size 432x288 with 1 Axes>"
      ]
     },
     "metadata": {
      "needs_background": "light"
     },
     "output_type": "display_data"
    }
   ],
   "source": [
    "x_label = \"lat\"\n",
    "y_label = \"humidity\"\n",
    "\n",
    "eq_pos = (-80,20)\n",
    "\n",
    "regression(southhem[x_label], southhem[y_label], x_label, y_label, eq_pos, \"SouthHemLatvsHumidity\")"
   ]
  },
  {
   "cell_type": "code",
   "execution_count": 27,
   "metadata": {},
   "outputs": [
    {
     "name": "stdout",
     "output_type": "stream",
     "text": [
      "The r-squared is: 0.0008843378171479677\n"
     ]
    },
    {
     "data": {
      "image/png": "[encoded data removed]",
      "text/plain": [
       "<Figure size 432x288 with 1 Axes>"
      ]
     },
     "metadata": {
      "needs_background": "light"
     },
     "output_type": "display_data"
    }
   ],
   "source": [
    "x_label = \"lat\"\n",
    "y_label = \"cloudiness\"\n",
    "\n",
    "eq_pos = (50,10)\n",
    "\n",
    "regression(northhem[x_label], northhem[y_label], x_label, y_label, eq_pos, \"NorthHemLatvsCloudiness\")"
   ]
  },
  {
   "cell_type": "code",
   "execution_count": 28,
   "metadata": {},
   "outputs": [
    {
     "name": "stdout",
     "output_type": "stream",
     "text": [
      "The r-squared is: 0.07118533173274112\n"
     ]
    },
    {
     "data": {
      "image/png": "[encoded data removed]",
      "text/plain": [
       "<Figure size 432x288 with 1 Axes>"
      ]
     },
     "metadata": {
      "needs_background": "light"
     },
     "output_type": "display_data"
    }
   ],
   "source": [
    "x_label = \"lat\"\n",
    "y_label = \"cloudiness\"\n",
    "\n",
    "eq_pos = (-90,5)\n",
    "\n",
    "regression(southhem[x_label], southhem[y_label], x_label, y_label, eq_pos, \"SouthHemLatvsCloudiness\")"
   ]
  },
  {
   "cell_type": "code",
   "execution_count": 29,
   "metadata": {},
   "outputs": [
    {
     "name": "stdout",
     "output_type": "stream",
     "text": [
      "The r-squared is: 0.00136386170808038\n"
     ]
    },
    {
     "data": {
      "image/png": "[encoded data removed]",
      "text/plain": [
       "<Figure size 432x288 with 1 Axes>"
      ]
     },
     "metadata": {
      "needs_background": "light"
     },
     "output_type": "display_data"
    }
   ],
   "source": [
    "x_label = \"lat\"\n",
    "y_label = \"wind speed\"\n",
    "\n",
    "eq_pos = (50,30)\n",
    "\n",
    "regression(northhem[x_label], northhem[y_label], x_label, y_label, eq_pos, \"NorthHemLatvsWindSpeed\")"
   ]
  },
  {
   "cell_type": "code",
   "execution_count": 30,
   "metadata": {},
   "outputs": [
    {
     "name": "stdout",
     "output_type": "stream",
     "text": [
      "The r-squared is: 0.007255661088078267\n"
     ]
    },
    {
     "data": {
      "image/png": "[encoded data removed]",
      "text/plain": [
       "<Figure size 432x288 with 1 Axes>"
      ]
     },
     "metadata": {
      "needs_background": "light"
     },
     "output_type": "display_data"
    }
   ],
   "source": [
    "x_label = \"lat\"\n",
    "y_label = \"wind speed\"\n",
    "\n",
    "eq_pos = (-80,20)\n",
    "\n",
    "regression(southhem[x_label], southhem[y_label], x_label, y_label, eq_pos, \"SouthHemLatvsWindSpeed\")"
   ]
  },
  {
   "cell_type": "markdown",
   "metadata": {},
   "source": [
    "# Observations:"
   ]
  },
  {
   "cell_type": "markdown",
   "metadata": {},
   "source": [
    "## 1. Temperature is affected by how close you are to the Equator."
   ]
  },
  {
   "cell_type": "markdown",
   "metadata": {},
   "source": [
    "## 2. Wind Speed tends to increase the farther away your are from the Equator."
   ]
  },
  {
   "cell_type": "markdown",
   "metadata": {},
   "source": [
    "## 3. Cloudiness tends to increase the farther away you are from the Equator."
   ]
  },
  {
   "cell_type": "code",
   "execution_count": null,
   "metadata": {},
   "outputs": [],
   "source": []
  }
 ],
 "metadata": {
  "kernelspec": {
   "display_name": "Python 3",
   "language": "python",
   "name": "python3"
  },
  "language_info": {
   "codemirror_mode": {
    "name": "ipython",
    "version": 3
   },
   "file_extension": ".py",
   "mimetype": "text/x-python",
   "name": "python",
   "nbconvert_exporter": "python",
   "pygments_lexer": "ipython3",
   "version": "3.8.3"
  }
 },
 "nbformat": 4,
 "nbformat_minor": 4
}
