{
 "cells": [
  {
   "cell_type": "code",
   "execution_count": 1,
   "metadata": {},
   "outputs": [],
   "source": [
    "from citipy import citipy\n",
    "import pandas as pd\n",
    "import numpy as np\n",
    "import json\n",
    "import requests\n",
    "import matplotlib.pyplot as plt\n",
    "from config import weather_api\n",
    "from pprint import pprint"
   ]
  },
  {
   "cell_type": "markdown",
   "metadata": {},
   "source": [
    "# Creating the cities DataFrame"
   ]
  },
  {
   "cell_type": "code",
   "execution_count": 2,
   "metadata": {},
   "outputs": [
    {
     "name": "stdout",
     "output_type": "stream",
     "text": [
      "500\n"
     ]
    },
    {
     "data": {
      "text/html": [
       "<div>\n",
       "<style scoped>\n",
       "    .dataframe tbody tr th:only-of-type {\n",
       "        vertical-align: middle;\n",
       "    }\n",
       "\n",
       "    .dataframe tbody tr th {\n",
       "        vertical-align: top;\n",
       "    }\n",
       "\n",
       "    .dataframe thead th {\n",
       "        text-align: right;\n",
       "    }\n",
       "</style>\n",
       "<table border=\"1\" class=\"dataframe\">\n",
       "  <thead>\n",
       "    <tr style=\"text-align: right;\">\n",
       "      <th></th>\n",
       "      <th>lat</th>\n",
       "      <th>long</th>\n",
       "    </tr>\n",
       "  </thead>\n",
       "  <tbody>\n",
       "    <tr>\n",
       "      <th>0</th>\n",
       "      <td>-82.120560</td>\n",
       "      <td>-34.345550</td>\n",
       "    </tr>\n",
       "    <tr>\n",
       "      <th>1</th>\n",
       "      <td>-41.105506</td>\n",
       "      <td>94.113278</td>\n",
       "    </tr>\n",
       "    <tr>\n",
       "      <th>2</th>\n",
       "      <td>-36.833358</td>\n",
       "      <td>41.336667</td>\n",
       "    </tr>\n",
       "    <tr>\n",
       "      <th>3</th>\n",
       "      <td>28.578831</td>\n",
       "      <td>110.098468</td>\n",
       "    </tr>\n",
       "    <tr>\n",
       "      <th>4</th>\n",
       "      <td>10.544752</td>\n",
       "      <td>84.422507</td>\n",
       "    </tr>\n",
       "  </tbody>\n",
       "</table>\n",
       "</div>"
      ],
      "text/plain": [
       "         lat        long\n",
       "0 -82.120560  -34.345550\n",
       "1 -41.105506   94.113278\n",
       "2 -36.833358   41.336667\n",
       "3  28.578831  110.098468\n",
       "4  10.544752   84.422507"
      ]
     },
     "execution_count": 2,
     "metadata": {},
     "output_type": "execute_result"
    }
   ],
   "source": [
    "#Create a list of random latitudes and longitudes\n",
    "cities_df = pd.DataFrame({\"lat\":np.random.uniform(-90,90,500), \"long\":np.random.uniform(-180,180,500)})\n",
    "\n",
    "print(len(cities_df))\n",
    "\n",
    "cities_df.head()"
   ]
  },
  {
   "cell_type": "code",
   "execution_count": 3,
   "metadata": {},
   "outputs": [
    {
     "data": {
      "text/html": [
       "<div>\n",
       "<style scoped>\n",
       "    .dataframe tbody tr th:only-of-type {\n",
       "        vertical-align: middle;\n",
       "    }\n",
       "\n",
       "    .dataframe tbody tr th {\n",
       "        vertical-align: top;\n",
       "    }\n",
       "\n",
       "    .dataframe thead th {\n",
       "        text-align: right;\n",
       "    }\n",
       "</style>\n",
       "<table border=\"1\" class=\"dataframe\">\n",
       "  <thead>\n",
       "    <tr style=\"text-align: right;\">\n",
       "      <th></th>\n",
       "      <th>lat</th>\n",
       "      <th>long</th>\n",
       "      <th>city</th>\n",
       "      <th>country</th>\n",
       "    </tr>\n",
       "  </thead>\n",
       "  <tbody>\n",
       "    <tr>\n",
       "      <th>0</th>\n",
       "      <td>-82.120560</td>\n",
       "      <td>-34.345550</td>\n",
       "      <td>ushuaia</td>\n",
       "      <td>ar</td>\n",
       "    </tr>\n",
       "    <tr>\n",
       "      <th>1</th>\n",
       "      <td>-41.105506</td>\n",
       "      <td>94.113278</td>\n",
       "      <td>busselton</td>\n",
       "      <td>au</td>\n",
       "    </tr>\n",
       "    <tr>\n",
       "      <th>2</th>\n",
       "      <td>-36.833358</td>\n",
       "      <td>41.336667</td>\n",
       "      <td>beloha</td>\n",
       "      <td>mg</td>\n",
       "    </tr>\n",
       "    <tr>\n",
       "      <th>3</th>\n",
       "      <td>28.578831</td>\n",
       "      <td>110.098468</td>\n",
       "      <td>jishou</td>\n",
       "      <td>cn</td>\n",
       "    </tr>\n",
       "    <tr>\n",
       "      <th>4</th>\n",
       "      <td>10.544752</td>\n",
       "      <td>84.422507</td>\n",
       "      <td>trincomalee</td>\n",
       "      <td>lk</td>\n",
       "    </tr>\n",
       "  </tbody>\n",
       "</table>\n",
       "</div>"
      ],
      "text/plain": [
       "         lat        long         city country\n",
       "0 -82.120560  -34.345550      ushuaia      ar\n",
       "1 -41.105506   94.113278    busselton      au\n",
       "2 -36.833358   41.336667       beloha      mg\n",
       "3  28.578831  110.098468       jishou      cn\n",
       "4  10.544752   84.422507  trincomalee      lk"
      ]
     },
     "execution_count": 3,
     "metadata": {},
     "output_type": "execute_result"
    }
   ],
   "source": [
    "city_name = []\n",
    "country_list =[]\n",
    "\n",
    "for coords in range(0, len(cities_df[\"lat\"])):\n",
    "    lat=cities_df.iloc[coords][\"lat\"]\n",
    "    long=cities_df.iloc[coords][\"long\"]\n",
    "    city = citipy.nearest_city(lat,long)\n",
    "    name= city.city_name\n",
    "    city_name.append(name)\n",
    "    country= city.country_code\n",
    "    country_list.append(country)\n",
    "\n",
    "cities_df[\"city\"]=city_name\n",
    "cities_df[\"country\"]=country_list\n",
    "\n",
    "cities_df.head()"
   ]
  },
  {
   "cell_type": "code",
   "execution_count": 4,
   "metadata": {},
   "outputs": [
    {
     "data": {
      "text/plain": [
       "False    283\n",
       "True     217\n",
       "Name: city, dtype: int64"
      ]
     },
     "execution_count": 4,
     "metadata": {},
     "output_type": "execute_result"
    }
   ],
   "source": [
    "cities_df[\"city\"].duplicated().value_counts()"
   ]
  },
  {
   "cell_type": "markdown",
   "metadata": {},
   "source": [
    "### Since there are duplicated cities in our DF, we  have to drop those specific rows. "
   ]
  },
  {
   "cell_type": "code",
   "execution_count": 5,
   "metadata": {},
   "outputs": [],
   "source": [
    "cleancities_df = cities_df.drop_duplicates(subset=\"city\", keep=\"first\").reset_index(drop=True)\n"
   ]
  },
  {
   "cell_type": "code",
   "execution_count": 6,
   "metadata": {},
   "outputs": [
    {
     "data": {
      "text/plain": [
       "283"
      ]
     },
     "execution_count": 6,
     "metadata": {},
     "output_type": "execute_result"
    }
   ],
   "source": [
    "len(cleancities_df)"
   ]
  },
  {
   "cell_type": "markdown",
   "metadata": {},
   "source": [
    "### Now that we have a clean data set, we can keep going with the exercise."
   ]
  },
  {
   "cell_type": "code",
   "execution_count": 7,
   "metadata": {},
   "outputs": [
    {
     "data": {
      "text/html": [
       "<div>\n",
       "<style scoped>\n",
       "    .dataframe tbody tr th:only-of-type {\n",
       "        vertical-align: middle;\n",
       "    }\n",
       "\n",
       "    .dataframe tbody tr th {\n",
       "        vertical-align: top;\n",
       "    }\n",
       "\n",
       "    .dataframe thead th {\n",
       "        text-align: right;\n",
       "    }\n",
       "</style>\n",
       "<table border=\"1\" class=\"dataframe\">\n",
       "  <thead>\n",
       "    <tr style=\"text-align: right;\">\n",
       "      <th></th>\n",
       "      <th>lat</th>\n",
       "      <th>long</th>\n",
       "      <th>city</th>\n",
       "      <th>country</th>\n",
       "      <th>max temp</th>\n",
       "      <th>humidity</th>\n",
       "      <th>cloudiness</th>\n",
       "      <th>wind speed</th>\n",
       "      <th>date</th>\n",
       "    </tr>\n",
       "  </thead>\n",
       "  <tbody>\n",
       "    <tr>\n",
       "      <th>0</th>\n",
       "      <td>-82.120560</td>\n",
       "      <td>-34.345550</td>\n",
       "      <td>ushuaia</td>\n",
       "      <td>ar</td>\n",
       "      <td></td>\n",
       "      <td></td>\n",
       "      <td></td>\n",
       "      <td></td>\n",
       "      <td></td>\n",
       "    </tr>\n",
       "    <tr>\n",
       "      <th>1</th>\n",
       "      <td>-41.105506</td>\n",
       "      <td>94.113278</td>\n",
       "      <td>busselton</td>\n",
       "      <td>au</td>\n",
       "      <td></td>\n",
       "      <td></td>\n",
       "      <td></td>\n",
       "      <td></td>\n",
       "      <td></td>\n",
       "    </tr>\n",
       "    <tr>\n",
       "      <th>2</th>\n",
       "      <td>-36.833358</td>\n",
       "      <td>41.336667</td>\n",
       "      <td>beloha</td>\n",
       "      <td>mg</td>\n",
       "      <td></td>\n",
       "      <td></td>\n",
       "      <td></td>\n",
       "      <td></td>\n",
       "      <td></td>\n",
       "    </tr>\n",
       "    <tr>\n",
       "      <th>3</th>\n",
       "      <td>28.578831</td>\n",
       "      <td>110.098468</td>\n",
       "      <td>jishou</td>\n",
       "      <td>cn</td>\n",
       "      <td></td>\n",
       "      <td></td>\n",
       "      <td></td>\n",
       "      <td></td>\n",
       "      <td></td>\n",
       "    </tr>\n",
       "    <tr>\n",
       "      <th>4</th>\n",
       "      <td>10.544752</td>\n",
       "      <td>84.422507</td>\n",
       "      <td>trincomalee</td>\n",
       "      <td>lk</td>\n",
       "      <td></td>\n",
       "      <td></td>\n",
       "      <td></td>\n",
       "      <td></td>\n",
       "      <td></td>\n",
       "    </tr>\n",
       "  </tbody>\n",
       "</table>\n",
       "</div>"
      ],
      "text/plain": [
       "         lat        long         city country max temp humidity cloudiness  \\\n",
       "0 -82.120560  -34.345550      ushuaia      ar                                \n",
       "1 -41.105506   94.113278    busselton      au                                \n",
       "2 -36.833358   41.336667       beloha      mg                                \n",
       "3  28.578831  110.098468       jishou      cn                                \n",
       "4  10.544752   84.422507  trincomalee      lk                                \n",
       "\n",
       "  wind speed date  \n",
       "0                  \n",
       "1                  \n",
       "2                  \n",
       "3                  \n",
       "4                  "
      ]
     },
     "execution_count": 7,
     "metadata": {},
     "output_type": "execute_result"
    }
   ],
   "source": [
    "cleancities_df[\"max temp\"] = \"\"\n",
    "cleancities_df[\"humidity\"] = \"\"\n",
    "cleancities_df[\"cloudiness\"] = \"\"\n",
    "cleancities_df[\"wind speed\"] = \"\"\n",
    "cleancities_df[\"date\"] = \"\"\n",
    "\n",
    "cleancities_df.head()"
   ]
  },
  {
   "cell_type": "code",
   "execution_count": 8,
   "metadata": {
    "scrolled": true
   },
   "outputs": [
    {
     "name": "stdout",
     "output_type": "stream",
     "text": [
      "Looking for the weather in city number 0, ushuaia\n",
      "{'coord': {'lon': -68.3, 'lat': -54.8}, 'weather': [{'id': 803, 'main': 'Clouds', 'description': 'broken clouds', 'icon': '04n'}], 'base': 'stations', 'main': {'temp': 42.8, 'feels_like': 29.41, 'temp_min': 42.8, 'temp_max': 42.8, 'pressure': 1000, 'humidity': 52}, 'visibility': 10000, 'wind': {'speed': 16.11, 'deg': 360}, 'clouds': {'all': 75}, 'dt': 1599706358, 'sys': {'type': 1, 'id': 8303, 'country': 'AR', 'sunrise': 1599648817, 'sunset': 1599689247}, 'timezone': -10800, 'id': 3833367, 'name': 'Ushuaia', 'cod': 200}\n",
      "Looking for the weather in city number 1, busselton\n",
      "{'coord': {'lon': 115.33, 'lat': -33.65}, 'weather': [{'id': 800, 'main': 'Clear', 'description': 'clear sky', 'icon': '01d'}], 'base': 'stations', 'main': {'temp': 56.64, 'feels_like': 52.29, 'temp_min': 55.99, 'temp_max': 57, 'pressure': 1014, 'humidity': 67}, 'visibility': 10000, 'wind': {'speed': 5.99, 'deg': 268, 'gust': 15.01}, 'clouds': {'all': 0}, 'dt': 1599706647, 'sys': {'type': 3, 'id': 2020551, 'country': 'AU', 'sunrise': 1599690292, 'sunset': 1599732408}, 'timezone': 28800, 'id': 2075265, 'name': 'Busselton', 'cod': 200}\n",
      "Looking for the weather in city number 2, beloha\n",
      "{'coord': {'lon': 45.05, 'lat': -25.17}, 'weather': [{'id': 802, 'main': 'Clouds', 'description': 'scattered clouds', 'icon': '03d'}], 'base': 'stations', 'main': {'temp': 70.97, 'feels_like': 67.95, 'temp_min': 70.97, 'temp_max': 70.97, 'pressure': 1020, 'humidity': 64, 'sea_level': 1020, 'grnd_level': 1002}, 'visibility': 10000, 'wind': {'speed': 10.02, 'deg': 60}, 'clouds': {'all': 48}, 'dt': 1599706937, 'sys': {'country': 'MG', 'sunrise': 1599706936, 'sunset': 1599749490}, 'timezone': 10800, 'id': 1067565, 'name': 'Beloha', 'cod': 200}\n",
      "Looking for the weather in city number 3, jishou\n",
      "{'coord': {'lon': 109.72, 'lat': 28.32}, 'weather': [{'id': 803, 'main': 'Clouds', 'description': 'broken clouds', 'icon': '04d'}], 'base': 'stations', 'main': {'temp': 80.22, 'feels_like': 88.41, 'temp_min': 80.22, 'temp_max': 80.22, 'pressure': 1007, 'humidity': 79, 'sea_level': 1007, 'grnd_level': 979}, 'visibility': 10000, 'wind': {'speed': 1.92, 'deg': 57}, 'clouds': {'all': 79}, 'dt': 1599706938, 'sys': {'country': 'CN', 'sunrise': 1599690236, 'sunset': 1599735157}, 'timezone': 28800, 'id': 1805270, 'name': 'Jishou', 'cod': 200}\n",
      "Looking for the weather in city number 4, trincomalee\n",
      "{'coord': {'lon': 81.23, 'lat': 8.57}, 'weather': [{'id': 804, 'main': 'Clouds', 'description': 'overcast clouds', 'icon': '04d'}], 'base': 'stations', 'main': {'temp': 83.71, 'feels_like': 82.89, 'temp_min': 83.71, 'temp_max': 83.71, 'pressure': 1008, 'humidity': 71, 'sea_level': 1008, 'grnd_level': 1007}, 'visibility': 10000, 'wind': {'speed': 18.12, 'deg': 235}, 'clouds': {'all': 91}, 'dt': 1599706858, 'sys': {'country': 'LK', 'sunrise': 1599697554, 'sunset': 1599741510}, 'timezone': 19800, 'id': 1226260, 'name': 'Trincomalee', 'cod': 200}\n",
      "Looking for the weather in city number 5, kavieng\n",
      "{'coord': {'lon': 150.8, 'lat': -2.57}, 'weather': [{'id': 500, 'main': 'Rain', 'description': 'light rain', 'icon': '10d'}], 'base': 'stations', 'main': {'temp': 85.05, 'feels_like': 89.6, 'temp_min': 85.05, 'temp_max': 85.05, 'pressure': 1006, 'humidity': 69, 'sea_level': 1006, 'grnd_level': 1004}, 'visibility': 10000, 'wind': {'speed': 8.99, 'deg': 72}, 'rain': {'1h': 0.12}, 'clouds': {'all': 29}, 'dt': 1599706665, 'sys': {'country': 'PG', 'sunrise': 1599681092, 'sunset': 1599724586}, 'timezone': 36000, 'id': 2094342, 'name': 'Kavieng', 'cod': 200}\n",
      "Looking for the weather in city number 6, vaini\n",
      "{'coord': {'lon': -175.2, 'lat': -21.2}, 'weather': [{'id': 501, 'main': 'Rain', 'description': 'moderate rain', 'icon': '10n'}], 'base': 'stations', 'main': {'temp': 75.2, 'feels_like': 76.6, 'temp_min': 75.2, 'temp_max': 75.2, 'pressure': 1005, 'humidity': 100}, 'visibility': 2000, 'wind': {'speed': 16.11, 'deg': 350}, 'clouds': {'all': 90}, 'dt': 1599706653, 'sys': {'type': 1, 'id': 7285, 'country': 'TO', 'sunrise': 1599759673, 'sunset': 1599802447}, 'timezone': 46800, 'id': 4032243, 'name': 'Vaini', 'cod': 200}\n",
      "Looking for the weather in city number 7, punta arenas\n",
      "{'coord': {'lon': -70.92, 'lat': -53.15}, 'weather': [{'id': 804, 'main': 'Clouds', 'description': 'overcast clouds', 'icon': '04n'}], 'base': 'stations', 'main': {'temp': 41, 'feels_like': 33.78, 'temp_min': 41, 'temp_max': 41, 'pressure': 998, 'humidity': 75}, 'visibility': 10000, 'wind': {'speed': 6.93, 'deg': 50}, 'clouds': {'all': 100}, 'dt': 1599706644, 'sys': {'type': 1, 'id': 8487, 'country': 'CL', 'sunrise': 1599649356, 'sunset': 1599689965}, 'timezone': -10800, 'id': 3874787, 'name': 'Punta Arenas', 'cod': 200}\n",
      "Looking for the weather in city number 8, taolanaro\n",
      "{'cod': '404', 'message': 'city not found'}\n",
      "Missing city. Moving on...\n",
      "Looking for the weather in city number 9, thilogne\n",
      "{'cod': '404', 'message': 'city not found'}\n",
      "Missing city. Moving on...\n",
      "Looking for the weather in city number 10, new norfolk\n",
      "{'coord': {'lon': 147.06, 'lat': -42.78}, 'weather': [{'id': 800, 'main': 'Clear', 'description': 'clear sky', 'icon': '01d'}], 'base': 'stations', 'main': {'temp': 58.95, 'feels_like': 55.17, 'temp_min': 55.99, 'temp_max': 62.01, 'pressure': 1027, 'humidity': 45}, 'visibility': 10000, 'wind': {'speed': 1.99, 'deg': 270, 'gust': 5.01}, 'clouds': {'all': 0}, 'dt': 1599706678, 'sys': {'type': 3, 'id': 2031307, 'country': 'AU', 'sunrise': 1599682960, 'sunset': 1599724514}, 'timezone': 36000, 'id': 2155415, 'name': 'New Norfolk', 'cod': 200}\n",
      "Looking for the weather in city number 11, kapaa\n",
      "{'coord': {'lon': -159.32, 'lat': 22.08}, 'weather': [{'id': 802, 'main': 'Clouds', 'description': 'scattered clouds', 'icon': '03d'}], 'base': 'stations', 'main': {'temp': 82.18, 'feels_like': 79.7, 'temp_min': 80.01, 'temp_max': 86, 'pressure': 1015, 'humidity': 62}, 'visibility': 10000, 'wind': {'speed': 16.11, 'deg': 50}, 'clouds': {'all': 40}, 'dt': 1599706670, 'sys': {'type': 1, 'id': 7873, 'country': 'US', 'sunrise': 1599668569, 'sunset': 1599713173}, 'timezone': -36000, 'id': 5848280, 'name': 'Kapaa', 'cod': 200}\n",
      "Looking for the weather in city number 12, dikson\n",
      "{'coord': {'lon': 80.55, 'lat': 73.51}, 'weather': [{'id': 804, 'main': 'Clouds', 'description': 'overcast clouds', 'icon': '04d'}], 'base': 'stations', 'main': {'temp': 43.02, 'feels_like': 31.17, 'temp_min': 43.02, 'temp_max': 43.02, 'pressure': 1007, 'humidity': 94, 'sea_level': 1007, 'grnd_level': 1001}, 'visibility': 10000, 'wind': {'speed': 17.58, 'deg': 182}, 'clouds': {'all': 100}, 'dt': 1599706647, 'sys': {'country': 'RU', 'sunrise': 1599693357, 'sunset': 1599746034}, 'timezone': 25200, 'id': 1507390, 'name': 'Dikson', 'cod': 200}\n",
      "Looking for the weather in city number 13, shiyan\n",
      "{'coord': {'lon': 110.78, 'lat': 32.65}, 'weather': [{'id': 804, 'main': 'Clouds', 'description': 'overcast clouds', 'icon': '04d'}], 'base': 'stations', 'main': {'temp': 71.6, 'feels_like': 76.6, 'temp_min': 71.6, 'temp_max': 71.6, 'pressure': 1011, 'humidity': 82, 'sea_level': 1011, 'grnd_level': 983}, 'visibility': 10000, 'wind': {'speed': 1.12, 'deg': 241}, 'clouds': {'all': 100}, 'dt': 1599706940, 'sys': {'country': 'CN', 'sunrise': 1599689851, 'sunset': 1599735033}, 'timezone': 28800, 'id': 1794903, 'name': 'Shiyan', 'cod': 200}\n",
      "Looking for the weather in city number 14, ribeira grande\n",
      "{'coord': {'lon': -28.7, 'lat': 38.52}, 'weather': [{'id': 800, 'main': 'Clear', 'description': 'clear sky', 'icon': '01n'}], 'base': 'stations', 'main': {'temp': 72, 'feels_like': 69.8, 'temp_min': 72, 'temp_max': 72, 'pressure': 1021, 'humidity': 84, 'sea_level': 1021, 'grnd_level': 1019}, 'visibility': 10000, 'wind': {'speed': 14.79, 'deg': 159}, 'clouds': {'all': 2}, 'dt': 1599706653, 'sys': {'country': 'PT', 'sunrise': 1599723145, 'sunset': 1599768672}, 'timezone': 0, 'id': 3372707, 'name': 'Ribeira Grande', 'cod': 200}\n",
      "Looking for the weather in city number 15, lasa\n",
      "{'coord': {'lon': 10.7, 'lat': 46.62}, 'weather': [{'id': 800, 'main': 'Clear', 'description': 'clear sky', 'icon': '01n'}], 'base': 'stations', 'main': {'temp': 55.04, 'feels_like': 54.72, 'temp_min': 51.8, 'temp_max': 57.99, 'pressure': 1025, 'humidity': 100}, 'visibility': 10000, 'wind': {'speed': 3.36, 'deg': 360}, 'clouds': {'all': 5}, 'dt': 1599706694, 'sys': {'type': 1, 'id': 6813, 'country': 'IT', 'sunrise': 1599713345, 'sunset': 1599759565}, 'timezone': 7200, 'id': 3175096, 'name': 'Laas', 'cod': 200}\n"
     ]
    },
    {
     "name": "stdout",
     "output_type": "stream",
     "text": [
      "Looking for the weather in city number 16, kropachevo\n",
      "{'coord': {'lon': 57.99, 'lat': 55.01}, 'weather': [{'id': 500, 'main': 'Rain', 'description': 'light rain', 'icon': '10d'}], 'base': 'stations', 'main': {'temp': 51.46, 'feels_like': 49.1, 'temp_min': 51.46, 'temp_max': 51.46, 'pressure': 1013, 'humidity': 88, 'sea_level': 1013, 'grnd_level': 966}, 'visibility': 10000, 'wind': {'speed': 3.4, 'deg': 145}, 'rain': {'1h': 0.3736}, 'clouds': {'all': 100}, 'dt': 1599706940, 'sys': {'country': 'RU', 'sunrise': 1599701494, 'sunset': 1599748723}, 'timezone': 18000, 'id': 540769, 'name': 'Kropachëvo', 'cod': 200}\n",
      "Looking for the weather in city number 17, puerto ayora\n",
      "{'coord': {'lon': -90.35, 'lat': -0.74}, 'weather': [{'id': 803, 'main': 'Clouds', 'description': 'broken clouds', 'icon': '04n'}], 'base': 'stations', 'main': {'temp': 66, 'feels_like': 69.26, 'temp_min': 66, 'temp_max': 66, 'pressure': 1015, 'humidity': 94}, 'visibility': 10000, 'wind': {'speed': 3, 'deg': 185, 'gust': 5.01}, 'clouds': {'all': 71}, 'dt': 1599706682, 'sys': {'type': 3, 'id': 2005652, 'country': 'EC', 'sunrise': 1599652538, 'sunset': 1599696107}, 'timezone': -21600, 'id': 3652764, 'name': 'Puerto Ayora', 'cod': 200}\n",
      "Looking for the weather in city number 18, illoqqortoormiut\n",
      "{'cod': '404', 'message': 'city not found'}\n",
      "Missing city. Moving on...\n",
      "Looking for the weather in city number 19, bluff\n",
      "{'coord': {'lon': 168.33, 'lat': -46.6}, 'weather': [{'id': 804, 'main': 'Clouds', 'description': 'overcast clouds', 'icon': '04d'}], 'base': 'stations', 'main': {'temp': 50, 'feels_like': 40.59, 'temp_min': 50, 'temp_max': 50, 'pressure': 1014, 'humidity': 78}, 'visibility': 10000, 'wind': {'speed': 14, 'deg': 227, 'gust': 23}, 'clouds': {'all': 96}, 'dt': 1599706645, 'sys': {'type': 3, 'id': 2008959, 'country': 'NZ', 'sunrise': 1599678000, 'sunset': 1599719266}, 'timezone': 43200, 'id': 2206939, 'name': 'Bluff', 'cod': 200}\n",
      "Looking for the weather in city number 20, peruibe\n",
      "{'coord': {'lon': -47, 'lat': -24.32}, 'weather': [{'id': 804, 'main': 'Clouds', 'description': 'overcast clouds', 'icon': '04n'}], 'base': 'stations', 'main': {'temp': 67.26, 'feels_like': 70.81, 'temp_min': 67.26, 'temp_max': 67.26, 'pressure': 1018, 'humidity': 92, 'sea_level': 1018, 'grnd_level': 1017}, 'visibility': 10000, 'wind': {'speed': 3, 'deg': 331}, 'clouds': {'all': 95}, 'dt': 1599706652, 'sys': {'country': 'BR', 'sunrise': 1599728993, 'sunset': 1599771606}, 'timezone': -10800, 'id': 3454061, 'name': 'Peruíbe', 'cod': 200}\n",
      "Looking for the weather in city number 21, christiana\n",
      "{'coord': {'lon': 25.16, 'lat': -27.91}, 'weather': [{'id': 800, 'main': 'Clear', 'description': 'clear sky', 'icon': '01n'}], 'base': 'stations', 'main': {'temp': 54.86, 'feels_like': 48.76, 'temp_min': 54.86, 'temp_max': 54.86, 'pressure': 1020, 'humidity': 39, 'sea_level': 1020, 'grnd_level': 885}, 'visibility': 10000, 'wind': {'speed': 4.07, 'deg': 244}, 'clouds': {'all': 0}, 'dt': 1599706941, 'sys': {'country': 'ZA', 'sunrise': 1599711770, 'sunset': 1599754201}, 'timezone': 7200, 'id': 1013550, 'name': 'Christiana', 'cod': 200}\n",
      "Looking for the weather in city number 22, vrangel\n",
      "{'coord': {'lon': 133.08, 'lat': 42.73}, 'weather': [{'id': 802, 'main': 'Clouds', 'description': 'scattered clouds', 'icon': '03d'}], 'base': 'stations', 'main': {'temp': 69.64, 'feels_like': 67.35, 'temp_min': 69.64, 'temp_max': 69.64, 'pressure': 1008, 'humidity': 70, 'sea_level': 1008, 'grnd_level': 1007}, 'visibility': 10000, 'wind': {'speed': 9.48, 'deg': 112}, 'clouds': {'all': 32}, 'dt': 1599706942, 'sys': {'country': 'RU', 'sunrise': 1599684127, 'sunset': 1599730056}, 'timezone': 36000, 'id': 2013258, 'name': \"Vrangel'\", 'cod': 200}\n",
      "Looking for the weather in city number 23, kirakira\n",
      "{'coord': {'lon': 161.92, 'lat': -10.45}, 'weather': [{'id': 804, 'main': 'Clouds', 'description': 'overcast clouds', 'icon': '04d'}], 'base': 'stations', 'main': {'temp': 81.95, 'feels_like': 84.52, 'temp_min': 81.95, 'temp_max': 81.95, 'pressure': 1006, 'humidity': 69, 'sea_level': 1006, 'grnd_level': 1006}, 'visibility': 10000, 'wind': {'speed': 9.66, 'deg': 127}, 'clouds': {'all': 100}, 'dt': 1599706942, 'sys': {'country': 'SB', 'sunrise': 1599678587, 'sunset': 1599721756}, 'timezone': 39600, 'id': 2178753, 'name': 'Kirakira', 'cod': 200}\n",
      "Looking for the weather in city number 24, butaritari\n",
      "{'coord': {'lon': 172.79, 'lat': 3.07}, 'weather': [{'id': 800, 'main': 'Clear', 'description': 'clear sky', 'icon': '01d'}], 'base': 'stations', 'main': {'temp': 83.52, 'feels_like': 84.7, 'temp_min': 83.52, 'temp_max': 83.52, 'pressure': 1005, 'humidity': 76, 'sea_level': 1005, 'grnd_level': 1004}, 'visibility': 10000, 'wind': {'speed': 16.42, 'deg': 132}, 'clouds': {'all': 10}, 'dt': 1599706649, 'sys': {'country': 'KI', 'sunrise': 1599675699, 'sunset': 1599719427}, 'timezone': 43200, 'id': 2110227, 'name': 'Butaritari', 'cod': 200}\n",
      "Looking for the weather in city number 25, saldanha\n",
      "{'coord': {'lon': 17.94, 'lat': -33.01}, 'weather': [{'id': 800, 'main': 'Clear', 'description': 'clear sky', 'icon': '01n'}], 'base': 'stations', 'main': {'temp': 57.45, 'feels_like': 44.78, 'temp_min': 57.45, 'temp_max': 57.45, 'pressure': 1024, 'humidity': 85, 'sea_level': 1024, 'grnd_level': 1022}, 'visibility': 10000, 'wind': {'speed': 24.16, 'deg': 164}, 'clouds': {'all': 0}, 'dt': 1599706674, 'sys': {'country': 'ZA', 'sunrise': 1599713627, 'sunset': 1599755809}, 'timezone': 7200, 'id': 3361934, 'name': 'Saldanha', 'cod': 200}\n",
      "Looking for the weather in city number 26, collie\n",
      "{'coord': {'lon': 116.15, 'lat': -33.37}, 'weather': [{'id': 800, 'main': 'Clear', 'description': 'clear sky', 'icon': '01d'}], 'base': 'stations', 'main': {'temp': 55.99, 'feels_like': 47.1, 'temp_min': 55.99, 'temp_max': 55.99, 'pressure': 1014, 'humidity': 62}, 'visibility': 10000, 'wind': {'speed': 13, 'deg': 275, 'gust': 21.99}, 'clouds': {'all': 0}, 'dt': 1599706943, 'sys': {'type': 3, 'id': 2003721, 'country': 'AU', 'sunrise': 1599690088, 'sunset': 1599732218}, 'timezone': 28800, 'id': 2074113, 'name': 'Collie', 'cod': 200}\n",
      "Looking for the weather in city number 27, faanui\n",
      "{'coord': {'lon': -151.75, 'lat': -16.48}, 'weather': [{'id': 801, 'main': 'Clouds', 'description': 'few clouds', 'icon': '02d'}], 'base': 'stations', 'main': {'temp': 78.87, 'feels_like': 81.57, 'temp_min': 78.87, 'temp_max': 78.87, 'pressure': 1012, 'humidity': 70, 'sea_level': 1012, 'grnd_level': 1003}, 'visibility': 10000, 'wind': {'speed': 7.23, 'deg': 106}, 'clouds': {'all': 17}, 'dt': 1599706647, 'sys': {'country': 'PF', 'sunrise': 1599667601, 'sunset': 1599710509}, 'timezone': -36000, 'id': 4034551, 'name': 'Faanui', 'cod': 200}\n",
      "Looking for the weather in city number 28, sola\n",
      "{'coord': {'lon': 167.55, 'lat': -13.88}, 'weather': [{'id': 803, 'main': 'Clouds', 'description': 'broken clouds', 'icon': '04d'}], 'base': 'stations', 'main': {'temp': 77.76, 'feels_like': 77.13, 'temp_min': 77.76, 'temp_max': 77.76, 'pressure': 1007, 'humidity': 75, 'sea_level': 1007, 'grnd_level': 1000}, 'visibility': 10000, 'wind': {'speed': 13.94, 'deg': 141}, 'clouds': {'all': 52}, 'dt': 1599706943, 'sys': {'country': 'VU', 'sunrise': 1599677308, 'sunset': 1599720333}, 'timezone': 39600, 'id': 2134814, 'name': 'Sola', 'cod': 200}\n",
      "Looking for the weather in city number 29, shelburne\n",
      "{'coord': {'lon': -80.2, 'lat': 44.08}, 'weather': [{'id': 804, 'main': 'Clouds', 'description': 'overcast clouds', 'icon': '04n'}], 'base': 'stations', 'main': {'temp': 57.4, 'feels_like': 55.47, 'temp_min': 57, 'temp_max': 57.99, 'pressure': 1025, 'humidity': 93}, 'visibility': 2414, 'wind': {'speed': 6.4, 'deg': 143}, 'clouds': {'all': 90}, 'dt': 1599706880, 'sys': {'type': 1, 'id': 762, 'country': 'CA', 'sunrise': 1599648827, 'sunset': 1599694947}, 'timezone': -14400, 'id': 6145890, 'name': 'Shelburne', 'cod': 200}\n",
      "Looking for the weather in city number 30, bhan\n",
      "{'coord': {'lon': 67.72, 'lat': 26.56}, 'weather': [{'id': 800, 'main': 'Clear', 'description': 'clear sky', 'icon': '01d'}], 'base': 'stations', 'main': {'temp': 91.18, 'feels_like': 96.46, 'temp_min': 91.18, 'temp_max': 91.18, 'pressure': 1004, 'humidity': 52, 'sea_level': 1004, 'grnd_level': 999}, 'visibility': 10000, 'wind': {'speed': 5.14, 'deg': 174}, 'clouds': {'all': 0}, 'dt': 1599706943, 'sys': {'country': 'PK', 'sunrise': 1599700368, 'sunset': 1599745179}, 'timezone': 18000, 'id': 1182775, 'name': 'Bhan', 'cod': 200}\n"
     ]
    },
    {
     "name": "stdout",
     "output_type": "stream",
     "text": [
      "Looking for the weather in city number 31, yarada\n",
      "{'coord': {'lon': 83.27, 'lat': 17.65}, 'weather': [{'id': 701, 'main': 'Mist', 'description': 'mist', 'icon': '50d'}], 'base': 'stations', 'main': {'temp': 86, 'feels_like': 95.36, 'temp_min': 86, 'temp_max': 86, 'pressure': 1005, 'humidity': 79}, 'visibility': 5000, 'wind': {'speed': 5.82, 'deg': 260}, 'clouds': {'all': 40}, 'dt': 1599706944, 'sys': {'type': 1, 'id': 9255, 'country': 'IN', 'sunrise': 1599696861, 'sunset': 1599741224}, 'timezone': 19800, 'id': 1252783, 'name': 'Yārāda', 'cod': 200}\n",
      "Looking for the weather in city number 32, lebu\n",
      "{'coord': {'lon': -73.65, 'lat': -37.62}, 'weather': [{'id': 803, 'main': 'Clouds', 'description': 'broken clouds', 'icon': '04n'}], 'base': 'stations', 'main': {'temp': 51.15, 'feels_like': 41.61, 'temp_min': 51.15, 'temp_max': 51.15, 'pressure': 1019, 'humidity': 86, 'sea_level': 1019, 'grnd_level': 1009}, 'visibility': 10000, 'wind': {'speed': 15.75, 'deg': 19}, 'clouds': {'all': 62}, 'dt': 1599706698, 'sys': {'country': 'CL', 'sunrise': 1599649403, 'sunset': 1599691228}, 'timezone': -10800, 'id': 3883457, 'name': 'Lebu', 'cod': 200}\n",
      "Looking for the weather in city number 33, vaitupu\n",
      "{'cod': '404', 'message': 'city not found'}\n",
      "Missing city. Moving on...\n",
      "Looking for the weather in city number 34, chuy\n",
      "{'coord': {'lon': -53.46, 'lat': -33.7}, 'weather': [{'id': 803, 'main': 'Clouds', 'description': 'broken clouds', 'icon': '04n'}], 'base': 'stations', 'main': {'temp': 58.41, 'feels_like': 57.2, 'temp_min': 58.41, 'temp_max': 58.41, 'pressure': 1016, 'humidity': 98, 'sea_level': 1016, 'grnd_level': 1014}, 'visibility': 10000, 'wind': {'speed': 6.58, 'deg': 223}, 'clouds': {'all': 71}, 'dt': 1599706680, 'sys': {'country': 'UY', 'sunrise': 1599644447, 'sunset': 1599686495}, 'timezone': -10800, 'id': 3443061, 'name': 'Chui', 'cod': 200}\n",
      "Looking for the weather in city number 35, pechenga\n",
      "{'coord': {'lon': 31.17, 'lat': 69.53}, 'weather': [{'id': 800, 'main': 'Clear', 'description': 'clear sky', 'icon': '01d'}], 'base': 'stations', 'main': {'temp': 41, 'feels_like': 32.81, 'temp_min': 41, 'temp_max': 41, 'pressure': 993, 'humidity': 93}, 'visibility': 10000, 'wind': {'speed': 10.29, 'deg': 250}, 'clouds': {'all': 0}, 'dt': 1599706944, 'sys': {'type': 1, 'id': 1639, 'country': 'RU', 'sunrise': 1599706235, 'sunset': 1599756852}, 'timezone': 10800, 'id': 511865, 'name': 'Pechenga', 'cod': 200}\n",
      "Looking for the weather in city number 36, stornoway\n",
      "{'coord': {'lon': -6.39, 'lat': 58.21}, 'weather': [{'id': 803, 'main': 'Clouds', 'description': 'broken clouds', 'icon': '04n'}], 'base': 'stations', 'main': {'temp': 50, 'feels_like': 46.29, 'temp_min': 50, 'temp_max': 50, 'pressure': 1020, 'humidity': 93}, 'visibility': 10000, 'wind': {'speed': 5.82, 'deg': 220}, 'clouds': {'all': 69}, 'dt': 1599706945, 'sys': {'type': 1, 'id': 1450, 'country': 'GB', 'sunrise': 1599716720, 'sunset': 1599764392}, 'timezone': 3600, 'id': 2636790, 'name': 'Stornoway', 'cod': 200}\n",
      "Looking for the weather in city number 37, hithadhoo\n",
      "{'coord': {'lon': 73.08, 'lat': -0.6}, 'weather': [{'id': 804, 'main': 'Clouds', 'description': 'overcast clouds', 'icon': '04d'}], 'base': 'stations', 'main': {'temp': 80.44, 'feels_like': 80.49, 'temp_min': 80.44, 'temp_max': 80.44, 'pressure': 1011, 'humidity': 80, 'sea_level': 1011, 'grnd_level': 1011}, 'visibility': 10000, 'wind': {'speed': 16.93, 'deg': 211}, 'clouds': {'all': 98}, 'dt': 1599706652, 'sys': {'country': 'MV', 'sunrise': 1599699700, 'sunset': 1599743275}, 'timezone': 18000, 'id': 1282256, 'name': 'Hithadhoo', 'cod': 200}\n",
      "Looking for the weather in city number 38, albany\n",
      "{'coord': {'lon': -73.97, 'lat': 42.6}, 'weather': [{'id': 803, 'main': 'Clouds', 'description': 'broken clouds', 'icon': '04n'}], 'base': 'stations', 'main': {'temp': 69.57, 'feels_like': 72.55, 'temp_min': 66, 'temp_max': 73, 'pressure': 1023, 'humidity': 84}, 'visibility': 10000, 'wind': {'speed': 3.71, 'deg': 191}, 'clouds': {'all': 56}, 'dt': 1599706646, 'sys': {'type': 3, 'id': 19530, 'country': 'US', 'sunrise': 1599647397, 'sunset': 1599693387}, 'timezone': -14400, 'id': 5106841, 'name': 'Albany', 'cod': 200}\n",
      "Looking for the weather in city number 39, karasjok\n",
      "{'coord': {'lon': 25.51, 'lat': 69.47}, 'weather': [{'id': 800, 'main': 'Clear', 'description': 'clear sky', 'icon': '01n'}], 'base': 'stations', 'main': {'temp': 39.2, 'feels_like': 34.59, 'temp_min': 39.2, 'temp_max': 39.2, 'pressure': 993, 'humidity': 93}, 'visibility': 10000, 'wind': {'speed': 3.36, 'deg': 40}, 'clouds': {'all': 0}, 'dt': 1599706945, 'sys': {'type': 1, 'id': 1646, 'country': 'NO', 'sunrise': 1599707609, 'sunset': 1599758194}, 'timezone': 7200, 'id': 779350, 'name': 'Karasjok', 'cod': 200}\n",
      "Looking for the weather in city number 40, kloulklubed\n",
      "{'coord': {'lon': 134.26, 'lat': 7.04}, 'weather': [{'id': 800, 'main': 'Clear', 'description': 'clear sky', 'icon': '01d'}], 'base': 'stations', 'main': {'temp': 84.16, 'feels_like': 91.22, 'temp_min': 84.16, 'temp_max': 84.16, 'pressure': 1006, 'humidity': 67, 'sea_level': 1006, 'grnd_level': 1004}, 'visibility': 10000, 'wind': {'speed': 2.86, 'deg': 211}, 'clouds': {'all': 0}, 'dt': 1599706651, 'sys': {'country': 'PW', 'sunrise': 1599684861, 'sunset': 1599728755}, 'timezone': 32400, 'id': 7671223, 'name': 'Kloulklubed', 'cod': 200}\n",
      "Looking for the weather in city number 41, guozhen\n",
      "{'coord': {'lon': 107.36, 'lat': 34.37}, 'weather': [{'id': 804, 'main': 'Clouds', 'description': 'overcast clouds', 'icon': '04d'}], 'base': 'stations', 'main': {'temp': 71.49, 'feels_like': 73.49, 'temp_min': 71.49, 'temp_max': 71.49, 'pressure': 1013, 'humidity': 67, 'sea_level': 1013, 'grnd_level': 949}, 'visibility': 10000, 'wind': {'speed': 2.24, 'deg': 206}, 'clouds': {'all': 89}, 'dt': 1599706945, 'sys': {'country': 'CN', 'sunrise': 1599690617, 'sunset': 1599735908}, 'timezone': 28800, 'id': 1809263, 'name': 'Guozhen', 'cod': 200}\n",
      "Looking for the weather in city number 42, fonte boa\n",
      "{'coord': {'lon': -66.27, 'lat': -2.5}, 'weather': [{'id': 803, 'main': 'Clouds', 'description': 'broken clouds', 'icon': '04n'}], 'base': 'stations', 'main': {'temp': 79.88, 'feels_like': 84.79, 'temp_min': 79.88, 'temp_max': 79.88, 'pressure': 1011, 'humidity': 66, 'sea_level': 1011, 'grnd_level': 1007}, 'visibility': 10000, 'wind': {'speed': 2.66, 'deg': 218}, 'clouds': {'all': 59}, 'dt': 1599706946, 'sys': {'country': 'BR', 'sunrise': 1599646798, 'sunset': 1599690292}, 'timezone': -14400, 'id': 6319315, 'name': 'Fonte Boa', 'cod': 200}\n",
      "Looking for the weather in city number 43, mariental\n",
      "{'coord': {'lon': 17.97, 'lat': -24.63}, 'weather': [{'id': 800, 'main': 'Clear', 'description': 'clear sky', 'icon': '01n'}], 'base': 'stations', 'main': {'temp': 62.96, 'feels_like': 55, 'temp_min': 62.96, 'temp_max': 62.96, 'pressure': 1021, 'humidity': 29, 'sea_level': 1021, 'grnd_level': 897}, 'visibility': 10000, 'wind': {'speed': 7.31, 'deg': 44}, 'clouds': {'all': 0}, 'dt': 1599706946, 'sys': {'country': 'NA', 'sunrise': 1599713418, 'sunset': 1599756003}, 'timezone': 7200, 'id': 3355595, 'name': 'Mariental', 'cod': 200}\n",
      "Looking for the weather in city number 44, beidao\n",
      "{'coord': {'lon': 105.89, 'lat': 34.57}, 'weather': [{'id': 802, 'main': 'Clouds', 'description': 'scattered clouds', 'icon': '03d'}], 'base': 'stations', 'main': {'temp': 71.26, 'feels_like': 72.18, 'temp_min': 71.26, 'temp_max': 71.26, 'pressure': 1013, 'humidity': 59, 'sea_level': 1013, 'grnd_level': 894}, 'visibility': 10000, 'wind': {'speed': 1.81, 'deg': 65}, 'clouds': {'all': 27}, 'dt': 1599706946, 'sys': {'country': 'CN', 'sunrise': 1599690963, 'sunset': 1599736267}, 'timezone': 28800, 'id': 1816751, 'name': 'Beidao', 'cod': 200}\n",
      "Looking for the weather in city number 45, hobart\n",
      "{'coord': {'lon': 147.33, 'lat': -42.88}, 'weather': [{'id': 801, 'main': 'Clouds', 'description': 'few clouds', 'icon': '02d'}], 'base': 'stations', 'main': {'temp': 60.19, 'feels_like': 54.99, 'temp_min': 59, 'temp_max': 62.01, 'pressure': 1029, 'humidity': 44}, 'visibility': 10000, 'wind': {'speed': 4.7, 'deg': 120}, 'clouds': {'all': 20}, 'dt': 1599706654, 'sys': {'type': 1, 'id': 9545, 'country': 'AU', 'sunrise': 1599682899, 'sunset': 1599724445}, 'timezone': 36000, 'id': 2163355, 'name': 'Hobart', 'cod': 200}\n"
     ]
    },
    {
     "name": "stdout",
     "output_type": "stream",
     "text": [
      "Looking for the weather in city number 46, sibolga\n",
      "{'coord': {'lon': 98.78, 'lat': 1.74}, 'weather': [{'id': 500, 'main': 'Rain', 'description': 'light rain', 'icon': '10d'}], 'base': 'stations', 'main': {'temp': 81.27, 'feels_like': 88.65, 'temp_min': 81.27, 'temp_max': 81.27, 'pressure': 1010, 'humidity': 72, 'sea_level': 1010, 'grnd_level': 1009}, 'visibility': 10000, 'wind': {'speed': 1.68, 'deg': 289}, 'rain': {'1h': 0.26339999999999997}, 'clouds': {'all': 93}, 'dt': 1599706681, 'sys': {'country': 'ID', 'sunrise': 1599693485, 'sunset': 1599737157}, 'timezone': 25200, 'id': 1213855, 'name': 'Sibolga', 'cod': 200}\n",
      "Looking for the weather in city number 47, xining\n",
      "{'coord': {'lon': 101.77, 'lat': 36.62}, 'weather': [{'id': 804, 'main': 'Clouds', 'description': 'overcast clouds', 'icon': '04d'}], 'base': 'stations', 'main': {'temp': 61.99, 'feels_like': 60.55, 'temp_min': 61.99, 'temp_max': 61.99, 'pressure': 1013, 'humidity': 53, 'sea_level': 1013, 'grnd_level': 782}, 'visibility': 10000, 'wind': {'speed': 0.36, 'deg': 340}, 'clouds': {'all': 89}, 'dt': 1599706948, 'sys': {'country': 'CN', 'sunrise': 1599691882, 'sunset': 1599737325}, 'timezone': 28800, 'id': 1788852, 'name': 'Xining', 'cod': 200}\n",
      "Looking for the weather in city number 48, avarua\n",
      "{'coord': {'lon': -159.78, 'lat': -21.21}, 'weather': [{'id': 804, 'main': 'Clouds', 'description': 'overcast clouds', 'icon': '04d'}], 'base': 'stations', 'main': {'temp': 73.4, 'feels_like': 72.75, 'temp_min': 73.4, 'temp_max': 73.4, 'pressure': 1012, 'humidity': 78}, 'visibility': 10000, 'wind': {'speed': 11.41, 'deg': 90}, 'clouds': {'all': 92}, 'dt': 1599706684, 'sys': {'type': 1, 'id': 7271, 'country': 'CK', 'sunrise': 1599669632, 'sunset': 1599712332}, 'timezone': -36000, 'id': 4035715, 'name': 'Avarua', 'cod': 200}\n",
      "Looking for the weather in city number 49, carnarvon\n",
      "{'coord': {'lon': 113.63, 'lat': -24.87}, 'weather': [{'id': 800, 'main': 'Clear', 'description': 'clear sky', 'icon': '01d'}], 'base': 'stations', 'main': {'temp': 73.4, 'feels_like': 69.24, 'temp_min': 73.4, 'temp_max': 73.4, 'pressure': 1016, 'humidity': 69}, 'visibility': 10000, 'wind': {'speed': 14.99, 'deg': 190}, 'clouds': {'all': 1}, 'dt': 1599706564, 'sys': {'type': 1, 'id': 9505, 'country': 'AU', 'sunrise': 1599690482, 'sunset': 1599733034}, 'timezone': 28800, 'id': 2074865, 'name': 'Carnarvon', 'cod': 200}\n",
      "Looking for the weather in city number 50, amderma\n",
      "{'cod': '404', 'message': 'city not found'}\n",
      "Missing city. Moving on...\n",
      "Looking for the weather in city number 51, castro\n",
      "{'coord': {'lon': -50.01, 'lat': -24.79}, 'weather': [{'id': 804, 'main': 'Clouds', 'description': 'overcast clouds', 'icon': '04n'}], 'base': 'stations', 'main': {'temp': 63.1, 'feels_like': 63.79, 'temp_min': 63.1, 'temp_max': 63.1, 'pressure': 1019, 'humidity': 83, 'sea_level': 1019, 'grnd_level': 907}, 'visibility': 10000, 'wind': {'speed': 3.22, 'deg': 46}, 'clouds': {'all': 100}, 'dt': 1599706646, 'sys': {'country': 'BR', 'sunrise': 1599643389, 'sunset': 1599685898}, 'timezone': -10800, 'id': 3466704, 'name': 'Castro', 'cod': 200}\n",
      "Looking for the weather in city number 52, te anau\n",
      "{'coord': {'lon': 167.72, 'lat': -45.42}, 'weather': [{'id': 500, 'main': 'Rain', 'description': 'light rain', 'icon': '10d'}], 'base': 'stations', 'main': {'temp': 46.78, 'feels_like': 42.13, 'temp_min': 46.78, 'temp_max': 46.78, 'pressure': 1013, 'humidity': 71, 'sea_level': 1013, 'grnd_level': 987}, 'visibility': 10000, 'wind': {'speed': 3.6, 'deg': 179}, 'rain': {'1h': 0.11}, 'clouds': {'all': 57}, 'dt': 1599706894, 'sys': {'country': 'NZ', 'sunrise': 1599678102, 'sunset': 1599719458}, 'timezone': 43200, 'id': 2181625, 'name': 'Te Anau', 'cod': 200}\n",
      "Looking for the weather in city number 53, vilhena\n",
      "{'coord': {'lon': -60.15, 'lat': -12.74}, 'weather': [{'id': 800, 'main': 'Clear', 'description': 'clear sky', 'icon': '01n'}], 'base': 'stations', 'main': {'temp': 78.42, 'feels_like': 74.98, 'temp_min': 78.42, 'temp_max': 78.42, 'pressure': 1012, 'humidity': 28, 'sea_level': 1012, 'grnd_level': 947}, 'visibility': 10000, 'wind': {'speed': 3.09, 'deg': 66}, 'clouds': {'all': 0}, 'dt': 1599706949, 'sys': {'country': 'BR', 'sunrise': 1599645548, 'sunset': 1599688605}, 'timezone': -14400, 'id': 3924679, 'name': 'Vilhena', 'cod': 200}\n",
      "Looking for the weather in city number 54, paita\n",
      "{'coord': {'lon': -81.11, 'lat': -5.09}, 'weather': [{'id': 801, 'main': 'Clouds', 'description': 'few clouds', 'icon': '02n'}], 'base': 'stations', 'main': {'temp': 62.42, 'feels_like': 58.19, 'temp_min': 62.42, 'temp_max': 62.42, 'pressure': 1015, 'humidity': 86, 'sea_level': 1015, 'grnd_level': 1007}, 'visibility': 10000, 'wind': {'speed': 12.15, 'deg': 169}, 'clouds': {'all': 13}, 'dt': 1599706949, 'sys': {'country': 'PE', 'sunrise': 1599650413, 'sunset': 1599693798}, 'timezone': -18000, 'id': 3694112, 'name': 'Paita', 'cod': 200}\n",
      "Looking for the weather in city number 55, erdenet\n",
      "{'coord': {'lon': 104.08, 'lat': 49.03}, 'weather': [{'id': 803, 'main': 'Clouds', 'description': 'broken clouds', 'icon': '04d'}], 'base': 'stations', 'main': {'temp': 59.16, 'feels_like': 57, 'temp_min': 59.16, 'temp_max': 59.16, 'pressure': 1012, 'humidity': 79, 'sea_level': 1012, 'grnd_level': 871}, 'visibility': 10000, 'wind': {'speed': 5.32, 'deg': 193}, 'clouds': {'all': 65}, 'dt': 1599706892, 'sys': {'country': 'MN', 'sunrise': 1599690790, 'sunset': 1599737309}, 'timezone': 28800, 'id': 2031405, 'name': 'Erdenet', 'cod': 200}\n",
      "Looking for the weather in city number 56, victoria\n",
      "{'coord': {'lon': 114.16, 'lat': 22.29}, 'weather': [{'id': 500, 'main': 'Rain', 'description': 'light rain', 'icon': '10d'}], 'base': 'stations', 'main': {'temp': 81.68, 'feels_like': 91.47, 'temp_min': 81, 'temp_max': 82, 'pressure': 1008, 'humidity': 88}, 'visibility': 10000, 'wind': {'speed': 4, 'deg': 60}, 'rain': {'1h': 0.21}, 'clouds': {'all': 88}, 'dt': 1599706411, 'sys': {'type': 3, 'id': 47808, 'country': 'HK', 'sunrise': 1599689333, 'sunset': 1599733929}, 'timezone': 28800, 'id': 1819729, 'name': 'Hong Kong', 'cod': 200}\n",
      "Looking for the weather in city number 57, ponta do sol\n",
      "{'coord': {'lon': -17.1, 'lat': 32.67}, 'weather': [{'id': 801, 'main': 'Clouds', 'description': 'few clouds', 'icon': '02n'}], 'base': 'stations', 'main': {'temp': 69.15, 'feels_like': 60.17, 'temp_min': 66, 'temp_max': 73.4, 'pressure': 1021, 'humidity': 69}, 'visibility': 10000, 'wind': {'speed': 20.8, 'deg': 350, 'gust': 33.33}, 'clouds': {'all': 20}, 'dt': 1599706949, 'sys': {'type': 1, 'id': 6894, 'country': 'PT', 'sunrise': 1599720555, 'sunset': 1599765696}, 'timezone': 3600, 'id': 2264557, 'name': 'Ponta do Sol', 'cod': 200}\n",
      "Looking for the weather in city number 58, cape town\n",
      "{'coord': {'lon': 18.42, 'lat': -33.93}, 'weather': [{'id': 801, 'main': 'Clouds', 'description': 'few clouds', 'icon': '02n'}], 'base': 'stations', 'main': {'temp': 57.04, 'feels_like': 45.21, 'temp_min': 57, 'temp_max': 57.2, 'pressure': 1024, 'humidity': 82}, 'visibility': 10000, 'wind': {'speed': 21.92, 'deg': 190}, 'clouds': {'all': 20}, 'dt': 1599706629, 'sys': {'type': 1, 'id': 1899, 'country': 'ZA', 'sunrise': 1599713536, 'sunset': 1599755669}, 'timezone': 7200, 'id': 3369157, 'name': 'Cape Town', 'cod': 200}\n",
      "Looking for the weather in city number 59, hermanus\n",
      "{'coord': {'lon': 19.23, 'lat': -34.42}, 'weather': [{'id': 804, 'main': 'Clouds', 'description': 'overcast clouds', 'icon': '04n'}], 'base': 'stations', 'main': {'temp': 55, 'feels_like': 47.71, 'temp_min': 55, 'temp_max': 55, 'pressure': 1028, 'humidity': 94}, 'visibility': 10000, 'wind': {'speed': 14.76, 'deg': 129}, 'clouds': {'all': 96}, 'dt': 1599706648, 'sys': {'type': 3, 'id': 2006131, 'country': 'ZA', 'sunrise': 1599713355, 'sunset': 1599755462}, 'timezone': 7200, 'id': 3366880, 'name': 'Hermanus', 'cod': 200}\n",
      "Looking for the weather in city number 60, marystown\n",
      "{'coord': {'lon': -55.15, 'lat': 47.17}, 'weather': [{'id': 803, 'main': 'Clouds', 'description': 'broken clouds', 'icon': '04n'}], 'base': 'stations', 'main': {'temp': 63, 'feels_like': 63.23, 'temp_min': 63, 'temp_max': 63, 'pressure': 1026, 'humidity': 100}, 'visibility': 10000, 'wind': {'speed': 7.47, 'deg': 242}, 'clouds': {'all': 83}, 'dt': 1599706950, 'sys': {'type': 3, 'id': 61439, 'country': 'CA', 'sunrise': 1599729137, 'sunset': 1599775373}, 'timezone': -9000, 'id': 6067472, 'name': 'Marystown', 'cod': 200}\n",
      "Looking for the weather in city number 61, chokurdakh\n",
      "{'coord': {'lon': 147.92, 'lat': 70.63}, 'weather': [{'id': 804, 'main': 'Clouds', 'description': 'overcast clouds', 'icon': '04d'}], 'base': 'stations', 'main': {'temp': 52.52, 'feels_like': 44.55, 'temp_min': 52.52, 'temp_max': 52.52, 'pressure': 1024, 'humidity': 50, 'sea_level': 1024, 'grnd_level': 1019}, 'visibility': 10000, 'wind': {'speed': 8.48, 'deg': 264}, 'clouds': {'all': 87}, 'dt': 1599706656, 'sys': {'country': 'RU', 'sunrise': 1599677903, 'sunset': 1599729158}, 'timezone': 39600, 'id': 2126123, 'name': 'Chokurdakh', 'cod': 200}\n"
     ]
    },
    {
     "name": "stdout",
     "output_type": "stream",
     "text": [
      "Looking for the weather in city number 62, teya\n",
      "{'coord': {'lon': 92.63, 'lat': 60.38}, 'weather': [{'id': 500, 'main': 'Rain', 'description': 'light rain', 'icon': '10d'}], 'base': 'stations', 'main': {'temp': 48.78, 'feels_like': 46.54, 'temp_min': 48.78, 'temp_max': 48.78, 'pressure': 1019, 'humidity': 80, 'sea_level': 1019, 'grnd_level': 995}, 'visibility': 10000, 'wind': {'speed': 1.05, 'deg': 176}, 'rain': {'1h': 0.13}, 'clouds': {'all': 92}, 'dt': 1599706950, 'sys': {'country': 'RU', 'sunrise': 1599692721, 'sunset': 1599740872}, 'timezone': 25200, 'id': 1489656, 'name': 'Teya', 'cod': 200}\n",
      "Looking for the weather in city number 63, barentsburg\n",
      "{'cod': '404', 'message': 'city not found'}\n",
      "Missing city. Moving on...\n",
      "Looking for the weather in city number 64, bilma\n",
      "{'coord': {'lon': 12.92, 'lat': 18.69}, 'weather': [{'id': 802, 'main': 'Clouds', 'description': 'scattered clouds', 'icon': '03n'}], 'base': 'stations', 'main': {'temp': 92.21, 'feels_like': 85.3, 'temp_min': 92.21, 'temp_max': 92.21, 'pressure': 1008, 'humidity': 18, 'sea_level': 1008, 'grnd_level': 969}, 'visibility': 10000, 'wind': {'speed': 9.24, 'deg': 44}, 'clouds': {'all': 37}, 'dt': 1599706950, 'sys': {'country': 'NE', 'sunrise': 1599713722, 'sunset': 1599758122}, 'timezone': 3600, 'id': 2446796, 'name': 'Bilma', 'cod': 200}\n",
      "Looking for the weather in city number 65, rikitea\n",
      "{'coord': {'lon': -134.97, 'lat': -23.12}, 'weather': [{'id': 804, 'main': 'Clouds', 'description': 'overcast clouds', 'icon': '04n'}], 'base': 'stations', 'main': {'temp': 73.35, 'feels_like': 70.52, 'temp_min': 73.35, 'temp_max': 73.35, 'pressure': 1016, 'humidity': 82, 'sea_level': 1016, 'grnd_level': 1013}, 'visibility': 10000, 'wind': {'speed': 16.42, 'deg': 18}, 'clouds': {'all': 100}, 'dt': 1599706565, 'sys': {'country': 'PF', 'sunrise': 1599663725, 'sunset': 1599706332}, 'timezone': -32400, 'id': 4030556, 'name': 'Rikitea', 'cod': 200}\n",
      "Looking for the weather in city number 66, cayenne\n",
      "{'coord': {'lon': -52.33, 'lat': 4.93}, 'weather': [{'id': 800, 'main': 'Clear', 'description': 'clear sky', 'icon': '01n'}], 'base': 'stations', 'main': {'temp': 77, 'feels_like': 80.71, 'temp_min': 77, 'temp_max': 77, 'pressure': 1014, 'humidity': 94}, 'visibility': 10000, 'wind': {'speed': 11.95, 'deg': 116}, 'clouds': {'all': 10}, 'dt': 1599706951, 'sys': {'type': 1, 'id': 8669, 'country': 'GF', 'sunrise': 1599729680, 'sunset': 1599773477}, 'timezone': -10800, 'id': 3382160, 'name': 'Cayenne', 'cod': 200}\n",
      "Looking for the weather in city number 67, yulara\n",
      "{'coord': {'lon': 130.99, 'lat': -25.24}, 'weather': [{'id': 800, 'main': 'Clear', 'description': 'clear sky', 'icon': '01d'}], 'base': 'stations', 'main': {'temp': 89.6, 'feels_like': 81.18, 'temp_min': 89.6, 'temp_max': 89.6, 'pressure': 1017, 'humidity': 14}, 'visibility': 10000, 'wind': {'speed': 9.17, 'deg': 10}, 'clouds': {'all': 0}, 'dt': 1599706951, 'sys': {'type': 1, 'id': 9487, 'country': 'AU', 'sunrise': 1599686328, 'sunset': 1599728858}, 'timezone': 34200, 'id': 6355222, 'name': 'Yulara', 'cod': 200}\n",
      "Looking for the weather in city number 68, upernavik\n",
      "{'coord': {'lon': -56.15, 'lat': 72.79}, 'weather': [{'id': 800, 'main': 'Clear', 'description': 'clear sky', 'icon': '01n'}], 'base': 'stations', 'main': {'temp': 33.21, 'feels_like': 25.25, 'temp_min': 33.21, 'temp_max': 33.21, 'pressure': 1004, 'humidity': 84, 'sea_level': 1004, 'grnd_level': 1004}, 'visibility': 10000, 'wind': {'speed': 7.02, 'deg': 314}, 'clouds': {'all': 0}, 'dt': 1599706657, 'sys': {'country': 'GL', 'sunrise': 1599726490, 'sunset': 1599778500}, 'timezone': -7200, 'id': 3418910, 'name': 'Upernavik', 'cod': 200}\n",
      "Looking for the weather in city number 69, atuona\n",
      "{'coord': {'lon': -139.03, 'lat': -9.8}, 'weather': [{'id': 802, 'main': 'Clouds', 'description': 'scattered clouds', 'icon': '03d'}], 'base': 'stations', 'main': {'temp': 78.62, 'feels_like': 76.46, 'temp_min': 78.62, 'temp_max': 78.62, 'pressure': 1011, 'humidity': 74, 'sea_level': 1011, 'grnd_level': 1009}, 'visibility': 10000, 'wind': {'speed': 17.05, 'deg': 77}, 'clouds': {'all': 39}, 'dt': 1599706686, 'sys': {'country': 'PF', 'sunrise': 1599664408, 'sunset': 1599707598}, 'timezone': -34200, 'id': 4020109, 'name': 'Atuona', 'cod': 200}\n",
      "Looking for the weather in city number 70, griffith\n",
      "{'coord': {'lon': -87.42, 'lat': 41.53}, 'weather': [{'id': 804, 'main': 'Clouds', 'description': 'overcast clouds', 'icon': '04n'}], 'base': 'stations', 'main': {'temp': 64.27, 'feels_like': 65.75, 'temp_min': 64, 'temp_max': 64.99, 'pressure': 1025, 'humidity': 93}, 'visibility': 10000, 'wind': {'speed': 4.7, 'deg': 10}, 'clouds': {'all': 90}, 'dt': 1599706816, 'sys': {'type': 1, 'id': 4505, 'country': 'US', 'sunrise': 1599650674, 'sunset': 1599696565}, 'timezone': -18000, 'id': 4920986, 'name': 'Griffith', 'cod': 200}\n",
      "Looking for the weather in city number 71, bethel\n",
      "{'coord': {'lon': -73.41, 'lat': 41.37}, 'weather': [{'id': 804, 'main': 'Clouds', 'description': 'overcast clouds', 'icon': '04n'}], 'base': 'stations', 'main': {'temp': 69.64, 'feels_like': 75.4, 'temp_min': 69.01, 'temp_max': 70, 'pressure': 1025, 'humidity': 94}, 'visibility': 10000, 'wind': {'speed': 1.45, 'deg': 107}, 'clouds': {'all': 100}, 'dt': 1599706651, 'sys': {'type': 3, 'id': 2004826, 'country': 'US', 'sunrise': 1599647316, 'sunset': 1599693200}, 'timezone': -14400, 'id': 5282297, 'name': 'Bethel', 'cod': 200}\n",
      "Looking for the weather in city number 72, hunza\n",
      "{'cod': '404', 'message': 'city not found'}\n",
      "Missing city. Moving on...\n",
      "Looking for the weather in city number 73, muyezerskiy\n",
      "{'coord': {'lon': 31.65, 'lat': 63.93}, 'weather': [{'id': 500, 'main': 'Rain', 'description': 'light rain', 'icon': '10n'}], 'base': 'stations', 'main': {'temp': 46.27, 'feels_like': 40.66, 'temp_min': 46.27, 'temp_max': 46.27, 'pressure': 991, 'humidity': 83, 'sea_level': 991, 'grnd_level': 969}, 'visibility': 10000, 'wind': {'speed': 6.51, 'deg': 108}, 'rain': {'1h': 0.3282}, 'clouds': {'all': 100}, 'dt': 1599706952, 'sys': {'country': 'RU', 'sunrise': 1599706994, 'sunset': 1599755862}, 'timezone': 10800, 'id': 524100, 'name': 'Muyezerskiy', 'cod': 200}\n",
      "Looking for the weather in city number 74, nantucket\n",
      "{'coord': {'lon': -70.1, 'lat': 41.28}, 'weather': [{'id': 741, 'main': 'Fog', 'description': 'fog', 'icon': '50n'}], 'base': 'stations', 'main': {'temp': 68, 'feels_like': 69.75, 'temp_min': 68, 'temp_max': 68, 'pressure': 1027, 'humidity': 100}, 'visibility': 805, 'wind': {'speed': 8.72, 'deg': 150}, 'clouds': {'all': 90}, 'dt': 1599706952, 'sys': {'type': 1, 'id': 3218, 'country': 'US', 'sunrise': 1599646524, 'sunset': 1599692403}, 'timezone': -14400, 'id': 4944903, 'name': 'Nantucket', 'cod': 200}\n",
      "Looking for the weather in city number 75, sal rei\n",
      "{'coord': {'lon': -22.92, 'lat': 16.18}, 'weather': [{'id': 802, 'main': 'Clouds', 'description': 'scattered clouds', 'icon': '03n'}], 'base': 'stations', 'main': {'temp': 78.8, 'feels_like': 86.41, 'temp_min': 78.8, 'temp_max': 78.8, 'pressure': 1014, 'humidity': 94}, 'visibility': 10000, 'wind': {'speed': 6.93, 'deg': 70}, 'clouds': {'all': 40}, 'dt': 1599706952, 'sys': {'type': 1, 'id': 2458, 'country': 'CV', 'sunrise': 1599722383, 'sunset': 1599766661}, 'timezone': -3600, 'id': 3374235, 'name': 'Sal Rei', 'cod': 200}\n",
      "Looking for the weather in city number 76, kupang\n",
      "{'coord': {'lon': 123.58, 'lat': -10.17}, 'weather': [{'id': 801, 'main': 'Clouds', 'description': 'few clouds', 'icon': '02d'}], 'base': 'stations', 'main': {'temp': 91.4, 'feels_like': 78.01, 'temp_min': 91.4, 'temp_max': 91.4, 'pressure': 1010, 'humidity': 27}, 'visibility': 10000, 'wind': {'speed': 25.28, 'deg': 100}, 'clouds': {'all': 20}, 'dt': 1599706953, 'sys': {'type': 1, 'id': 9364, 'country': 'ID', 'sunrise': 1599687779, 'sunset': 1599730963}, 'timezone': 28800, 'id': 2057087, 'name': 'Kupang', 'cod': 200}\n",
      "Looking for the weather in city number 77, sept-iles\n",
      "{'coord': {'lon': -66.38, 'lat': 50.2}, 'weather': [{'id': 500, 'main': 'Rain', 'description': 'light rain', 'icon': '10n'}], 'base': 'stations', 'main': {'temp': 50, 'feels_like': 45.79, 'temp_min': 50, 'temp_max': 50, 'pressure': 1029, 'humidity': 76}, 'visibility': 10000, 'wind': {'speed': 4.52, 'deg': 313}, 'rain': {'1h': 0.86}, 'clouds': {'all': 75}, 'dt': 1599706697, 'sys': {'type': 1, 'id': 1013, 'country': 'CA', 'sunrise': 1599645188, 'sunset': 1599691954}, 'timezone': -14400, 'id': 6144312, 'name': 'Sept-Îles', 'cod': 200}\n"
     ]
    },
    {
     "name": "stdout",
     "output_type": "stream",
     "text": [
      "Looking for the weather in city number 78, tuy hoa\n",
      "{'coord': {'lon': 109.3, 'lat': 13.08}, 'weather': [{'id': 804, 'main': 'Clouds', 'description': 'overcast clouds', 'icon': '04d'}], 'base': 'stations', 'main': {'temp': 89.17, 'feels_like': 97, 'temp_min': 89.17, 'temp_max': 89.17, 'pressure': 1008, 'humidity': 57, 'sea_level': 1008, 'grnd_level': 1007}, 'visibility': 10000, 'wind': {'speed': 1.41, 'deg': 136}, 'clouds': {'all': 88}, 'dt': 1599706953, 'sys': {'country': 'VN', 'sunrise': 1599690719, 'sunset': 1599734875}, 'timezone': 25200, 'id': 1563281, 'name': 'Tuy Hoa', 'cod': 200}\n",
      "Looking for the weather in city number 79, kitimat\n",
      "{'coord': {'lon': -128.65, 'lat': 54.05}, 'weather': [{'id': 800, 'main': 'Clear', 'description': 'clear sky', 'icon': '01d'}], 'base': 'stations', 'main': {'temp': 66, 'feels_like': 68.67, 'temp_min': 66, 'temp_max': 66, 'pressure': 1016, 'humidity': 81}, 'visibility': 10000, 'wind': {'speed': 1.07, 'deg': 64}, 'clouds': {'all': 0}, 'dt': 1599706953, 'sys': {'type': 3, 'id': 2004800, 'country': 'CA', 'sunrise': 1599659903, 'sunset': 1599707122}, 'timezone': -25200, 'id': 5993072, 'name': 'Kitimat', 'cod': 200}\n",
      "Looking for the weather in city number 80, carballo\n",
      "{'coord': {'lon': -8.69, 'lat': 43.21}, 'weather': [{'id': 800, 'main': 'Clear', 'description': 'clear sky', 'icon': '01n'}], 'base': 'stations', 'main': {'temp': 60.78, 'feels_like': 61.07, 'temp_min': 59, 'temp_max': 64, 'pressure': 1021, 'humidity': 87}, 'visibility': 10000, 'wind': {'speed': 3.33, 'deg': 72}, 'clouds': {'all': 3}, 'dt': 1599706953, 'sys': {'type': 1, 'id': 6403, 'country': 'ES', 'sunrise': 1599718156, 'sunset': 1599764059}, 'timezone': 7200, 'id': 3126369, 'name': 'Carballo', 'cod': 200}\n",
      "Looking for the weather in city number 81, fairbanks\n",
      "{'coord': {'lon': -147.72, 'lat': 64.84}, 'weather': [{'id': 500, 'main': 'Rain', 'description': 'light rain', 'icon': '10d'}], 'base': 'stations', 'main': {'temp': 45.32, 'feels_like': 35.62, 'temp_min': 44.01, 'temp_max': 46.4, 'pressure': 1022, 'humidity': 87}, 'visibility': 10000, 'wind': {'speed': 13.87, 'deg': 230}, 'rain': {'1h': 0.25}, 'clouds': {'all': 90}, 'dt': 1599706493, 'sys': {'type': 1, 'id': 7684, 'country': 'US', 'sunrise': 1599663437, 'sunset': 1599712738}, 'timezone': -28800, 'id': 5861897, 'name': 'Fairbanks', 'cod': 200}\n",
      "Looking for the weather in city number 82, khatanga\n",
      "{'coord': {'lon': 102.5, 'lat': 71.97}, 'weather': [{'id': 804, 'main': 'Clouds', 'description': 'overcast clouds', 'icon': '04d'}], 'base': 'stations', 'main': {'temp': 50.43, 'feels_like': 45.34, 'temp_min': 50.43, 'temp_max': 50.43, 'pressure': 1013, 'humidity': 74, 'sea_level': 1013, 'grnd_level': 1010}, 'visibility': 10000, 'wind': {'speed': 5.97, 'deg': 232}, 'clouds': {'all': 88}, 'dt': 1599706669, 'sys': {'country': 'RU', 'sunrise': 1599688511, 'sunset': 1599740347}, 'timezone': 25200, 'id': 2022572, 'name': 'Khatanga', 'cod': 200}\n",
      "Looking for the weather in city number 83, tiarei\n",
      "{'coord': {'lon': -149.33, 'lat': -17.53}, 'weather': [{'id': 802, 'main': 'Clouds', 'description': 'scattered clouds', 'icon': '03d'}], 'base': 'stations', 'main': {'temp': 82.4, 'feels_like': 85.84, 'temp_min': 82.4, 'temp_max': 82.4, 'pressure': 1012, 'humidity': 65}, 'visibility': 10000, 'wind': {'speed': 6.93, 'deg': 230}, 'clouds': {'all': 40}, 'dt': 1599706653, 'sys': {'type': 1, 'id': 7318, 'country': 'PF', 'sunrise': 1599667043, 'sunset': 1599709905}, 'timezone': -36000, 'id': 4033356, 'name': 'Tiarei', 'cod': 200}\n",
      "Looking for the weather in city number 84, nikolskoye\n",
      "{'coord': {'lon': 30.79, 'lat': 59.7}, 'weather': [{'id': 804, 'main': 'Clouds', 'description': 'overcast clouds', 'icon': '04n'}], 'base': 'stations', 'main': {'temp': 56.37, 'feels_like': 50.88, 'temp_min': 55, 'temp_max': 57.2, 'pressure': 992, 'humidity': 87}, 'visibility': 10000, 'wind': {'speed': 11.18, 'deg': 210}, 'clouds': {'all': 90}, 'dt': 1599706654, 'sys': {'type': 1, 'id': 8926, 'country': 'RU', 'sunrise': 1599707652, 'sunset': 1599755618}, 'timezone': 10800, 'id': 546105, 'name': 'Nikolskoye', 'cod': 200}\n",
      "Looking for the weather in city number 85, pafos\n",
      "{'coord': {'lon': 32.42, 'lat': 34.77}, 'weather': [{'id': 800, 'main': 'Clear', 'description': 'clear sky', 'icon': '01n'}], 'base': 'stations', 'main': {'temp': 75.74, 'feels_like': 71.02, 'temp_min': 70, 'temp_max': 80.6, 'pressure': 1005, 'humidity': 39}, 'visibility': 10000, 'wind': {'speed': 8.05, 'deg': 20}, 'clouds': {'all': 0}, 'dt': 1599706954, 'sys': {'type': 1, 'id': 6374, 'country': 'CY', 'sunrise': 1599708598, 'sunset': 1599753889}, 'timezone': 10800, 'id': 146214, 'name': 'Paphos', 'cod': 200}\n",
      "Looking for the weather in city number 86, augustow\n",
      "{'coord': {'lon': 22.98, 'lat': 53.84}, 'weather': [{'id': 803, 'main': 'Clouds', 'description': 'broken clouds', 'icon': '04n'}], 'base': 'stations', 'main': {'temp': 61.95, 'feels_like': 57, 'temp_min': 61.95, 'temp_max': 61.95, 'pressure': 1010, 'humidity': 87, 'sea_level': 1010, 'grnd_level': 995}, 'visibility': 10000, 'wind': {'speed': 13.35, 'deg': 271}, 'clouds': {'all': 78}, 'dt': 1599706954, 'sys': {'country': 'PL', 'sunrise': 1599709987, 'sunset': 1599757030}, 'timezone': 7200, 'id': 776597, 'name': 'Augustów', 'cod': 200}\n",
      "Looking for the weather in city number 87, tura\n",
      "{'coord': {'lon': 90.22, 'lat': 25.52}, 'weather': [{'id': 804, 'main': 'Clouds', 'description': 'overcast clouds', 'icon': '04d'}], 'base': 'stations', 'main': {'temp': 81.68, 'feels_like': 89.89, 'temp_min': 81.68, 'temp_max': 81.68, 'pressure': 1004, 'humidity': 83, 'sea_level': 1004, 'grnd_level': 963}, 'visibility': 10000, 'wind': {'speed': 4.88, 'deg': 141}, 'clouds': {'all': 100}, 'dt': 1599706644, 'sys': {'country': 'IN', 'sunrise': 1599694995, 'sunset': 1599739755}, 'timezone': 19800, 'id': 1254046, 'name': 'Tura', 'cod': 200}\n",
      "Looking for the weather in city number 88, zhanaozen\n",
      "{'coord': {'lon': 52.8, 'lat': 43.3}, 'weather': [{'id': 800, 'main': 'Clear', 'description': 'clear sky', 'icon': '01d'}], 'base': 'stations', 'main': {'temp': 65.73, 'feels_like': 59.05, 'temp_min': 65.73, 'temp_max': 65.73, 'pressure': 1015, 'humidity': 30, 'sea_level': 1015, 'grnd_level': 992}, 'visibility': 10000, 'wind': {'speed': 5.88, 'deg': 295}, 'clouds': {'all': 0}, 'dt': 1599706955, 'sys': {'country': 'KZ', 'sunrise': 1599703384, 'sunset': 1599749323}, 'timezone': 18000, 'id': 607610, 'name': 'Zhangaözen', 'cod': 200}\n",
      "Looking for the weather in city number 89, mora\n",
      "{'coord': {'lon': 14.14, 'lat': 11.05}, 'weather': [{'id': 500, 'main': 'Rain', 'description': 'light rain', 'icon': '10n'}], 'base': 'stations', 'main': {'temp': 76.05, 'feels_like': 80.76, 'temp_min': 76.05, 'temp_max': 76.05, 'pressure': 1011, 'humidity': 79, 'sea_level': 1011, 'grnd_level': 959}, 'visibility': 10000, 'wind': {'speed': 4.34, 'deg': 195}, 'rain': {'1h': 0.69}, 'clouds': {'all': 100}, 'dt': 1599706955, 'sys': {'country': 'CM', 'sunrise': 1599713601, 'sunset': 1599757658}, 'timezone': 3600, 'id': 2225991, 'name': 'Mora', 'cod': 200}\n",
      "Looking for the weather in city number 90, khakhea\n",
      "{'coord': {'lon': 23.49, 'lat': -24.69}, 'weather': [{'id': 800, 'main': 'Clear', 'description': 'clear sky', 'icon': '01n'}], 'base': 'stations', 'main': {'temp': 58.33, 'feels_like': 53.19, 'temp_min': 58.33, 'temp_max': 58.33, 'pressure': 1020, 'humidity': 35, 'sea_level': 1020, 'grnd_level': 902}, 'visibility': 10000, 'wind': {'speed': 2.51, 'deg': 36}, 'clouds': {'all': 0}, 'dt': 1599706955, 'sys': {'country': 'BW', 'sunrise': 1599712096, 'sunset': 1599754677}, 'timezone': 7200, 'id': 933649, 'name': 'Khakhea', 'cod': 200}\n",
      "Looking for the weather in city number 91, east london\n",
      "{'coord': {'lon': 27.91, 'lat': -33.02}, 'weather': [{'id': 804, 'main': 'Clouds', 'description': 'overcast clouds', 'icon': '04n'}], 'base': 'stations', 'main': {'temp': 65.21, 'feels_like': 59.32, 'temp_min': 65.21, 'temp_max': 65.21, 'pressure': 1026, 'humidity': 72, 'sea_level': 1026, 'grnd_level': 1021}, 'visibility': 10000, 'wind': {'speed': 13.76, 'deg': 230}, 'clouds': {'all': 100}, 'dt': 1599706640, 'sys': {'country': 'ZA', 'sunrise': 1599711237, 'sunset': 1599753415}, 'timezone': 7200, 'id': 1006984, 'name': 'East London', 'cod': 200}\n"
     ]
    },
    {
     "name": "stdout",
     "output_type": "stream",
     "text": [
      "Looking for the weather in city number 92, sungairaya\n",
      "{'coord': {'lon': 108.9, 'lat': 0.7}, 'weather': [{'id': 804, 'main': 'Clouds', 'description': 'overcast clouds', 'icon': '04d'}], 'base': 'stations', 'main': {'temp': 77.36, 'feels_like': 82.58, 'temp_min': 77.36, 'temp_max': 77.36, 'pressure': 1008, 'humidity': 86, 'sea_level': 1008, 'grnd_level': 1008}, 'visibility': 10000, 'wind': {'speed': 6.93, 'deg': 87}, 'clouds': {'all': 100}, 'dt': 1599706956, 'sys': {'country': 'ID', 'sunrise': 1599691079, 'sunset': 1599734707}, 'timezone': 25200, 'id': 1625908, 'name': 'Sungai Raya', 'cod': 200}\n",
      "Looking for the weather in city number 93, grand river south east\n",
      "{'cod': '404', 'message': 'city not found'}\n",
      "Missing city. Moving on...\n",
      "Looking for the weather in city number 94, hamilton\n",
      "{'coord': {'lon': -84.53, 'lat': 39.18}, 'weather': [{'id': 800, 'main': 'Clear', 'description': 'clear sky', 'icon': '01n'}], 'base': 'stations', 'main': {'temp': 72.63, 'feels_like': 77.34, 'temp_min': 69.8, 'temp_max': 75.99, 'pressure': 1023, 'humidity': 88}, 'visibility': 10000, 'wind': {'speed': 4.16, 'deg': 90}, 'clouds': {'all': 1}, 'dt': 1599706831, 'sys': {'type': 1, 'id': 4776, 'country': 'US', 'sunrise': 1599650075, 'sunset': 1599695777}, 'timezone': -14400, 'id': 4513583, 'name': 'Hamilton', 'cod': 200}\n",
      "Looking for the weather in city number 95, conneaut\n",
      "{'coord': {'lon': -80.55, 'lat': 41.95}, 'weather': [{'id': 741, 'main': 'Fog', 'description': 'fog', 'icon': '50n'}], 'base': 'stations', 'main': {'temp': 65.57, 'feels_like': 66.83, 'temp_min': 64.4, 'temp_max': 66.99, 'pressure': 1025, 'humidity': 100}, 'visibility': 402, 'wind': {'speed': 7.58, 'deg': 73}, 'clouds': {'all': 90}, 'dt': 1599706956, 'sys': {'type': 1, 'id': 4469, 'country': 'US', 'sunrise': 1599649006, 'sunset': 1599694936}, 'timezone': -14400, 'id': 5150986, 'name': 'Conneaut', 'cod': 200}\n",
      "Looking for the weather in city number 96, tiksi\n",
      "{'coord': {'lon': 128.87, 'lat': 71.69}, 'weather': [{'id': 800, 'main': 'Clear', 'description': 'clear sky', 'icon': '01d'}], 'base': 'stations', 'main': {'temp': 50.45, 'feels_like': 43.2, 'temp_min': 50.45, 'temp_max': 50.45, 'pressure': 1021, 'humidity': 54, 'sea_level': 1021, 'grnd_level': 1017}, 'visibility': 10000, 'wind': {'speed': 7.18, 'deg': 211}, 'clouds': {'all': 0}, 'dt': 1599706650, 'sys': {'country': 'RU', 'sunrise': 1599682234, 'sunset': 1599733969}, 'timezone': 32400, 'id': 2015306, 'name': 'Tiksi', 'cod': 200}\n",
      "Looking for the weather in city number 97, belushya guba\n",
      "{'cod': '404', 'message': 'city not found'}\n",
      "Missing city. Moving on...\n",
      "Looking for the weather in city number 98, georgetown\n",
      "{'coord': {'lon': 100.34, 'lat': 5.41}, 'weather': [{'id': 801, 'main': 'Clouds', 'description': 'few clouds', 'icon': '02d'}], 'base': 'stations', 'main': {'temp': 86, 'feels_like': 95.5, 'temp_min': 86, 'temp_max': 86, 'pressure': 1008, 'humidity': 74}, 'visibility': 7000, 'wind': {'speed': 3.36, 'deg': 0}, 'clouds': {'all': 20}, 'dt': 1599706647, 'sys': {'type': 1, 'id': 9429, 'country': 'MY', 'sunrise': 1599693035, 'sunset': 1599736859}, 'timezone': 28800, 'id': 1735106, 'name': 'George Town', 'cod': 200}\n",
      "Looking for the weather in city number 99, jutai\n",
      "{'coord': {'lon': -68.9, 'lat': -5.18}, 'weather': [{'id': 803, 'main': 'Clouds', 'description': 'broken clouds', 'icon': '04n'}], 'base': 'stations', 'main': {'temp': 77.76, 'feels_like': 82.44, 'temp_min': 77.76, 'temp_max': 77.76, 'pressure': 1012, 'humidity': 70, 'sea_level': 1012, 'grnd_level': 1001}, 'visibility': 10000, 'wind': {'speed': 2.82, 'deg': 1}, 'clouds': {'all': 73}, 'dt': 1599706957, 'sys': {'country': 'BR', 'sunrise': 1599647486, 'sunset': 1599690866}, 'timezone': -14400, 'id': 3663693, 'name': 'Jutaí', 'cod': 200}\n",
      "Looking for the weather in city number 100, severo-yeniseyskiy\n",
      "{'coord': {'lon': 93.04, 'lat': 60.37}, 'weather': [{'id': 500, 'main': 'Rain', 'description': 'light rain', 'icon': '10d'}], 'base': 'stations', 'main': {'temp': 44.06, 'feels_like': 42.17, 'temp_min': 44.06, 'temp_max': 44.06, 'pressure': 1019, 'humidity': 95, 'sea_level': 1019, 'grnd_level': 960}, 'visibility': 10000, 'wind': {'speed': 0.38, 'deg': 189}, 'rain': {'1h': 0.56}, 'clouds': {'all': 97}, 'dt': 1599706957, 'sys': {'country': 'RU', 'sunrise': 1599692624, 'sunset': 1599740773}, 'timezone': 25200, 'id': 1492566, 'name': 'Severo-Yeniseyskiy', 'cod': 200}\n",
      "Looking for the weather in city number 101, alofi\n",
      "{'coord': {'lon': -169.92, 'lat': -19.06}, 'weather': [{'id': 803, 'main': 'Clouds', 'description': 'broken clouds', 'icon': '04d'}], 'base': 'stations', 'main': {'temp': 80.6, 'feels_like': 81.43, 'temp_min': 80.6, 'temp_max': 80.6, 'pressure': 1008, 'humidity': 78}, 'visibility': 10000, 'wind': {'speed': 14.99, 'deg': 50, 'gust': 27.51}, 'clouds': {'all': 75}, 'dt': 1599706677, 'sys': {'type': 1, 'id': 7306, 'country': 'NU', 'sunrise': 1599672016, 'sunset': 1599714813}, 'timezone': -39600, 'id': 4036284, 'name': 'Alofi', 'cod': 200}\n",
      "Looking for the weather in city number 102, kuala pilah\n",
      "{'coord': {'lon': 102.25, 'lat': 2.74}, 'weather': [{'id': 801, 'main': 'Clouds', 'description': 'few clouds', 'icon': '02d'}], 'base': 'stations', 'main': {'temp': 81.37, 'feels_like': 89.49, 'temp_min': 80.01, 'temp_max': 84, 'pressure': 1010, 'humidity': 83}, 'visibility': 10000, 'wind': {'speed': 4.7, 'deg': 210}, 'clouds': {'all': 20}, 'dt': 1599706958, 'sys': {'type': 1, 'id': 9437, 'country': 'MY', 'sunrise': 1599692632, 'sunset': 1599736345}, 'timezone': 28800, 'id': 1734841, 'name': 'Kuala Pilah', 'cod': 200}\n",
      "Looking for the weather in city number 103, samusu\n",
      "{'cod': '404', 'message': 'city not found'}\n",
      "Missing city. Moving on...\n",
      "Looking for the weather in city number 104, menongue\n",
      "{'coord': {'lon': 17.69, 'lat': -14.66}, 'weather': [{'id': 800, 'main': 'Clear', 'description': 'clear sky', 'icon': '01n'}], 'base': 'stations', 'main': {'temp': 50.38, 'feels_like': 43.88, 'temp_min': 50.38, 'temp_max': 50.38, 'pressure': 1019, 'humidity': 43, 'sea_level': 1019, 'grnd_level': 867}, 'visibility': 10000, 'wind': {'speed': 4.38, 'deg': 79}, 'clouds': {'all': 0}, 'dt': 1599706958, 'sys': {'country': 'AO', 'sunrise': 1599713272, 'sunset': 1599756284}, 'timezone': 3600, 'id': 3347353, 'name': 'Menongue', 'cod': 200}\n",
      "Looking for the weather in city number 105, kapiri mposhi\n",
      "{'coord': {'lon': 28.68, 'lat': -13.97}, 'weather': [{'id': 800, 'main': 'Clear', 'description': 'clear sky', 'icon': '01n'}], 'base': 'stations', 'main': {'temp': 47.88, 'feels_like': 41.52, 'temp_min': 47.88, 'temp_max': 47.88, 'pressure': 1019, 'humidity': 58, 'sea_level': 1019, 'grnd_level': 876}, 'visibility': 10000, 'wind': {'speed': 5.44, 'deg': 111}, 'clouds': {'all': 0}, 'dt': 1599706958, 'sys': {'country': 'ZM', 'sunrise': 1599710622, 'sunset': 1599753660}, 'timezone': 7200, 'id': 913029, 'name': 'Kapiri Mposhi', 'cod': 200}\n",
      "Looking for the weather in city number 106, bredasdorp\n",
      "{'coord': {'lon': 20.04, 'lat': -34.53}, 'weather': [{'id': 804, 'main': 'Clouds', 'description': 'overcast clouds', 'icon': '04n'}], 'base': 'stations', 'main': {'temp': 55, 'feels_like': 51.01, 'temp_min': 55, 'temp_max': 55, 'pressure': 1028, 'humidity': 94}, 'visibility': 10000, 'wind': {'speed': 8.93, 'deg': 148}, 'clouds': {'all': 100}, 'dt': 1599706680, 'sys': {'type': 3, 'id': 2006131, 'country': 'ZA', 'sunrise': 1599713164, 'sunset': 1599755264}, 'timezone': 7200, 'id': 1015776, 'name': 'Bredasdorp', 'cod': 200}\n",
      "Looking for the weather in city number 107, arraial do cabo\n",
      "{'coord': {'lon': -42.03, 'lat': -22.97}, 'weather': [{'id': 802, 'main': 'Clouds', 'description': 'scattered clouds', 'icon': '03n'}], 'base': 'stations', 'main': {'temp': 73.4, 'feels_like': 74.43, 'temp_min': 73.4, 'temp_max': 73.4, 'pressure': 1021, 'humidity': 88}, 'visibility': 10000, 'wind': {'speed': 11.41, 'deg': 40}, 'clouds': {'all': 40}, 'dt': 1599706677, 'sys': {'type': 1, 'id': 8326, 'country': 'BR', 'sunrise': 1599641431, 'sunset': 1599684026}, 'timezone': -10800, 'id': 3471451, 'name': 'Arraial do Cabo', 'cod': 200}\n",
      "Looking for the weather in city number 108, torres\n",
      "{'coord': {'lon': -49.73, 'lat': -29.34}, 'weather': [{'id': 804, 'main': 'Clouds', 'description': 'overcast clouds', 'icon': '04n'}], 'base': 'stations', 'main': {'temp': 65.21, 'feels_like': 63.72, 'temp_min': 65.21, 'temp_max': 65.21, 'pressure': 1016, 'humidity': 96, 'sea_level': 1016, 'grnd_level': 1014}, 'visibility': 10000, 'wind': {'speed': 11.3, 'deg': 27}, 'clouds': {'all': 100}, 'dt': 1599706678, 'sys': {'country': 'BR', 'sunrise': 1599643435, 'sunset': 1599685717}, 'timezone': -10800, 'id': 3446295, 'name': 'Torres', 'cod': 200}\n"
     ]
    },
    {
     "name": "stdout",
     "output_type": "stream",
     "text": [
      "Looking for the weather in city number 109, torbay\n",
      "{'coord': {'lon': -52.73, 'lat': 47.67}, 'weather': [{'id': 803, 'main': 'Clouds', 'description': 'broken clouds', 'icon': '04n'}], 'base': 'stations', 'main': {'temp': 62.98, 'feels_like': 62.89, 'temp_min': 62.01, 'temp_max': 64.99, 'pressure': 1026, 'humidity': 100}, 'visibility': 10000, 'wind': {'speed': 8.05, 'deg': 290}, 'clouds': {'all': 75}, 'dt': 1599706960, 'sys': {'type': 1, 'id': 998, 'country': 'CA', 'sunrise': 1599728531, 'sunset': 1599774818}, 'timezone': -9000, 'id': 6167817, 'name': 'Torbay', 'cod': 200}\n",
      "Looking for the weather in city number 110, husavik\n",
      "{'coord': {'lon': -17.34, 'lat': 66.04}, 'weather': [{'id': 500, 'main': 'Rain', 'description': 'light rain', 'icon': '10n'}], 'base': 'stations', 'main': {'temp': 42.8, 'feels_like': 36.52, 'temp_min': 42.8, 'temp_max': 42.8, 'pressure': 1002, 'humidity': 87}, 'visibility': 10000, 'wind': {'speed': 6.93, 'deg': 160}, 'rain': {'1h': 0.4}, 'clouds': {'all': 90}, 'dt': 1599706960, 'sys': {'type': 1, 'id': 83, 'country': 'IS', 'sunrise': 1599718496, 'sunset': 1599767870}, 'timezone': 0, 'id': 2629833, 'name': 'Husavik', 'cod': 200}\n",
      "Looking for the weather in city number 111, jamestown\n",
      "{'coord': {'lon': -79.24, 'lat': 42.1}, 'weather': [{'id': 800, 'main': 'Clear', 'description': 'clear sky', 'icon': '01n'}], 'base': 'stations', 'main': {'temp': 66.4, 'feels_like': 70.11, 'temp_min': 66, 'temp_max': 66.99, 'pressure': 1026, 'humidity': 100}, 'visibility': 10000, 'wind': {'speed': 3.91, 'deg': 153}, 'clouds': {'all': 1}, 'dt': 1599706374, 'sys': {'type': 1, 'id': 4588, 'country': 'US', 'sunrise': 1599648685, 'sunset': 1599694629}, 'timezone': -14400, 'id': 5122534, 'name': 'Jamestown', 'cod': 200}\n",
      "Looking for the weather in city number 112, mataura\n",
      "{'coord': {'lon': 168.86, 'lat': -46.19}, 'weather': [{'id': 804, 'main': 'Clouds', 'description': 'overcast clouds', 'icon': '04d'}], 'base': 'stations', 'main': {'temp': 50, 'feels_like': 40.59, 'temp_min': 50, 'temp_max': 50, 'pressure': 1014, 'humidity': 78}, 'visibility': 10000, 'wind': {'speed': 14, 'deg': 227, 'gust': 23}, 'clouds': {'all': 93}, 'dt': 1599706647, 'sys': {'type': 3, 'id': 2008959, 'country': 'NZ', 'sunrise': 1599677858, 'sunset': 1599719155}, 'timezone': 43200, 'id': 6201424, 'name': 'Mataura', 'cod': 200}\n",
      "Looking for the weather in city number 113, lompoc\n",
      "{'coord': {'lon': -120.46, 'lat': 34.64}, 'weather': [{'id': 741, 'main': 'Fog', 'description': 'fog', 'icon': '50n'}, {'id': 500, 'main': 'Rain', 'description': 'light rain', 'icon': '10n'}], 'base': 'stations', 'main': {'temp': 59.27, 'feels_like': 58.91, 'temp_min': 57.2, 'temp_max': 62.01, 'pressure': 1012, 'humidity': 93}, 'visibility': 805, 'wind': {'speed': 4.7, 'deg': 327}, 'clouds': {'all': 90}, 'dt': 1599706806, 'sys': {'type': 1, 'id': 4747, 'country': 'US', 'sunrise': 1599658869, 'sunset': 1599704225}, 'timezone': -25200, 'id': 5367788, 'name': 'Lompoc', 'cod': 200}\n",
      "Looking for the weather in city number 114, boromlya\n",
      "{'coord': {'lon': 34.97, 'lat': 50.62}, 'weather': [{'id': 800, 'main': 'Clear', 'description': 'clear sky', 'icon': '01n'}], 'base': 'stations', 'main': {'temp': 52.81, 'feels_like': 49.35, 'temp_min': 52.81, 'temp_max': 52.81, 'pressure': 1017, 'humidity': 90, 'sea_level': 1017, 'grnd_level': 1000}, 'visibility': 10000, 'wind': {'speed': 6.26, 'deg': 214}, 'clouds': {'all': 0}, 'dt': 1599706962, 'sys': {'country': 'UA', 'sunrise': 1599707305, 'sunset': 1599753959}, 'timezone': 10800, 'id': 711629, 'name': 'Boromlya', 'cod': 200}\n",
      "Looking for the weather in city number 115, tasiilaq\n",
      "{'coord': {'lon': -37.64, 'lat': 65.61}, 'weather': [{'id': 804, 'main': 'Clouds', 'description': 'overcast clouds', 'icon': '04n'}], 'base': 'stations', 'main': {'temp': 33.8, 'feels_like': 26.04, 'temp_min': 33.8, 'temp_max': 33.8, 'pressure': 1000, 'humidity': 86}, 'visibility': 3068, 'wind': {'speed': 6.93, 'deg': 290}, 'clouds': {'all': 100}, 'dt': 1599706641, 'sys': {'type': 1, 'id': 81, 'country': 'GL', 'sunrise': 1599723439, 'sunset': 1599772669}, 'timezone': -7200, 'id': 3424607, 'name': 'Tasiilaq', 'cod': 200}\n",
      "Looking for the weather in city number 116, male\n",
      "{'coord': {'lon': 73.51, 'lat': 4.17}, 'weather': [{'id': 803, 'main': 'Clouds', 'description': 'broken clouds', 'icon': '04d'}], 'base': 'stations', 'main': {'temp': 84.2, 'feels_like': 86.67, 'temp_min': 84.2, 'temp_max': 84.2, 'pressure': 1009, 'humidity': 79}, 'visibility': 10000, 'wind': {'speed': 16.11, 'deg': 270}, 'clouds': {'all': 75}, 'dt': 1599706929, 'sys': {'type': 1, 'id': 9232, 'country': 'MV', 'sunrise': 1599699499, 'sunset': 1599743270}, 'timezone': 18000, 'id': 1282027, 'name': 'Malé', 'cod': 200}\n",
      "Looking for the weather in city number 117, cherskiy\n",
      "{'coord': {'lon': 161.3, 'lat': 68.75}, 'weather': [{'id': 803, 'main': 'Clouds', 'description': 'broken clouds', 'icon': '04d'}], 'base': 'stations', 'main': {'temp': 51.33, 'feels_like': 45.3, 'temp_min': 51.33, 'temp_max': 51.33, 'pressure': 1025, 'humidity': 61, 'sea_level': 1025, 'grnd_level': 1025}, 'visibility': 10000, 'wind': {'speed': 6.22, 'deg': 289}, 'clouds': {'all': 83}, 'dt': 1599706658, 'sys': {'country': 'RU', 'sunrise': 1599675073, 'sunset': 1599725567}, 'timezone': 39600, 'id': 2126199, 'name': 'Cherskiy', 'cod': 200}\n",
      "Looking for the weather in city number 118, aquin\n",
      "{'coord': {'lon': -73.4, 'lat': 18.28}, 'weather': [{'id': 804, 'main': 'Clouds', 'description': 'overcast clouds', 'icon': '04n'}], 'base': 'stations', 'main': {'temp': 80.02, 'feels_like': 88.21, 'temp_min': 80.02, 'temp_max': 80.02, 'pressure': 1015, 'humidity': 78, 'sea_level': 1015, 'grnd_level': 1013}, 'visibility': 10000, 'wind': {'speed': 1.36, 'deg': 64}, 'clouds': {'all': 100}, 'dt': 1599706962, 'sys': {'country': 'HT', 'sunrise': 1599648042, 'sunset': 1599692469}, 'timezone': -14400, 'id': 3731095, 'name': 'Aquin', 'cod': 200}\n",
      "Looking for the weather in city number 119, salalah\n",
      "{'coord': {'lon': 54.09, 'lat': 17.02}, 'weather': [{'id': 803, 'main': 'Clouds', 'description': 'broken clouds', 'icon': '04d'}], 'base': 'stations', 'main': {'temp': 78.8, 'feels_like': 86.23, 'temp_min': 78.8, 'temp_max': 78.8, 'pressure': 1006, 'humidity': 83}, 'visibility': 10000, 'wind': {'speed': 3.36, 'deg': 0}, 'clouds': {'all': 75}, 'dt': 1599706963, 'sys': {'type': 1, 'id': 7562, 'country': 'OM', 'sunrise': 1599703880, 'sunset': 1599748208}, 'timezone': 14400, 'id': 286621, 'name': 'Salalah', 'cod': 200}\n",
      "Looking for the weather in city number 120, talnakh\n",
      "{'coord': {'lon': 88.4, 'lat': 69.49}, 'weather': [{'id': 802, 'main': 'Clouds', 'description': 'scattered clouds', 'icon': '03d'}], 'base': 'stations', 'main': {'temp': 50, 'feels_like': 45.36, 'temp_min': 50, 'temp_max': 50, 'pressure': 1013, 'humidity': 87}, 'visibility': 10000, 'wind': {'speed': 6.71, 'deg': 180}, 'clouds': {'all': 40}, 'dt': 1599706963, 'sys': {'type': 1, 'id': 8951, 'country': 'RU', 'sunrise': 1599692471, 'sunset': 1599743152}, 'timezone': 25200, 'id': 1490256, 'name': 'Talnakh', 'cod': 200}\n",
      "Looking for the weather in city number 121, mnogovershinnyy\n",
      "{'coord': {'lon': 139.92, 'lat': 53.94}, 'weather': [{'id': 500, 'main': 'Rain', 'description': 'light rain', 'icon': '10d'}], 'base': 'stations', 'main': {'temp': 50.88, 'feels_like': 45.19, 'temp_min': 50.88, 'temp_max': 50.88, 'pressure': 1022, 'humidity': 87, 'sea_level': 1022, 'grnd_level': 975}, 'visibility': 10000, 'wind': {'speed': 8.93, 'deg': 17}, 'rain': {'1h': 0.43}, 'clouds': {'all': 73}, 'dt': 1599706963, 'sys': {'country': 'RU', 'sunrise': 1599681881, 'sunset': 1599729019}, 'timezone': 36000, 'id': 2019935, 'name': 'Mnogovershinnyy', 'cod': 200}\n",
      "Looking for the weather in city number 122, bouna\n",
      "{'coord': {'lon': -3, 'lat': 9.27}, 'weather': [{'id': 500, 'main': 'Rain', 'description': 'light rain', 'icon': '10n'}], 'base': 'stations', 'main': {'temp': 69.75, 'feels_like': 75.87, 'temp_min': 69.75, 'temp_max': 69.75, 'pressure': 1012, 'humidity': 98, 'sea_level': 1012, 'grnd_level': 976}, 'visibility': 10000, 'wind': {'speed': 1.95, 'deg': 135}, 'rain': {'1h': 0.98}, 'clouds': {'all': 100}, 'dt': 1599706963, 'sys': {'country': 'CI', 'sunrise': 1599717753, 'sunset': 1599761732}, 'timezone': 0, 'id': 2290849, 'name': 'Bouna', 'cod': 200}\n",
      "Looking for the weather in city number 123, saint-augustin\n",
      "{'coord': {'lon': -58.65, 'lat': 51.23}, 'weather': [{'id': 804, 'main': 'Clouds', 'description': 'overcast clouds', 'icon': '04n'}], 'base': 'stations', 'main': {'temp': 53.04, 'feels_like': 49.66, 'temp_min': 53.04, 'temp_max': 53.04, 'pressure': 1026, 'humidity': 77, 'sea_level': 1026, 'grnd_level': 1023}, 'visibility': 10000, 'wind': {'speed': 4.36, 'deg': 284}, 'clouds': {'all': 100}, 'dt': 1599706697, 'sys': {'country': 'CA', 'sunrise': 1599643269, 'sunset': 1599690164}, 'timezone': -14400, 'id': 6137462, 'name': 'Saint-Augustin', 'cod': 200}\n"
     ]
    },
    {
     "name": "stdout",
     "output_type": "stream",
     "text": [
      "Looking for the weather in city number 124, nara\n",
      "{'coord': {'lon': 135.8, 'lat': 34.69}, 'weather': [{'id': 803, 'main': 'Clouds', 'description': 'broken clouds', 'icon': '04d'}], 'base': 'stations', 'main': {'temp': 82.15, 'feels_like': 88.38, 'temp_min': 81, 'temp_max': 82.99, 'pressure': 1010, 'humidity': 69}, 'visibility': 10000, 'wind': {'speed': 3.36, 'deg': 0}, 'clouds': {'all': 75}, 'dt': 1599706919, 'sys': {'type': 1, 'id': 8040, 'country': 'JP', 'sunrise': 1599683777, 'sunset': 1599729100}, 'timezone': 32400, 'id': 1855612, 'name': 'Nara', 'cod': 200}\n",
      "Looking for the weather in city number 125, saint-philippe\n",
      "{'coord': {'lon': 55.77, 'lat': -21.36}, 'weather': [{'id': 801, 'main': 'Clouds', 'description': 'few clouds', 'icon': '02d'}], 'base': 'stations', 'main': {'temp': 60.58, 'feels_like': 51.91, 'temp_min': 54, 'temp_max': 69.8, 'pressure': 1021, 'humidity': 77}, 'visibility': 10000, 'wind': {'speed': 17.22, 'deg': 120}, 'clouds': {'all': 20}, 'dt': 1599706656, 'sys': {'type': 1, 'id': 2127, 'country': 'RE', 'sunrise': 1599704280, 'sunset': 1599747002}, 'timezone': 14400, 'id': 935215, 'name': 'Saint-Philippe', 'cod': 200}\n",
      "Looking for the weather in city number 126, bovenden\n",
      "{'coord': {'lon': 9.93, 'lat': 51.58}, 'weather': [{'id': 803, 'main': 'Clouds', 'description': 'broken clouds', 'icon': '04n'}], 'base': 'stations', 'main': {'temp': 53.62, 'feels_like': 51.96, 'temp_min': 52, 'temp_max': 55.99, 'pressure': 1021, 'humidity': 91}, 'visibility': 10000, 'wind': {'speed': 3.6, 'deg': 299}, 'clouds': {'all': 72}, 'dt': 1599706964, 'sys': {'type': 3, 'id': 78227, 'country': 'DE', 'sunrise': 1599713265, 'sunset': 1599760015}, 'timezone': 7200, 'id': 2945726, 'name': 'Bovenden', 'cod': 200}\n",
      "Looking for the weather in city number 127, altay\n",
      "{'coord': {'lon': 88.12, 'lat': 47.87}, 'weather': [{'id': 803, 'main': 'Clouds', 'description': 'broken clouds', 'icon': '04d'}], 'base': 'stations', 'main': {'temp': 51.98, 'feels_like': 45.63, 'temp_min': 51.98, 'temp_max': 51.98, 'pressure': 1018, 'humidity': 44, 'sea_level': 1018, 'grnd_level': 915}, 'visibility': 10000, 'wind': {'speed': 4.63, 'deg': 256}, 'clouds': {'all': 55}, 'dt': 1599706964, 'sys': {'country': 'CN', 'sunrise': 1599694685, 'sunset': 1599741072}, 'timezone': 28800, 'id': 1529651, 'name': 'Altay', 'cod': 200}\n",
      "Looking for the weather in city number 128, thinadhoo\n",
      "{'coord': {'lon': 72.93, 'lat': 0.53}, 'weather': [{'id': 804, 'main': 'Clouds', 'description': 'overcast clouds', 'icon': '04d'}], 'base': 'stations', 'main': {'temp': 81.64, 'feels_like': 85.1, 'temp_min': 81.64, 'temp_max': 81.64, 'pressure': 1011, 'humidity': 79, 'sea_level': 1011, 'grnd_level': 1011}, 'visibility': 10000, 'wind': {'speed': 11.7, 'deg': 241}, 'clouds': {'all': 95}, 'dt': 1599706964, 'sys': {'country': 'MV', 'sunrise': 1599699713, 'sunset': 1599743334}, 'timezone': 18000, 'id': 1337610, 'name': 'Thinadhoo', 'cod': 200}\n",
      "Looking for the weather in city number 129, mehamn\n",
      "{'coord': {'lon': 27.85, 'lat': 71.04}, 'weather': [{'id': 803, 'main': 'Clouds', 'description': 'broken clouds', 'icon': '04d'}], 'base': 'stations', 'main': {'temp': 47.88, 'feels_like': 41.29, 'temp_min': 47.88, 'temp_max': 47.88, 'pressure': 992, 'humidity': 86, 'sea_level': 992, 'grnd_level': 990}, 'visibility': 10000, 'wind': {'speed': 9.17, 'deg': 296}, 'clouds': {'all': 65}, 'dt': 1599706965, 'sys': {'country': 'NO', 'sunrise': 1599706711, 'sunset': 1599757970}, 'timezone': 7200, 'id': 778707, 'name': 'Mehamn', 'cod': 200}\n",
      "Looking for the weather in city number 130, tsihombe\n",
      "{'cod': '404', 'message': 'city not found'}\n",
      "Missing city. Moving on...\n",
      "Looking for the weather in city number 131, abu samrah\n",
      "{'coord': {'lon': 37.18, 'lat': 35.3}, 'weather': [{'id': 800, 'main': 'Clear', 'description': 'clear sky', 'icon': '01n'}], 'base': 'stations', 'main': {'temp': 68.38, 'feels_like': 66.4, 'temp_min': 68.38, 'temp_max': 68.38, 'pressure': 1006, 'humidity': 44, 'sea_level': 1006, 'grnd_level': 958}, 'visibility': 10000, 'wind': {'speed': 1.7, 'deg': 321}, 'clouds': {'all': 0}, 'dt': 1599706965, 'sys': {'country': 'SY', 'sunrise': 1599707437, 'sunset': 1599752766}, 'timezone': 10800, 'id': 172515, 'name': 'Abu Samrah', 'cod': 200}\n",
      "Looking for the weather in city number 132, yining\n",
      "{'coord': {'lon': 114.56, 'lat': 29.04}, 'weather': [{'id': 502, 'main': 'Rain', 'description': 'heavy intensity rain', 'icon': '10d'}], 'base': 'stations', 'main': {'temp': 82.85, 'feels_like': 88.23, 'temp_min': 82.85, 'temp_max': 82.85, 'pressure': 1007, 'humidity': 63, 'sea_level': 1007, 'grnd_level': 990}, 'visibility': 10000, 'wind': {'speed': 3.06, 'deg': 58}, 'rain': {'1h': 4.862}, 'clouds': {'all': 96}, 'dt': 1599706965, 'sys': {'country': 'CN', 'sunrise': 1599689053, 'sunset': 1599734017}, 'timezone': 28800, 'id': 1786538, 'name': 'Yining', 'cod': 200}\n",
      "Looking for the weather in city number 133, hilo\n",
      "{'coord': {'lon': -155.09, 'lat': 19.73}, 'weather': [{'id': 804, 'main': 'Clouds', 'description': 'overcast clouds', 'icon': '04d'}], 'base': 'stations', 'main': {'temp': 72.19, 'feels_like': 72.01, 'temp_min': 55.99, 'temp_max': 80.6, 'pressure': 1014, 'humidity': 69}, 'visibility': 10000, 'wind': {'speed': 7.11, 'deg': 67}, 'clouds': {'all': 90}, 'dt': 1599706640, 'sys': {'type': 1, 'id': 7881, 'country': 'US', 'sunrise': 1599667614, 'sunset': 1599712099}, 'timezone': -36000, 'id': 5855927, 'name': 'Hilo', 'cod': 200}\n",
      "Looking for the weather in city number 134, geraldton\n",
      "{'coord': {'lon': 114.6, 'lat': -28.77}, 'weather': [{'id': 804, 'main': 'Clouds', 'description': 'overcast clouds', 'icon': '04d'}], 'base': 'stations', 'main': {'temp': 64.4, 'feels_like': 58.33, 'temp_min': 64.4, 'temp_max': 64.4, 'pressure': 1017, 'humidity': 68}, 'visibility': 10000, 'wind': {'speed': 12.75, 'deg': 200}, 'clouds': {'all': 90}, 'dt': 1599706741, 'sys': {'type': 1, 'id': 9522, 'country': 'AU', 'sunrise': 1599690343, 'sunset': 1599732708}, 'timezone': 28800, 'id': 2070998, 'name': 'Geraldton', 'cod': 200}\n",
      "Looking for the weather in city number 135, porto novo\n",
      "{'coord': {'lon': 2.6, 'lat': 6.5}, 'weather': [{'id': 801, 'main': 'Clouds', 'description': 'few clouds', 'icon': '02n'}], 'base': 'stations', 'main': {'temp': 77, 'feels_like': 79.88, 'temp_min': 77, 'temp_max': 77, 'pressure': 1012, 'humidity': 88}, 'visibility': 8000, 'wind': {'speed': 11.41, 'deg': 220}, 'clouds': {'all': 20}, 'dt': 1599706450, 'sys': {'type': 1, 'id': 1119, 'country': 'BJ', 'sunrise': 1599716467, 'sunset': 1599760330}, 'timezone': 3600, 'id': 2392087, 'name': 'Porto-Novo', 'cod': 200}\n",
      "Looking for the weather in city number 136, saint anthony\n",
      "{'coord': {'lon': -93.22, 'lat': 45.02}, 'weather': [{'id': 741, 'main': 'Fog', 'description': 'fog', 'icon': '50n'}], 'base': 'stations', 'main': {'temp': 41.34, 'feels_like': 38.53, 'temp_min': 37.99, 'temp_max': 44.6, 'pressure': 1031, 'humidity': 100}, 'visibility': 805, 'wind': {'speed': 1.5, 'deg': 59}, 'clouds': {'all': 90}, 'dt': 1599706691, 'sys': {'type': 1, 'id': 4900, 'country': 'US', 'sunrise': 1599651910, 'sunset': 1599698112}, 'timezone': -18000, 'id': 5044290, 'name': 'Saint Anthony', 'cod': 200}\n",
      "Looking for the weather in city number 137, tortoli\n",
      "{'coord': {'lon': 9.66, 'lat': 39.93}, 'weather': [{'id': 502, 'main': 'Rain', 'description': 'heavy intensity rain', 'icon': '10n'}], 'base': 'stations', 'main': {'temp': 73.4, 'feels_like': 65.14, 'temp_min': 73.4, 'temp_max': 73.4, 'pressure': 1018, 'humidity': 64}, 'visibility': 10000, 'wind': {'speed': 20.8, 'deg': 250, 'gust': 33.33}, 'rain': {'1h': 7.35}, 'clouds': {'all': 75}, 'dt': 1599706966, 'sys': {'type': 1, 'id': 6733, 'country': 'IT', 'sunrise': 1599713881, 'sunset': 1599759528}, 'timezone': 7200, 'id': 2522890, 'name': 'Tortolì', 'cod': 200}\n",
      "Looking for the weather in city number 138, jinka\n",
      "{'coord': {'lon': 36.65, 'lat': 5.65}, 'weather': [{'id': 803, 'main': 'Clouds', 'description': 'broken clouds', 'icon': '04n'}], 'base': 'stations', 'main': {'temp': 64.42, 'feels_like': 61.7, 'temp_min': 64.42, 'temp_max': 64.42, 'pressure': 1013, 'humidity': 66, 'sea_level': 1013, 'grnd_level': 859}, 'visibility': 10000, 'wind': {'speed': 6.38, 'deg': 113}, 'clouds': {'all': 61}, 'dt': 1599706966, 'sys': {'country': 'ET', 'sunrise': 1599708313, 'sunset': 1599752144}, 'timezone': 10800, 'id': 333750, 'name': 'Jinka', 'cod': 200}\n",
      "Looking for the weather in city number 139, polikhnitos\n",
      "{'cod': '404', 'message': 'city not found'}\n",
      "Missing city. Moving on...\n"
     ]
    },
    {
     "name": "stdout",
     "output_type": "stream",
     "text": [
      "Looking for the weather in city number 140, nirgua\n",
      "{'coord': {'lon': -68.57, 'lat': 10.16}, 'weather': [{'id': 804, 'main': 'Clouds', 'description': 'overcast clouds', 'icon': '04n'}], 'base': 'stations', 'main': {'temp': 66.38, 'feels_like': 70.79, 'temp_min': 66.38, 'temp_max': 66.38, 'pressure': 1014, 'humidity': 98, 'sea_level': 1014, 'grnd_level': 925}, 'visibility': 10000, 'wind': {'speed': 2.17, 'deg': 169}, 'clouds': {'all': 100}, 'dt': 1599706967, 'sys': {'country': 'VE', 'sunrise': 1599647075, 'sunset': 1599691119}, 'timezone': -14400, 'id': 3631507, 'name': 'Nirgua', 'cod': 200}\n",
      "Looking for the weather in city number 141, mar del plata\n",
      "{'coord': {'lon': -57.56, 'lat': -38}, 'weather': [{'id': 803, 'main': 'Clouds', 'description': 'broken clouds', 'icon': '04n'}], 'base': 'stations', 'main': {'temp': 50.92, 'feels_like': 46.8, 'temp_min': 50, 'temp_max': 51.8, 'pressure': 1019, 'humidity': 76}, 'visibility': 8000, 'wind': {'speed': 4.7, 'deg': 230}, 'clouds': {'all': 75}, 'dt': 1599706674, 'sys': {'type': 1, 'id': 8305, 'country': 'AR', 'sunrise': 1599645557, 'sunset': 1599687353}, 'timezone': -10800, 'id': 3430863, 'name': 'Mar del Plata', 'cod': 200}\n",
      "Looking for the weather in city number 142, beni\n",
      "{'coord': {'lon': 29.47, 'lat': 0.5}, 'weather': [{'id': 803, 'main': 'Clouds', 'description': 'broken clouds', 'icon': '04n'}], 'base': 'stations', 'main': {'temp': 62.1, 'feels_like': 65.64, 'temp_min': 62.1, 'temp_max': 62.1, 'pressure': 1012, 'humidity': 99, 'sea_level': 1012, 'grnd_level': 887}, 'visibility': 10000, 'wind': {'speed': 0.74, 'deg': 184}, 'clouds': {'all': 75}, 'dt': 1599706967, 'sys': {'country': 'CD', 'sunrise': 1599710141, 'sunset': 1599753761}, 'timezone': 7200, 'id': 219057, 'name': 'Beni', 'cod': 200}\n",
      "Looking for the weather in city number 143, san jeronimo\n",
      "{'coord': {'lon': -75.28, 'lat': -11.95}, 'weather': [{'id': 801, 'main': 'Clouds', 'description': 'few clouds', 'icon': '02n'}], 'base': 'stations', 'main': {'temp': 50.76, 'feels_like': 46.6, 'temp_min': 50.76, 'temp_max': 50.76, 'pressure': 1021, 'humidity': 63, 'sea_level': 1021, 'grnd_level': 696}, 'visibility': 10000, 'wind': {'speed': 2.98, 'deg': 43}, 'clouds': {'all': 20}, 'dt': 1599706967, 'sys': {'country': 'PE', 'sunrise': 1599649160, 'sunset': 1599692253}, 'timezone': -18000, 'id': 3929611, 'name': 'San Jerónimo', 'cod': 200}\n",
      "Looking for the weather in city number 144, huangchuan\n",
      "{'coord': {'lon': 115.04, 'lat': 32.13}, 'weather': [{'id': 501, 'main': 'Rain', 'description': 'moderate rain', 'icon': '10d'}], 'base': 'stations', 'main': {'temp': 71.92, 'feels_like': 77.04, 'temp_min': 71.92, 'temp_max': 71.92, 'pressure': 1009, 'humidity': 84, 'sea_level': 1009, 'grnd_level': 1005}, 'visibility': 10000, 'wind': {'speed': 1.74, 'deg': 286}, 'rain': {'1h': 2.734}, 'clouds': {'all': 100}, 'dt': 1599706968, 'sys': {'country': 'CN', 'sunrise': 1599688845, 'sunset': 1599733995}, 'timezone': 28800, 'id': 1807553, 'name': 'Dingcheng', 'cod': 200}\n",
      "Looking for the weather in city number 145, katsuura\n",
      "{'coord': {'lon': 140.3, 'lat': 35.13}, 'weather': [{'id': 211, 'main': 'Thunderstorm', 'description': 'thunderstorm', 'icon': '11d'}], 'base': 'stations', 'main': {'temp': 85.23, 'feels_like': 88.34, 'temp_min': 84, 'temp_max': 86, 'pressure': 1011, 'humidity': 74}, 'visibility': 10000, 'wind': {'speed': 13.87, 'deg': 160}, 'clouds': {'all': 75}, 'dt': 1599706652, 'sys': {'type': 1, 'id': 8057, 'country': 'JP', 'sunrise': 1599682682, 'sunset': 1599728036}, 'timezone': 32400, 'id': 2112309, 'name': 'Katsuura', 'cod': 200}\n",
      "Looking for the weather in city number 146, barrow\n",
      "{'coord': {'lon': -156.79, 'lat': 71.29}, 'weather': [{'id': 804, 'main': 'Clouds', 'description': 'overcast clouds', 'icon': '04d'}], 'base': 'stations', 'main': {'temp': 33.8, 'feels_like': 22.14, 'temp_min': 33.8, 'temp_max': 33.8, 'pressure': 1021, 'humidity': 86}, 'visibility': 10000, 'wind': {'speed': 13.87, 'deg': 220}, 'clouds': {'all': 90}, 'dt': 1599706968, 'sys': {'type': 1, 'id': 7649, 'country': 'US', 'sunrise': 1599664438, 'sunset': 1599716091}, 'timezone': -28800, 'id': 5880054, 'name': 'Barrow', 'cod': 200}\n",
      "Looking for the weather in city number 147, port alfred\n",
      "{'coord': {'lon': 26.89, 'lat': -33.59}, 'weather': [{'id': 804, 'main': 'Clouds', 'description': 'overcast clouds', 'icon': '04n'}], 'base': 'stations', 'main': {'temp': 63.84, 'feels_like': 60.49, 'temp_min': 63.84, 'temp_max': 63.84, 'pressure': 1026, 'humidity': 77, 'sea_level': 1026, 'grnd_level': 1024}, 'visibility': 10000, 'wind': {'speed': 9.55, 'deg': 222}, 'clouds': {'all': 100}, 'dt': 1599706446, 'sys': {'country': 'ZA', 'sunrise': 1599711496, 'sunset': 1599753645}, 'timezone': 7200, 'id': 964432, 'name': 'Port Alfred', 'cod': 200}\n",
      "Looking for the weather in city number 148, sentyabrskiy\n",
      "{'cod': '404', 'message': 'city not found'}\n",
      "Missing city. Moving on...\n",
      "Looking for the weather in city number 149, kavaratti\n",
      "{'coord': {'lon': 72.64, 'lat': 10.57}, 'weather': [{'id': 804, 'main': 'Clouds', 'description': 'overcast clouds', 'icon': '04d'}], 'base': 'stations', 'main': {'temp': 82, 'feels_like': 78.53, 'temp_min': 82, 'temp_max': 82, 'pressure': 1007, 'humidity': 81, 'sea_level': 1007, 'grnd_level': 1006}, 'visibility': 10000, 'wind': {'speed': 25.14, 'deg': 269}, 'clouds': {'all': 100}, 'dt': 1599706681, 'sys': {'country': 'IN', 'sunrise': 1599699572, 'sunset': 1599743614}, 'timezone': 19800, 'id': 1267390, 'name': 'Kavaratti', 'cod': 200}\n",
      "Looking for the weather in city number 150, pisco\n",
      "{'coord': {'lon': -76.22, 'lat': -13.7}, 'weather': [{'id': 800, 'main': 'Clear', 'description': 'clear sky', 'icon': '01n'}], 'base': 'stations', 'main': {'temp': 60.89, 'feels_like': 56.14, 'temp_min': 60.8, 'temp_max': 61, 'pressure': 1015, 'humidity': 82}, 'visibility': 10000, 'wind': {'speed': 11.41, 'deg': 200}, 'clouds': {'all': 0}, 'dt': 1599706968, 'sys': {'type': 1, 'id': 8691, 'country': 'PE', 'sunrise': 1599649423, 'sunset': 1599692441}, 'timezone': -18000, 'id': 3932145, 'name': 'Pisco', 'cod': 200}\n",
      "Looking for the weather in city number 151, nanortalik\n",
      "{'coord': {'lon': -45.24, 'lat': 60.14}, 'weather': [{'id': 500, 'main': 'Rain', 'description': 'light rain', 'icon': '10n'}], 'base': 'stations', 'main': {'temp': 41.36, 'feels_like': 32.07, 'temp_min': 41.36, 'temp_max': 41.36, 'pressure': 1002, 'humidity': 89, 'sea_level': 1002, 'grnd_level': 1002}, 'visibility': 8734, 'wind': {'speed': 12.01, 'deg': 288}, 'rain': {'1h': 0.73}, 'clouds': {'all': 100}, 'dt': 1599706687, 'sys': {'country': 'GL', 'sunrise': 1599725887, 'sunset': 1599773867}, 'timezone': -7200, 'id': 3421765, 'name': 'Nanortalik', 'cod': 200}\n",
      "Looking for the weather in city number 152, cabo san lucas\n",
      "{'coord': {'lon': -109.91, 'lat': 22.89}, 'weather': [{'id': 802, 'main': 'Clouds', 'description': 'scattered clouds', 'icon': '03n'}], 'base': 'stations', 'main': {'temp': 81.16, 'feels_like': 87.46, 'temp_min': 80.6, 'temp_max': 82, 'pressure': 1011, 'humidity': 78}, 'visibility': 10000, 'wind': {'speed': 5.82, 'deg': 160}, 'clouds': {'all': 40}, 'dt': 1599706969, 'sys': {'type': 1, 'id': 7151, 'country': 'MX', 'sunrise': 1599656688, 'sunset': 1599701344}, 'timezone': -21600, 'id': 3985710, 'name': 'Cabo San Lucas', 'cod': 200}\n",
      "Looking for the weather in city number 153, luderitz\n",
      "{'coord': {'lon': 15.16, 'lat': -26.65}, 'weather': [{'id': 800, 'main': 'Clear', 'description': 'clear sky', 'icon': '01n'}], 'base': 'stations', 'main': {'temp': 64.42, 'feels_like': 54.27, 'temp_min': 64.42, 'temp_max': 64.42, 'pressure': 1017, 'humidity': 52, 'sea_level': 1017, 'grnd_level': 1013}, 'visibility': 10000, 'wind': {'speed': 16.53, 'deg': 167}, 'clouds': {'all': 0}, 'dt': 1599706692, 'sys': {'country': 'NA', 'sunrise': 1599714138, 'sunset': 1599756631}, 'timezone': 7200, 'id': 3355672, 'name': 'Lüderitz', 'cod': 200}\n",
      "Looking for the weather in city number 154, avera\n",
      "{'coord': {'lon': -82.53, 'lat': 33.19}, 'weather': [{'id': 802, 'main': 'Clouds', 'description': 'scattered clouds', 'icon': '03n'}], 'base': 'stations', 'main': {'temp': 75.72, 'feels_like': 82.63, 'temp_min': 75, 'temp_max': 77, 'pressure': 1020, 'humidity': 89}, 'visibility': 10000, 'wind': {'speed': 3.36, 'deg': 360}, 'clouds': {'all': 40}, 'dt': 1599706969, 'sys': {'type': 1, 'id': 2827, 'country': 'US', 'sunrise': 1599649810, 'sunset': 1599695082}, 'timezone': -14400, 'id': 4231997, 'name': 'Avera', 'cod': 200}\n",
      "Looking for the weather in city number 155, la ronge\n",
      "{'coord': {'lon': -105.28, 'lat': 55.1}, 'weather': [{'id': 801, 'main': 'Clouds', 'description': 'few clouds', 'icon': '02n'}], 'base': 'stations', 'main': {'temp': 53.6, 'feels_like': 50.07, 'temp_min': 53.6, 'temp_max': 53.6, 'pressure': 1018, 'humidity': 76}, 'visibility': 10000, 'wind': {'speed': 4.7, 'deg': 240}, 'clouds': {'all': 20}, 'dt': 1599706695, 'sys': {'type': 1, 'id': 949, 'country': 'CA', 'sunrise': 1599654211, 'sunset': 1599701598}, 'timezone': -21600, 'id': 6050066, 'name': 'La Ronge', 'cod': 200}\n"
     ]
    },
    {
     "name": "stdout",
     "output_type": "stream",
     "text": [
      "Looking for the weather in city number 156, pevek\n",
      "{'coord': {'lon': 170.31, 'lat': 69.7}, 'weather': [{'id': 804, 'main': 'Clouds', 'description': 'overcast clouds', 'icon': '04d'}], 'base': 'stations', 'main': {'temp': 41.02, 'feels_like': 35.6, 'temp_min': 41.02, 'temp_max': 41.02, 'pressure': 1022, 'humidity': 95, 'sea_level': 1022, 'grnd_level': 1017}, 'visibility': 10000, 'wind': {'speed': 5.57, 'deg': 299}, 'clouds': {'all': 100}, 'dt': 1599706688, 'sys': {'country': 'RU', 'sunrise': 1599672716, 'sunset': 1599723600}, 'timezone': 43200, 'id': 2122090, 'name': 'Pevek', 'cod': 200}\n",
      "Looking for the weather in city number 157, tiznit\n",
      "{'coord': {'lon': -9.5, 'lat': 29.58}, 'weather': [{'id': 800, 'main': 'Clear', 'description': 'clear sky', 'icon': '01n'}], 'base': 'stations', 'main': {'temp': 73.11, 'feels_like': 71.06, 'temp_min': 73.11, 'temp_max': 73.11, 'pressure': 1014, 'humidity': 41, 'sea_level': 1014, 'grnd_level': 951}, 'visibility': 10000, 'wind': {'speed': 2.86, 'deg': 303}, 'clouds': {'all': 0}, 'dt': 1599706970, 'sys': {'country': 'MA', 'sunrise': 1599718822, 'sunset': 1599763782}, 'timezone': 3600, 'id': 2527087, 'name': 'Tiznit Province', 'cod': 200}\n",
      "Looking for the weather in city number 158, semey\n",
      "{'coord': {'lon': 80.23, 'lat': 50.41}, 'weather': [{'id': 802, 'main': 'Clouds', 'description': 'scattered clouds', 'icon': '03d'}], 'base': 'stations', 'main': {'temp': 50, 'feels_like': 44.92, 'temp_min': 50, 'temp_max': 50, 'pressure': 1024, 'humidity': 81}, 'visibility': 10000, 'wind': {'speed': 6.71, 'deg': 340}, 'clouds': {'all': 34}, 'dt': 1599706970, 'sys': {'type': 1, 'id': 8833, 'country': 'KZ', 'sunrise': 1599696443, 'sunset': 1599743101}, 'timezone': 21600, 'id': 1519422, 'name': 'Semey', 'cod': 200}\n",
      "Looking for the weather in city number 159, yellowknife\n",
      "{'coord': {'lon': -114.35, 'lat': 62.46}, 'weather': [{'id': 802, 'main': 'Clouds', 'description': 'scattered clouds', 'icon': '03n'}], 'base': 'stations', 'main': {'temp': 47.8, 'feels_like': 42.66, 'temp_min': 46.99, 'temp_max': 48.2, 'pressure': 1020, 'humidity': 70}, 'visibility': 10000, 'wind': {'speed': 4.7, 'deg': 280}, 'clouds': {'all': 40}, 'dt': 1599706693, 'sys': {'type': 1, 'id': 1007, 'country': 'CA', 'sunrise': 1599655712, 'sunset': 1599704450}, 'timezone': -21600, 'id': 6185377, 'name': 'Yellowknife', 'cod': 200}\n",
      "Looking for the weather in city number 160, roma\n",
      "{'coord': {'lon': -75.46, 'lat': 43.21}, 'weather': [{'id': 800, 'main': 'Clear', 'description': 'clear sky', 'icon': '01n'}], 'base': 'stations', 'main': {'temp': 70.03, 'feels_like': 70.39, 'temp_min': 66.99, 'temp_max': 73.4, 'pressure': 1025, 'humidity': 73}, 'visibility': 10000, 'wind': {'speed': 5.82, 'deg': 90}, 'clouds': {'all': 1}, 'dt': 1599706970, 'sys': {'type': 1, 'id': 5681, 'country': 'US', 'sunrise': 1599647728, 'sunset': 1599693771}, 'timezone': -14400, 'id': 5134295, 'name': 'Rome', 'cod': 200}\n",
      "Looking for the weather in city number 161, mys shmidta\n",
      "{'cod': '404', 'message': 'city not found'}\n",
      "Missing city. Moving on...\n",
      "Looking for the weather in city number 162, cidreira\n",
      "{'coord': {'lon': -50.21, 'lat': -30.18}, 'weather': [{'id': 500, 'main': 'Rain', 'description': 'light rain', 'icon': '10n'}], 'base': 'stations', 'main': {'temp': 64.24, 'feels_like': 60.17, 'temp_min': 64.24, 'temp_max': 64.24, 'pressure': 1014, 'humidity': 97, 'sea_level': 1014, 'grnd_level': 1013}, 'visibility': 10000, 'wind': {'speed': 15.37, 'deg': 27}, 'rain': {'1h': 0.9106}, 'clouds': {'all': 100}, 'dt': 1599706701, 'sys': {'country': 'BR', 'sunrise': 1599643572, 'sunset': 1599685810}, 'timezone': -10800, 'id': 3466165, 'name': 'Cidreira', 'cod': 200}\n",
      "Looking for the weather in city number 163, loudi\n",
      "{'coord': {'lon': 111.99, 'lat': 27.73}, 'weather': [{'id': 501, 'main': 'Rain', 'description': 'moderate rain', 'icon': '10d'}], 'base': 'stations', 'main': {'temp': 82.76, 'feels_like': 91.36, 'temp_min': 82.76, 'temp_max': 82.76, 'pressure': 1006, 'humidity': 78, 'sea_level': 1006, 'grnd_level': 990}, 'visibility': 10000, 'wind': {'speed': 3.31, 'deg': 349}, 'rain': {'1h': 1.0606}, 'clouds': {'all': 75}, 'dt': 1599706971, 'sys': {'country': 'CN', 'sunrise': 1599689708, 'sunset': 1599734595}, 'timezone': 28800, 'id': 1802238, 'name': 'Loudi', 'cod': 200}\n",
      "Looking for the weather in city number 164, inderborskiy\n",
      "{'cod': '404', 'message': 'city not found'}\n",
      "Missing city. Moving on...\n",
      "Looking for the weather in city number 165, yian\n",
      "{'cod': '404', 'message': 'city not found'}\n",
      "Missing city. Moving on...\n",
      "Looking for the weather in city number 166, jiddah\n",
      "{'cod': '404', 'message': 'city not found'}\n",
      "Missing city. Moving on...\n",
      "Looking for the weather in city number 167, tuktoyaktuk\n",
      "{'coord': {'lon': -133.04, 'lat': 69.45}, 'weather': [{'id': 804, 'main': 'Clouds', 'description': 'overcast clouds', 'icon': '04d'}], 'base': 'stations', 'main': {'temp': 39.2, 'feels_like': 30.06, 'temp_min': 39.2, 'temp_max': 39.2, 'pressure': 1017, 'humidity': 93}, 'visibility': 10000, 'wind': {'speed': 11.41, 'deg': 50}, 'clouds': {'all': 90}, 'dt': 1599706640, 'sys': {'type': 1, 'id': 942, 'country': 'CA', 'sunrise': 1599659135, 'sunset': 1599709996}, 'timezone': -21600, 'id': 6170031, 'name': 'Tuktoyaktuk', 'cod': 200}\n",
      "Looking for the weather in city number 168, hambantota\n",
      "{'coord': {'lon': 81.12, 'lat': 6.12}, 'weather': [{'id': 802, 'main': 'Clouds', 'description': 'scattered clouds', 'icon': '03d'}], 'base': 'stations', 'main': {'temp': 77, 'feels_like': 85.91, 'temp_min': 77, 'temp_max': 77, 'pressure': 1009, 'humidity': 100}, 'visibility': 10000, 'wind': {'speed': 4.7, 'deg': 220}, 'clouds': {'all': 40}, 'dt': 1599706972, 'sys': {'type': 1, 'id': 9124, 'country': 'LK', 'sunrise': 1599697632, 'sunset': 1599741485}, 'timezone': 19800, 'id': 1244926, 'name': 'Hambantota', 'cod': 200}\n",
      "Looking for the weather in city number 169, gimli\n",
      "{'coord': {'lon': -96.99, 'lat': 50.63}, 'weather': [{'id': 800, 'main': 'Clear', 'description': 'clear sky', 'icon': '01n'}], 'base': 'stations', 'main': {'temp': 49.24, 'feels_like': 44.69, 'temp_min': 46.99, 'temp_max': 51.01, 'pressure': 1025, 'humidity': 93}, 'visibility': 10000, 'wind': {'speed': 7, 'deg': 219, 'gust': 8.99}, 'clouds': {'all': 0}, 'dt': 1599706972, 'sys': {'type': 3, 'id': 19218, 'country': 'CA', 'sunrise': 1599652517, 'sunset': 1599699315}, 'timezone': -18000, 'id': 5961417, 'name': 'Gimli', 'cod': 200}\n",
      "Looking for the weather in city number 170, rio gallegos\n",
      "{'coord': {'lon': -69.22, 'lat': -51.62}, 'weather': [{'id': 804, 'main': 'Clouds', 'description': 'overcast clouds', 'icon': '04n'}], 'base': 'stations', 'main': {'temp': 42.8, 'feels_like': 21.2, 'temp_min': 42.8, 'temp_max': 42.8, 'pressure': 1000, 'humidity': 56}, 'visibility': 10000, 'wind': {'speed': 31.09, 'deg': 360, 'gust': 44.96}, 'clouds': {'all': 100}, 'dt': 1599706972, 'sys': {'type': 1, 'id': 8293, 'country': 'AR', 'sunrise': 1599735135, 'sunset': 1599776127}, 'timezone': -10800, 'id': 3838859, 'name': 'Río Gallegos', 'cod': 200}\n",
      "Looking for the weather in city number 171, selikhino\n",
      "{'coord': {'lon': 137.5, 'lat': 50.37}, 'weather': [{'id': 802, 'main': 'Clouds', 'description': 'scattered clouds', 'icon': '03d'}], 'base': 'stations', 'main': {'temp': 61.07, 'feels_like': 52.29, 'temp_min': 61.07, 'temp_max': 61.07, 'pressure': 1018, 'humidity': 64, 'sea_level': 1018, 'grnd_level': 1013}, 'visibility': 10000, 'wind': {'speed': 15.19, 'deg': 21}, 'clouds': {'all': 50}, 'dt': 1599706972, 'sys': {'country': 'RU', 'sunrise': 1599682686, 'sunset': 1599729375}, 'timezone': 36000, 'id': 2017042, 'name': 'Selikhino', 'cod': 200}\n",
      "Looking for the weather in city number 172, turmalina\n",
      "{'coord': {'lon': -42.73, 'lat': -17.29}, 'weather': [{'id': 801, 'main': 'Clouds', 'description': 'few clouds', 'icon': '02n'}], 'base': 'stations', 'main': {'temp': 59.7, 'feels_like': 59.38, 'temp_min': 59.7, 'temp_max': 59.7, 'pressure': 1022, 'humidity': 77, 'sea_level': 1022, 'grnd_level': 942}, 'visibility': 10000, 'wind': {'speed': 1.95, 'deg': 122}, 'clouds': {'all': 18}, 'dt': 1599706973, 'sys': {'country': 'BR', 'sunrise': 1599727819, 'sunset': 1599770731}, 'timezone': -10800, 'id': 3445912, 'name': 'Turmalina', 'cod': 200}\n"
     ]
    },
    {
     "name": "stdout",
     "output_type": "stream",
     "text": [
      "Looking for the weather in city number 173, tucupita\n",
      "{'coord': {'lon': -62.05, 'lat': 9.06}, 'weather': [{'id': 804, 'main': 'Clouds', 'description': 'overcast clouds', 'icon': '04n'}], 'base': 'stations', 'main': {'temp': 74.52, 'feels_like': 83.07, 'temp_min': 74.52, 'temp_max': 74.52, 'pressure': 1014, 'humidity': 96, 'sea_level': 1014, 'grnd_level': 1013}, 'visibility': 10000, 'wind': {'speed': 1.48, 'deg': 142}, 'clouds': {'all': 100}, 'dt': 1599706973, 'sys': {'country': 'VE', 'sunrise': 1599645535, 'sunset': 1599689530}, 'timezone': -14400, 'id': 3625929, 'name': 'Tucupita', 'cod': 200}\n",
      "Looking for the weather in city number 174, naryan-mar\n",
      "{'coord': {'lon': 53.09, 'lat': 67.67}, 'weather': [{'id': 804, 'main': 'Clouds', 'description': 'overcast clouds', 'icon': '04d'}], 'base': 'stations', 'main': {'temp': 54.73, 'feels_like': 47.19, 'temp_min': 54.73, 'temp_max': 54.73, 'pressure': 995, 'humidity': 88, 'sea_level': 995, 'grnd_level': 994}, 'visibility': 10000, 'wind': {'speed': 14.14, 'deg': 171}, 'clouds': {'all': 100}, 'dt': 1599706973, 'sys': {'country': 'RU', 'sunrise': 1599701300, 'sunset': 1599751268}, 'timezone': 10800, 'id': 523392, 'name': 'Naryan-Mar', 'cod': 200}\n",
      "Looking for the weather in city number 175, opuwo\n",
      "{'coord': {'lon': 13.84, 'lat': -18.06}, 'weather': [{'id': 800, 'main': 'Clear', 'description': 'clear sky', 'icon': '01n'}], 'base': 'stations', 'main': {'temp': 58.44, 'feels_like': 49.68, 'temp_min': 58.44, 'temp_max': 58.44, 'pressure': 1015, 'humidity': 30, 'sea_level': 1015, 'grnd_level': 887}, 'visibility': 10000, 'wind': {'speed': 8.05, 'deg': 96}, 'clouds': {'all': 0}, 'dt': 1599706973, 'sys': {'country': 'NA', 'sunrise': 1599714266, 'sunset': 1599757137}, 'timezone': 7200, 'id': 3354077, 'name': 'Opuwo', 'cod': 200}\n",
      "Looking for the weather in city number 176, madisonville\n",
      "{'coord': {'lon': -87.5, 'lat': 37.33}, 'weather': [{'id': 800, 'main': 'Clear', 'description': 'clear sky', 'icon': '01n'}], 'base': 'stations', 'main': {'temp': 71.31, 'feels_like': 74.34, 'temp_min': 68, 'temp_max': 73.4, 'pressure': 1022, 'humidity': 83}, 'visibility': 10000, 'wind': {'speed': 4.7, 'deg': 10}, 'clouds': {'all': 1}, 'dt': 1599706957, 'sys': {'type': 1, 'id': 2815, 'country': 'US', 'sunrise': 1599650859, 'sunset': 1599696419}, 'timezone': -18000, 'id': 4299670, 'name': 'Madisonville', 'cod': 200}\n",
      "Looking for the weather in city number 177, chumikan\n",
      "{'coord': {'lon': 135.31, 'lat': 54.72}, 'weather': [{'id': 803, 'main': 'Clouds', 'description': 'broken clouds', 'icon': '04d'}], 'base': 'stations', 'main': {'temp': 54.93, 'feels_like': 50.76, 'temp_min': 54.93, 'temp_max': 54.93, 'pressure': 1024, 'humidity': 63, 'sea_level': 1024, 'grnd_level': 1024}, 'visibility': 10000, 'wind': {'speed': 4.38, 'deg': 78}, 'clouds': {'all': 75}, 'dt': 1599706974, 'sys': {'country': 'RU', 'sunrise': 1599682934, 'sunset': 1599730178}, 'timezone': 36000, 'id': 2025256, 'name': 'Chumikan', 'cod': 200}\n",
      "Looking for the weather in city number 178, price\n",
      "{'coord': {'lon': -110.81, 'lat': 39.6}, 'weather': [{'id': 801, 'main': 'Clouds', 'description': 'few clouds', 'icon': '02n'}], 'base': 'stations', 'main': {'temp': 50, 'feels_like': 37.08, 'temp_min': 50, 'temp_max': 50, 'pressure': 1023, 'humidity': 46}, 'visibility': 10000, 'wind': {'speed': 16.11, 'deg': 80}, 'clouds': {'all': 20}, 'dt': 1599706974, 'sys': {'type': 1, 'id': 5428, 'country': 'US', 'sunrise': 1599656370, 'sunset': 1599702094}, 'timezone': -21600, 'id': 5545269, 'name': 'Price', 'cod': 200}\n",
      "Looking for the weather in city number 179, thompson\n",
      "{'coord': {'lon': -97.86, 'lat': 55.74}, 'weather': [{'id': 804, 'main': 'Clouds', 'description': 'overcast clouds', 'icon': '04n'}], 'base': 'stations', 'main': {'temp': 55.4, 'feels_like': 49.33, 'temp_min': 55.4, 'temp_max': 55.4, 'pressure': 1014, 'humidity': 71}, 'visibility': 10000, 'wind': {'speed': 9.17, 'deg': 240}, 'clouds': {'all': 90}, 'dt': 1599706676, 'sys': {'type': 1, 'id': 935, 'country': 'CA', 'sunrise': 1599652380, 'sunset': 1599699869}, 'timezone': -18000, 'id': 6165406, 'name': 'Thompson', 'cod': 200}\n",
      "Looking for the weather in city number 180, jocon\n",
      "{'coord': {'lon': -86.97, 'lat': 15.28}, 'weather': [{'id': 500, 'main': 'Rain', 'description': 'light rain', 'icon': '10n'}], 'base': 'stations', 'main': {'temp': 67.69, 'feels_like': 72.55, 'temp_min': 67.69, 'temp_max': 67.69, 'pressure': 1014, 'humidity': 100, 'sea_level': 1014, 'grnd_level': 909}, 'visibility': 10000, 'wind': {'speed': 2.93, 'deg': 115}, 'rain': {'1h': 0.17200000000000001}, 'clouds': {'all': 98}, 'dt': 1599706974, 'sys': {'country': 'HN', 'sunrise': 1599651372, 'sunset': 1599695651}, 'timezone': -21600, 'id': 3608635, 'name': 'Jocón', 'cod': 200}\n",
      "Looking for the weather in city number 181, diu\n",
      "{'coord': {'lon': 70.98, 'lat': 20.71}, 'weather': [{'id': 803, 'main': 'Clouds', 'description': 'broken clouds', 'icon': '04d'}], 'base': 'stations', 'main': {'temp': 80.98, 'feels_like': 86.18, 'temp_min': 80.98, 'temp_max': 80.98, 'pressure': 1006, 'humidity': 81, 'sea_level': 1006, 'grnd_level': 1004}, 'visibility': 10000, 'wind': {'speed': 8.72, 'deg': 319}, 'clouds': {'all': 63}, 'dt': 1599706652, 'sys': {'country': 'IN', 'sunrise': 1599699737, 'sunset': 1599744246}, 'timezone': 19800, 'id': 1272502, 'name': 'Diu', 'cod': 200}\n",
      "Looking for the weather in city number 182, bambous virieux\n",
      "{'coord': {'lon': 57.76, 'lat': -20.34}, 'weather': [{'id': 520, 'main': 'Rain', 'description': 'light intensity shower rain', 'icon': '09d'}], 'base': 'stations', 'main': {'temp': 69.89, 'feels_like': 66, 'temp_min': 69.8, 'temp_max': 70, 'pressure': 1021, 'humidity': 88}, 'visibility': 8000, 'wind': {'speed': 17.22, 'deg': 140}, 'clouds': {'all': 75}, 'dt': 1599706652, 'sys': {'type': 1, 'id': 2061, 'country': 'MU', 'sunrise': 1599703781, 'sunset': 1599746546}, 'timezone': 14400, 'id': 1106677, 'name': 'Bambous Virieux', 'cod': 200}\n",
      "Looking for the weather in city number 183, sabaudia\n",
      "{'coord': {'lon': 13.03, 'lat': 41.3}, 'weather': [{'id': 800, 'main': 'Clear', 'description': 'clear sky', 'icon': '01n'}], 'base': 'stations', 'main': {'temp': 71.35, 'feels_like': 73.33, 'temp_min': 69.01, 'temp_max': 73.99, 'pressure': 1009, 'humidity': 70}, 'visibility': 10000, 'wind': {'speed': 3, 'deg': 40, 'gust': 3}, 'clouds': {'all': 0}, 'dt': 1599706975, 'sys': {'type': 3, 'id': 2012506, 'country': 'IT', 'sunrise': 1599713018, 'sunset': 1599758774}, 'timezone': 7200, 'id': 3168764, 'name': 'Sabaudia', 'cod': 200}\n",
      "Looking for the weather in city number 184, tessalit\n",
      "{'coord': {'lon': 1.01, 'lat': 20.2}, 'weather': [{'id': 800, 'main': 'Clear', 'description': 'clear sky', 'icon': '01n'}], 'base': 'stations', 'main': {'temp': 90.03, 'feels_like': 83.32, 'temp_min': 90.03, 'temp_max': 90.03, 'pressure': 1010, 'humidity': 15, 'sea_level': 1010, 'grnd_level': 951}, 'visibility': 10000, 'wind': {'speed': 6.73, 'deg': 138}, 'clouds': {'all': 5}, 'dt': 1599706975, 'sys': {'country': 'ML', 'sunrise': 1599716545, 'sunset': 1599761015}, 'timezone': 0, 'id': 2449893, 'name': 'Tessalit', 'cod': 200}\n",
      "Looking for the weather in city number 185, los llanos de aridane\n",
      "{'coord': {'lon': -17.92, 'lat': 28.66}, 'weather': [{'id': 802, 'main': 'Clouds', 'description': 'scattered clouds', 'icon': '03n'}], 'base': 'stations', 'main': {'temp': 78.66, 'feels_like': 79.2, 'temp_min': 73.4, 'temp_max': 82, 'pressure': 1020, 'humidity': 88}, 'visibility': 10000, 'wind': {'speed': 17.22, 'deg': 10}, 'clouds': {'all': 40}, 'dt': 1599706975, 'sys': {'type': 1, 'id': 2377, 'country': 'ES', 'sunrise': 1599720870, 'sunset': 1599765774}, 'timezone': 3600, 'id': 2514651, 'name': 'Los Llanos de Aridane', 'cod': 200}\n",
      "Looking for the weather in city number 186, sao filipe\n",
      "{'coord': {'lon': -24.5, 'lat': 14.9}, 'weather': [{'id': 500, 'main': 'Rain', 'description': 'light rain', 'icon': '10n'}], 'base': 'stations', 'main': {'temp': 79.66, 'feels_like': 87.91, 'temp_min': 79.66, 'temp_max': 79.66, 'pressure': 1013, 'humidity': 86, 'sea_level': 1013, 'grnd_level': 1007}, 'visibility': 10000, 'wind': {'speed': 3.85, 'deg': 252}, 'rain': {'1h': 0.2}, 'clouds': {'all': 76}, 'dt': 1599706976, 'sys': {'country': 'CV', 'sunrise': 1599722791, 'sunset': 1599767011}, 'timezone': -3600, 'id': 3374210, 'name': 'São Filipe', 'cod': 200}\n",
      "Looking for the weather in city number 187, esperance\n",
      "{'coord': {'lon': 121.9, 'lat': -33.87}, 'weather': [{'id': 803, 'main': 'Clouds', 'description': 'broken clouds', 'icon': '04d'}], 'base': 'stations', 'main': {'temp': 68, 'feels_like': 56.77, 'temp_min': 68, 'temp_max': 68, 'pressure': 1012, 'humidity': 60}, 'visibility': 10000, 'wind': {'speed': 21.92, 'deg': 270}, 'clouds': {'all': 75}, 'dt': 1599706644, 'sys': {'type': 1, 'id': 9525, 'country': 'AU', 'sunrise': 1599688723, 'sunset': 1599730824}, 'timezone': 28800, 'id': 2071860, 'name': 'Esperance', 'cod': 200}\n"
     ]
    },
    {
     "name": "stdout",
     "output_type": "stream",
     "text": [
      "Looking for the weather in city number 188, saint george\n",
      "{'coord': {'lon': -113.58, 'lat': 37.1}, 'weather': [{'id': 800, 'main': 'Clear', 'description': 'clear sky', 'icon': '01n'}], 'base': 'stations', 'main': {'temp': 70.07, 'feels_like': 53.83, 'temp_min': 68, 'temp_max': 71.6, 'pressure': 1016, 'humidity': 18}, 'visibility': 10000, 'wind': {'speed': 20.8, 'deg': 40, 'gust': 27.51}, 'clouds': {'all': 1}, 'dt': 1599706847, 'sys': {'type': 1, 'id': 5832, 'country': 'US', 'sunrise': 1599657130, 'sunset': 1599702663}, 'timezone': -21600, 'id': 5546220, 'name': 'Saint George', 'cod': 200}\n",
      "Looking for the weather in city number 189, gwembe\n",
      "{'coord': {'lon': 27.61, 'lat': -16.5}, 'weather': [{'id': 800, 'main': 'Clear', 'description': 'clear sky', 'icon': '01n'}], 'base': 'stations', 'main': {'temp': 51.58, 'feels_like': 47.59, 'temp_min': 51.58, 'temp_max': 51.58, 'pressure': 1019, 'humidity': 57, 'sea_level': 1019, 'grnd_level': 879}, 'visibility': 10000, 'wind': {'speed': 2.13, 'deg': 172}, 'clouds': {'all': 0}, 'dt': 1599706976, 'sys': {'country': 'ZM', 'sunrise': 1599710931, 'sunset': 1599753865}, 'timezone': 7200, 'id': 917011, 'name': 'Gwembe', 'cod': 200}\n",
      "Looking for the weather in city number 190, phalaborwa\n",
      "{'coord': {'lon': 31.14, 'lat': -23.94}, 'weather': [{'id': 800, 'main': 'Clear', 'description': 'clear sky', 'icon': '01n'}], 'base': 'stations', 'main': {'temp': 60.8, 'feels_like': 59.7, 'temp_min': 60.8, 'temp_max': 60.8, 'pressure': 1023, 'humidity': 87}, 'visibility': 10000, 'wind': {'speed': 5.82, 'deg': 170}, 'clouds': {'all': 0}, 'dt': 1599706826, 'sys': {'type': 1, 'id': 1915, 'country': 'ZA', 'sunrise': 1599710244, 'sunset': 1599752857}, 'timezone': 7200, 'id': 965528, 'name': 'Phalaborwa', 'cod': 200}\n",
      "Looking for the weather in city number 191, maibong\n",
      "{'coord': {'lon': 93.17, 'lat': 25.3}, 'weather': [{'id': 804, 'main': 'Clouds', 'description': 'overcast clouds', 'icon': '04d'}], 'base': 'stations', 'main': {'temp': 80.91, 'feels_like': 88.52, 'temp_min': 80.91, 'temp_max': 80.91, 'pressure': 1006, 'humidity': 78, 'sea_level': 1006, 'grnd_level': 960}, 'visibility': 10000, 'wind': {'speed': 3.22, 'deg': 182}, 'clouds': {'all': 89}, 'dt': 1599706976, 'sys': {'country': 'IN', 'sunrise': 1599694293, 'sunset': 1599739042}, 'timezone': 19800, 'id': 1264322, 'name': 'Maibong', 'cod': 200}\n",
      "Looking for the weather in city number 192, scottsbluff\n",
      "{'coord': {'lon': -103.67, 'lat': 41.87}, 'weather': [{'id': 800, 'main': 'Clear', 'description': 'clear sky', 'icon': '01n'}], 'base': 'stations', 'main': {'temp': 37.94, 'feels_like': 31.98, 'temp_min': 32, 'temp_max': 42.8, 'pressure': 1029, 'humidity': 68}, 'visibility': 10000, 'wind': {'speed': 3.36, 'deg': 110}, 'clouds': {'all': 1}, 'dt': 1599706708, 'sys': {'type': 1, 'id': 3415, 'country': 'US', 'sunrise': 1599654562, 'sunset': 1599700475}, 'timezone': -21600, 'id': 5699404, 'name': 'Scottsbluff', 'cod': 200}\n",
      "Looking for the weather in city number 193, salisbury\n",
      "{'coord': {'lon': -1.8, 'lat': 51.07}, 'weather': [{'id': 800, 'main': 'Clear', 'description': 'clear sky', 'icon': '01n'}], 'base': 'stations', 'main': {'temp': 50.52, 'feels_like': 46.69, 'temp_min': 46, 'temp_max': 53.6, 'pressure': 1025, 'humidity': 81}, 'visibility': 10000, 'wind': {'speed': 4.7, 'deg': 360}, 'clouds': {'all': 5}, 'dt': 1599706977, 'sys': {'type': 1, 'id': 1385, 'country': 'GB', 'sunrise': 1599716113, 'sunset': 1599762795}, 'timezone': 3600, 'id': 2638664, 'name': 'Salisbury', 'cod': 200}\n",
      "Looking for the weather in city number 194, maghama\n",
      "{'cod': '404', 'message': 'city not found'}\n",
      "Missing city. Moving on...\n",
      "Looking for the weather in city number 195, bambanglipuro\n",
      "{'coord': {'lon': 110.28, 'lat': -7.95}, 'weather': [{'id': 804, 'main': 'Clouds', 'description': 'overcast clouds', 'icon': '04d'}], 'base': 'stations', 'main': {'temp': 82.24, 'feels_like': 81.93, 'temp_min': 82.24, 'temp_max': 82.24, 'pressure': 1009, 'humidity': 65, 'sea_level': 1009, 'grnd_level': 1006}, 'visibility': 10000, 'wind': {'speed': 13.47, 'deg': 147}, 'clouds': {'all': 86}, 'dt': 1599706977, 'sys': {'country': 'ID', 'sunrise': 1599690924, 'sunset': 1599734200}, 'timezone': 25200, 'id': 1650434, 'name': 'Bambanglipuro', 'cod': 200}\n",
      "Looking for the weather in city number 196, alice springs\n",
      "{'coord': {'lon': 133.88, 'lat': -23.7}, 'weather': [{'id': 800, 'main': 'Clear', 'description': 'clear sky', 'icon': '01d'}], 'base': 'stations', 'main': {'temp': 87.8, 'feels_like': 77.14, 'temp_min': 87.8, 'temp_max': 87.8, 'pressure': 1017, 'humidity': 14}, 'visibility': 10000, 'wind': {'speed': 12.75, 'deg': 70}, 'clouds': {'all': 0}, 'dt': 1599706977, 'sys': {'type': 1, 'id': 9483, 'country': 'AU', 'sunrise': 1599685599, 'sunset': 1599728200}, 'timezone': 34200, 'id': 2077895, 'name': 'Alice Springs', 'cod': 200}\n",
      "Looking for the weather in city number 197, codrington\n",
      "{'coord': {'lon': 141.97, 'lat': -38.27}, 'weather': [{'id': 800, 'main': 'Clear', 'description': 'clear sky', 'icon': '01d'}], 'base': 'stations', 'main': {'temp': 62.38, 'feels_like': 59.04, 'temp_min': 62.38, 'temp_max': 62.38, 'pressure': 1024, 'humidity': 67, 'sea_level': 1024, 'grnd_level': 1022}, 'visibility': 10000, 'wind': {'speed': 6.71, 'deg': 4}, 'clouds': {'all': 0}, 'dt': 1599706683, 'sys': {'country': 'AU', 'sunrise': 1599684036, 'sunset': 1599725880}, 'timezone': 36000, 'id': 2171099, 'name': 'Codrington', 'cod': 200}\n",
      "Looking for the weather in city number 198, ternate\n",
      "{'coord': {'lon': 127.4, 'lat': 0.8}, 'weather': [{'id': 801, 'main': 'Clouds', 'description': 'few clouds', 'icon': '02d'}], 'base': 'stations', 'main': {'temp': 83.37, 'feels_like': 90.3, 'temp_min': 83.37, 'temp_max': 83.37, 'pressure': 1007, 'humidity': 73, 'sea_level': 1007, 'grnd_level': 1007}, 'visibility': 10000, 'wind': {'speed': 4.83, 'deg': 261}, 'clouds': {'all': 23}, 'dt': 1599706681, 'sys': {'country': 'ID', 'sunrise': 1599686638, 'sunset': 1599730271}, 'timezone': 32400, 'id': 1624041, 'name': 'Ternate', 'cod': 200}\n",
      "Looking for the weather in city number 199, batagay\n",
      "{'coord': {'lon': 134.63, 'lat': 67.63}, 'weather': [{'id': 800, 'main': 'Clear', 'description': 'clear sky', 'icon': '01d'}], 'base': 'stations', 'main': {'temp': 57.11, 'feels_like': 52.3, 'temp_min': 57.11, 'temp_max': 57.11, 'pressure': 1023, 'humidity': 43, 'sea_level': 1023, 'grnd_level': 1001}, 'visibility': 10000, 'wind': {'speed': 2.98, 'deg': 132}, 'clouds': {'all': 0}, 'dt': 1599706698, 'sys': {'country': 'RU', 'sunrise': 1599681690, 'sunset': 1599731748}, 'timezone': 36000, 'id': 2027044, 'name': 'Batagay', 'cod': 200}\n",
      "Looking for the weather in city number 200, wanxian\n",
      "{'coord': {'lon': 108.39, 'lat': 30.8}, 'weather': [{'id': 803, 'main': 'Clouds', 'description': 'broken clouds', 'icon': '04d'}], 'base': 'stations', 'main': {'temp': 78.51, 'feels_like': 82.15, 'temp_min': 78.51, 'temp_max': 78.51, 'pressure': 1008, 'humidity': 71, 'sea_level': 1008, 'grnd_level': 995}, 'visibility': 10000, 'wind': {'speed': 5.61, 'deg': 66}, 'clouds': {'all': 70}, 'dt': 1599706978, 'sys': {'country': 'CN', 'sunrise': 1599690482, 'sunset': 1599735548}, 'timezone': 28800, 'id': 1791748, 'name': 'Wanxian', 'cod': 200}\n",
      "Looking for the weather in city number 201, tanout\n",
      "{'coord': {'lon': 8.89, 'lat': 14.97}, 'weather': [{'id': 800, 'main': 'Clear', 'description': 'clear sky', 'icon': '01n'}], 'base': 'stations', 'main': {'temp': 85.23, 'feels_like': 84.72, 'temp_min': 85.23, 'temp_max': 85.23, 'pressure': 1009, 'humidity': 49, 'sea_level': 1009, 'grnd_level': 951}, 'visibility': 10000, 'wind': {'speed': 9.44, 'deg': 231}, 'clouds': {'all': 0}, 'dt': 1599706978, 'sys': {'country': 'NE', 'sunrise': 1599714775, 'sunset': 1599759003}, 'timezone': 3600, 'id': 2439155, 'name': 'Tanout', 'cod': 200}\n",
      "Looking for the weather in city number 202, naze\n",
      "{'coord': {'lon': 129.48, 'lat': 28.37}, 'weather': [{'id': 803, 'main': 'Clouds', 'description': 'broken clouds', 'icon': '04d'}], 'base': 'stations', 'main': {'temp': 82.4, 'feels_like': 86.59, 'temp_min': 82.4, 'temp_max': 82.4, 'pressure': 1008, 'humidity': 83}, 'visibility': 10000, 'wind': {'speed': 12.75, 'deg': 230}, 'clouds': {'all': 75}, 'dt': 1599706978, 'sys': {'type': 1, 'id': 8013, 'country': 'JP', 'sunrise': 1599685490, 'sunset': 1599730420}, 'timezone': 32400, 'id': 1855540, 'name': 'Naze', 'cod': 200}\n",
      "Looking for the weather in city number 203, dunedin\n",
      "{'coord': {'lon': 170.5, 'lat': -45.87}, 'weather': [{'id': 802, 'main': 'Clouds', 'description': 'scattered clouds', 'icon': '03d'}], 'base': 'stations', 'main': {'temp': 51.73, 'feels_like': 46.78, 'temp_min': 48.99, 'temp_max': 54, 'pressure': 996, 'humidity': 58}, 'visibility': 10000, 'wind': {'speed': 4, 'deg': 180, 'gust': 5.01}, 'clouds': {'all': 44}, 'dt': 1599706928, 'sys': {'type': 3, 'id': 2031989, 'country': 'NZ', 'sunrise': 1599677452, 'sunset': 1599718773}, 'timezone': 43200, 'id': 2191562, 'name': 'Dunedin', 'cod': 200}\n"
     ]
    },
    {
     "name": "stdout",
     "output_type": "stream",
     "text": [
      "Looking for the weather in city number 204, ambovombe\n",
      "{'coord': {'lon': 46.08, 'lat': -25.17}, 'weather': [{'id': 800, 'main': 'Clear', 'description': 'clear sky', 'icon': '01d'}], 'base': 'stations', 'main': {'temp': 66.88, 'feels_like': 67.95, 'temp_min': 66.88, 'temp_max': 66.88, 'pressure': 1021, 'humidity': 87, 'sea_level': 1021, 'grnd_level': 1006}, 'visibility': 10000, 'wind': {'speed': 5.93, 'deg': 64}, 'clouds': {'all': 0}, 'dt': 1599706979, 'sys': {'country': 'MG', 'sunrise': 1599706689, 'sunset': 1599749243}, 'timezone': 10800, 'id': 1079048, 'name': 'Ambovombe', 'cod': 200}\n",
      "Looking for the weather in city number 205, mitsamiouli\n",
      "{'coord': {'lon': 43.28, 'lat': -11.38}, 'weather': [{'id': 800, 'main': 'Clear', 'description': 'clear sky', 'icon': '01n'}], 'base': 'stations', 'main': {'temp': 76.5, 'feels_like': 80.11, 'temp_min': 76.5, 'temp_max': 76.5, 'pressure': 1015, 'humidity': 75, 'sea_level': 1015, 'grnd_level': 1015}, 'visibility': 10000, 'wind': {'speed': 5.37, 'deg': 121}, 'clouds': {'all': 0}, 'dt': 1599706979, 'sys': {'country': 'KM', 'sunrise': 1599707067, 'sunset': 1599750209}, 'timezone': 10800, 'id': 921786, 'name': 'Mitsamiouli', 'cod': 200}\n",
      "Looking for the weather in city number 206, quelimane\n",
      "{'coord': {'lon': 36.89, 'lat': -17.88}, 'weather': [{'id': 801, 'main': 'Clouds', 'description': 'few clouds', 'icon': '02n'}], 'base': 'stations', 'main': {'temp': 62.29, 'feels_like': 63.91, 'temp_min': 62.01, 'temp_max': 62.6, 'pressure': 1019, 'humidity': 93}, 'visibility': 10000, 'wind': {'speed': 3.09, 'deg': 267}, 'clouds': {'all': 20}, 'dt': 1599706979, 'sys': {'type': 1, 'id': 2208, 'country': 'MZ', 'sunrise': 1599708734, 'sunset': 1599751608}, 'timezone': 7200, 'id': 1028434, 'name': 'Quelimane', 'cod': 200}\n",
      "Looking for the weather in city number 207, kuche\n",
      "{'cod': '404', 'message': 'city not found'}\n",
      "Missing city. Moving on...\n",
      "Looking for the weather in city number 208, belmonte\n",
      "{'coord': {'lon': -38.88, 'lat': -15.86}, 'weather': [{'id': 803, 'main': 'Clouds', 'description': 'broken clouds', 'icon': '04n'}], 'base': 'stations', 'main': {'temp': 73.4, 'feels_like': 76.73, 'temp_min': 73.4, 'temp_max': 73.4, 'pressure': 1022, 'humidity': 83}, 'visibility': 10000, 'wind': {'speed': 5.82, 'deg': 60}, 'clouds': {'all': 75}, 'dt': 1599706980, 'sys': {'type': 1, 'id': 8422, 'country': 'BR', 'sunrise': 1599726866, 'sunset': 1599769836}, 'timezone': -10800, 'id': 3470137, 'name': 'Belmonte', 'cod': 200}\n",
      "Looking for the weather in city number 209, namibe\n",
      "{'coord': {'lon': 12.15, 'lat': -15.2}, 'weather': [{'id': 802, 'main': 'Clouds', 'description': 'scattered clouds', 'icon': '03n'}], 'base': 'stations', 'main': {'temp': 66.52, 'feels_like': 69.3, 'temp_min': 66.52, 'temp_max': 66.52, 'pressure': 1012, 'humidity': 91, 'sea_level': 1012, 'grnd_level': 1009}, 'visibility': 10000, 'wind': {'speed': 3.56, 'deg': 320}, 'clouds': {'all': 45}, 'dt': 1599706675, 'sys': {'country': 'AO', 'sunrise': 1599714612, 'sunset': 1599757602}, 'timezone': 3600, 'id': 3347019, 'name': 'Mossamedes', 'cod': 200}\n",
      "Looking for the weather in city number 210, rosita\n",
      "{'coord': {'lon': -84.4, 'lat': 13.93}, 'weather': [{'id': 804, 'main': 'Clouds', 'description': 'overcast clouds', 'icon': '04n'}], 'base': 'stations', 'main': {'temp': 75.34, 'feels_like': 84.63, 'temp_min': 75.34, 'temp_max': 75.34, 'pressure': 1014, 'humidity': 96, 'sea_level': 1014, 'grnd_level': 1002}, 'visibility': 10000, 'wind': {'speed': 1.01, 'deg': 60}, 'clouds': {'all': 96}, 'dt': 1599706980, 'sys': {'country': 'NI', 'sunrise': 1599650787, 'sunset': 1599695003}, 'timezone': -21600, 'id': 3618337, 'name': 'Rosita', 'cod': 200}\n",
      "Looking for the weather in city number 211, mezen\n",
      "{'coord': {'lon': 44.24, 'lat': 65.85}, 'weather': [{'id': 804, 'main': 'Clouds', 'description': 'overcast clouds', 'icon': '04d'}], 'base': 'stations', 'main': {'temp': 47.14, 'feels_like': 40.82, 'temp_min': 47.14, 'temp_max': 47.14, 'pressure': 994, 'humidity': 91, 'sea_level': 994, 'grnd_level': 992}, 'visibility': 10000, 'wind': {'speed': 8.99, 'deg': 311}, 'clouds': {'all': 100}, 'dt': 1599706980, 'sys': {'country': 'RU', 'sunrise': 1599703711, 'sunset': 1599753104}, 'timezone': 10800, 'id': 527321, 'name': \"Mezen'\", 'cod': 200}\n",
      "Looking for the weather in city number 212, port lincoln\n",
      "{'coord': {'lon': 135.87, 'lat': -34.73}, 'weather': [{'id': 804, 'main': 'Clouds', 'description': 'overcast clouds', 'icon': '04d'}], 'base': 'stations', 'main': {'temp': 64.53, 'feels_like': 57.42, 'temp_min': 64.53, 'temp_max': 64.53, 'pressure': 1018, 'humidity': 66, 'sea_level': 1018, 'grnd_level': 1015}, 'visibility': 10000, 'wind': {'speed': 14.25, 'deg': 47}, 'clouds': {'all': 98}, 'dt': 1599706683, 'sys': {'country': 'AU', 'sunrise': 1599685397, 'sunset': 1599727446}, 'timezone': 34200, 'id': 2063036, 'name': 'Port Lincoln', 'cod': 200}\n",
      "Looking for the weather in city number 213, attawapiskat\n",
      "{'cod': '404', 'message': 'city not found'}\n",
      "Missing city. Moving on...\n",
      "Looking for the weather in city number 214, mogadishu\n",
      "{'coord': {'lon': 45.34, 'lat': 2.04}, 'weather': [{'id': 802, 'main': 'Clouds', 'description': 'scattered clouds', 'icon': '03d'}], 'base': 'stations', 'main': {'temp': 76.84, 'feels_like': 75.99, 'temp_min': 76.84, 'temp_max': 76.84, 'pressure': 1012, 'humidity': 84, 'sea_level': 1012, 'grnd_level': 1010}, 'visibility': 10000, 'wind': {'speed': 16.55, 'deg': 221}, 'clouds': {'all': 32}, 'dt': 1599706743, 'sys': {'country': 'SO', 'sunrise': 1599706302, 'sunset': 1599749985}, 'timezone': 10800, 'id': 53654, 'name': 'Mogadishu', 'cod': 200}\n",
      "Looking for the weather in city number 215, maryville\n",
      "{'coord': {'lon': -83.97, 'lat': 35.76}, 'weather': [{'id': 802, 'main': 'Clouds', 'description': 'scattered clouds', 'icon': '03n'}], 'base': 'stations', 'main': {'temp': 73.2, 'feels_like': 77.83, 'temp_min': 70, 'temp_max': 77, 'pressure': 1021, 'humidity': 83}, 'visibility': 10000, 'wind': {'speed': 3.36, 'deg': 50}, 'clouds': {'all': 40}, 'dt': 1599706981, 'sys': {'type': 1, 'id': 6098, 'country': 'US', 'sunrise': 1599650068, 'sunset': 1599695515}, 'timezone': -14400, 'id': 4639848, 'name': 'Maryville', 'cod': 200}\n",
      "Looking for the weather in city number 216, falun\n",
      "{'coord': {'lon': 15.63, 'lat': 60.6}, 'weather': [{'id': 804, 'main': 'Clouds', 'description': 'overcast clouds', 'icon': '04n'}], 'base': 'stations', 'main': {'temp': 43.99, 'feels_like': 37.02, 'temp_min': 42.8, 'temp_max': 45, 'pressure': 1002, 'humidity': 93}, 'visibility': 10000, 'wind': {'speed': 9.17, 'deg': 260}, 'clouds': {'all': 86}, 'dt': 1599706981, 'sys': {'type': 1, 'id': 1789, 'country': 'SE', 'sunrise': 1599711211, 'sunset': 1599759334}, 'timezone': 7200, 'id': 2715459, 'name': 'Falun', 'cod': 200}\n",
      "Looking for the weather in city number 217, satitoa\n",
      "{'cod': '404', 'message': 'city not found'}\n",
      "Missing city. Moving on...\n",
      "Looking for the weather in city number 218, lagoa\n",
      "{'coord': {'lon': -27.98, 'lat': 39.05}, 'weather': [{'id': 800, 'main': 'Clear', 'description': 'clear sky', 'icon': '01n'}], 'base': 'stations', 'main': {'temp': 71.78, 'feels_like': 70.77, 'temp_min': 71.78, 'temp_max': 71.78, 'pressure': 1022, 'humidity': 86, 'sea_level': 1022, 'grnd_level': 1016}, 'visibility': 10000, 'wind': {'speed': 13.06, 'deg': 164}, 'clouds': {'all': 0}, 'dt': 1599706643, 'sys': {'country': 'PT', 'sunrise': 1599722953, 'sunset': 1599768519}, 'timezone': 0, 'id': 3372964, 'name': 'Lagoa', 'cod': 200}\n",
      "Looking for the weather in city number 219, port blair\n",
      "{'coord': {'lon': 92.75, 'lat': 11.67}, 'weather': [{'id': 500, 'main': 'Rain', 'description': 'light rain', 'icon': '10d'}], 'base': 'stations', 'main': {'temp': 83.39, 'feels_like': 90.77, 'temp_min': 83.39, 'temp_max': 83.39, 'pressure': 1007, 'humidity': 76, 'sea_level': 1007, 'grnd_level': 1007}, 'visibility': 4115, 'wind': {'speed': 5.28, 'deg': 207}, 'rain': {'1h': 0.4636}, 'clouds': {'all': 100}, 'dt': 1599706982, 'sys': {'country': 'IN', 'sunrise': 1599694722, 'sunset': 1599738814}, 'timezone': 19800, 'id': 1259385, 'name': 'Port Blair', 'cod': 200}\n",
      "Looking for the weather in city number 220, san quintin\n",
      "{'coord': {'lon': -115.95, 'lat': 30.48}, 'weather': [{'id': 800, 'main': 'Clear', 'description': 'clear sky', 'icon': '01n'}], 'base': 'stations', 'main': {'temp': 73.35, 'feels_like': 72.3, 'temp_min': 73.35, 'temp_max': 73.35, 'pressure': 1012, 'humidity': 66, 'sea_level': 1012, 'grnd_level': 1010}, 'visibility': 10000, 'wind': {'speed': 8.52, 'deg': 325}, 'clouds': {'all': 0}, 'dt': 1599706982, 'sys': {'country': 'MX', 'sunrise': 1599657921, 'sunset': 1599703009}, 'timezone': -25200, 'id': 3984997, 'name': 'San Quintín', 'cod': 200}\n"
     ]
    },
    {
     "name": "stdout",
     "output_type": "stream",
     "text": [
      "Looking for the weather in city number 221, russell\n",
      "{'coord': {'lon': -85.2, 'lat': 32.35}, 'weather': [{'id': 803, 'main': 'Clouds', 'description': 'broken clouds', 'icon': '04n'}], 'base': 'stations', 'main': {'temp': 77.49, 'feels_like': 82.09, 'temp_min': 73.99, 'temp_max': 80.6, 'pressure': 1019, 'humidity': 74}, 'visibility': 10000, 'wind': {'speed': 4.07, 'deg': 38}, 'clouds': {'all': 75}, 'dt': 1599706982, 'sys': {'type': 1, 'id': 4765, 'country': 'US', 'sunrise': 1599650479, 'sunset': 1599695695}, 'timezone': -18000, 'id': 4047434, 'name': 'Russell', 'cod': 200}\n",
      "Looking for the weather in city number 222, ancud\n",
      "{'coord': {'lon': -73.82, 'lat': -41.87}, 'weather': [{'id': 501, 'main': 'Rain', 'description': 'moderate rain', 'icon': '10n'}], 'base': 'stations', 'main': {'temp': 42.66, 'feels_like': 25.59, 'temp_min': 39.99, 'temp_max': 46, 'pressure': 1015, 'humidity': 97}, 'visibility': 9731, 'wind': {'speed': 27, 'deg': 0, 'gust': 57}, 'rain': {'1h': 1.48}, 'clouds': {'all': 100}, 'dt': 1599706983, 'sys': {'type': 3, 'id': 2033614, 'country': 'CL', 'sunrise': 1599735877, 'sunset': 1599777592}, 'timezone': -10800, 'id': 3899695, 'name': 'Ancud', 'cod': 200}\n",
      "Looking for the weather in city number 223, lichuan\n",
      "{'coord': {'lon': 108.85, 'lat': 30.3}, 'weather': [{'id': 804, 'main': 'Clouds', 'description': 'overcast clouds', 'icon': '04d'}], 'base': 'stations', 'main': {'temp': 66.18, 'feels_like': 69.94, 'temp_min': 66.18, 'temp_max': 66.18, 'pressure': 1009, 'humidity': 93, 'sea_level': 1009, 'grnd_level': 874}, 'visibility': 10000, 'wind': {'speed': 2.01, 'deg': 105}, 'clouds': {'all': 94}, 'dt': 1599706983, 'sys': {'country': 'CN', 'sunrise': 1599690387, 'sunset': 1599735423}, 'timezone': 28800, 'id': 1803782, 'name': 'Lichuan', 'cod': 200}\n",
      "Looking for the weather in city number 224, oum hadjer\n",
      "{'coord': {'lon': 19.7, 'lat': 13.3}, 'weather': [{'id': 804, 'main': 'Clouds', 'description': 'overcast clouds', 'icon': '04n'}], 'base': 'stations', 'main': {'temp': 79.79, 'feels_like': 84.06, 'temp_min': 79.79, 'temp_max': 79.79, 'pressure': 1008, 'humidity': 67, 'sea_level': 1008, 'grnd_level': 964}, 'visibility': 10000, 'wind': {'speed': 4.12, 'deg': 222}, 'clouds': {'all': 92}, 'dt': 1599706983, 'sys': {'country': 'TD', 'sunrise': 1599712218, 'sunset': 1599756373}, 'timezone': 3600, 'id': 2426370, 'name': 'Umm Hājar', 'cod': 200}\n",
      "Looking for the weather in city number 225, santa rosa\n",
      "{'coord': {'lon': 121.11, 'lat': 14.31}, 'weather': [{'id': 802, 'main': 'Clouds', 'description': 'scattered clouds', 'icon': '03d'}], 'base': 'stations', 'main': {'temp': 90.03, 'feels_like': 98.89, 'temp_min': 87.8, 'temp_max': 91.99, 'pressure': 1008, 'humidity': 70}, 'visibility': 10000, 'wind': {'speed': 6.93, 'deg': 290}, 'clouds': {'all': 40}, 'dt': 1599706984, 'sys': {'type': 1, 'id': 8160, 'country': 'PH', 'sunrise': 1599687857, 'sunset': 1599732070}, 'timezone': 28800, 'id': 1687894, 'name': 'Santa Rosa', 'cod': 200}\n",
      "Looking for the weather in city number 226, stephenville\n",
      "{'coord': {'lon': -98.2, 'lat': 32.22}, 'weather': [{'id': 804, 'main': 'Clouds', 'description': 'overcast clouds', 'icon': '04n'}], 'base': 'stations', 'main': {'temp': 53.82, 'feels_like': 47.23, 'temp_min': 53.6, 'temp_max': 54, 'pressure': 1023, 'humidity': 93}, 'visibility': 10000, 'wind': {'speed': 12.75, 'deg': 330, 'gust': 21.92}, 'clouds': {'all': 90}, 'dt': 1599706984, 'sys': {'type': 1, 'id': 5806, 'country': 'US', 'sunrise': 1599653604, 'sunset': 1599698808}, 'timezone': -18000, 'id': 4734350, 'name': 'Stephenville', 'cod': 200}\n",
      "Looking for the weather in city number 227, svencioneliai\n",
      "{'coord': {'lon': 26, 'lat': 55.17}, 'weather': [{'id': 500, 'main': 'Rain', 'description': 'light rain', 'icon': '10n'}], 'base': 'stations', 'main': {'temp': 59.77, 'feels_like': 53.87, 'temp_min': 59.77, 'temp_max': 59.77, 'pressure': 1005, 'humidity': 94, 'sea_level': 1005, 'grnd_level': 988}, 'visibility': 10000, 'wind': {'speed': 15.05, 'deg': 250}, 'rain': {'1h': 0.5954}, 'clouds': {'all': 100}, 'dt': 1599706984, 'sys': {'country': 'LT', 'sunrise': 1599709170, 'sunset': 1599756398}, 'timezone': 10800, 'id': 594067, 'name': 'Švenčionėliai', 'cod': 200}\n",
      "Looking for the weather in city number 228, naantali\n",
      "{'coord': {'lon': 22.02, 'lat': 60.47}, 'weather': [{'id': 521, 'main': 'Rain', 'description': 'shower rain', 'icon': '09n'}], 'base': 'stations', 'main': {'temp': 49.35, 'feels_like': 44.22, 'temp_min': 48.99, 'temp_max': 50, 'pressure': 993, 'humidity': 93}, 'visibility': 10000, 'wind': {'speed': 8.05, 'deg': 280}, 'clouds': {'all': 40}, 'dt': 1599706984, 'sys': {'type': 1, 'id': 1364, 'country': 'FI', 'sunrise': 1599709687, 'sunset': 1599757791}, 'timezone': 10800, 'id': 645211, 'name': 'Naantali', 'cod': 200}\n",
      "Looking for the weather in city number 229, port moresby\n",
      "{'coord': {'lon': 147.18, 'lat': -9.44}, 'weather': [{'id': 803, 'main': 'Clouds', 'description': 'broken clouds', 'icon': '04d'}], 'base': 'stations', 'main': {'temp': 80.98, 'feels_like': 78.57, 'temp_min': 80.98, 'temp_max': 80.98, 'pressure': 1008, 'humidity': 67, 'sea_level': 1008, 'grnd_level': 998}, 'visibility': 10000, 'wind': {'speed': 16.93, 'deg': 157}, 'clouds': {'all': 66}, 'dt': 1599706985, 'sys': {'country': 'PG', 'sunrise': 1599682102, 'sunset': 1599725314}, 'timezone': 36000, 'id': 2088122, 'name': 'Port Moresby', 'cod': 200}\n",
      "Looking for the weather in city number 230, caravelas\n",
      "{'coord': {'lon': -39.25, 'lat': -17.71}, 'weather': [{'id': 802, 'main': 'Clouds', 'description': 'scattered clouds', 'icon': '03n'}], 'base': 'stations', 'main': {'temp': 69.33, 'feels_like': 71.15, 'temp_min': 69.33, 'temp_max': 69.33, 'pressure': 1022, 'humidity': 81, 'sea_level': 1022, 'grnd_level': 1021}, 'visibility': 10000, 'wind': {'speed': 4.83, 'deg': 83}, 'clouds': {'all': 47}, 'dt': 1599706985, 'sys': {'country': 'BR', 'sunrise': 1599726993, 'sunset': 1599769887}, 'timezone': -10800, 'id': 3466980, 'name': 'Caravelas', 'cod': 200}\n",
      "Looking for the weather in city number 231, constitucion\n",
      "{'coord': {'lon': -72.42, 'lat': -35.33}, 'weather': [{'id': 800, 'main': 'Clear', 'description': 'clear sky', 'icon': '01n'}], 'base': 'stations', 'main': {'temp': 51.64, 'feels_like': 48.45, 'temp_min': 51.64, 'temp_max': 51.64, 'pressure': 1022, 'humidity': 87, 'sea_level': 1022, 'grnd_level': 1019}, 'visibility': 10000, 'wind': {'speed': 4.83, 'deg': 196}, 'clouds': {'all': 0}, 'dt': 1599706985, 'sys': {'country': 'CL', 'sunrise': 1599735353, 'sunset': 1599777444}, 'timezone': -10800, 'id': 3893726, 'name': 'Constitución', 'cod': 200}\n",
      "Looking for the weather in city number 232, qaanaaq\n",
      "{'coord': {'lon': -69.36, 'lat': 77.48}, 'weather': [{'id': 803, 'main': 'Clouds', 'description': 'broken clouds', 'icon': '04n'}], 'base': 'stations', 'main': {'temp': 22.42, 'feels_like': 14, 'temp_min': 22.42, 'temp_max': 22.42, 'pressure': 1005, 'humidity': 82, 'sea_level': 1005, 'grnd_level': 1005}, 'visibility': 10000, 'wind': {'speed': 5.73, 'deg': 60}, 'clouds': {'all': 76}, 'dt': 1599706664, 'sys': {'country': 'GL', 'sunrise': 1599641010, 'sunset': 1599697562}, 'timezone': -10800, 'id': 3831208, 'name': 'Qaanaaq', 'cod': 200}\n",
      "Looking for the weather in city number 233, provideniya\n",
      "{'coord': {'lon': -173.3, 'lat': 64.38}, 'weather': [{'id': 803, 'main': 'Clouds', 'description': 'broken clouds', 'icon': '04n'}], 'base': 'stations', 'main': {'temp': 51.8, 'feels_like': 42.57, 'temp_min': 51.8, 'temp_max': 51.8, 'pressure': 1027, 'humidity': 71}, 'visibility': 10000, 'wind': {'speed': 13.42, 'deg': 210}, 'clouds': {'all': 75}, 'dt': 1599706650, 'sys': {'type': 1, 'id': 8875, 'country': 'RU', 'sunrise': 1599756225, 'sunset': 1599804983}, 'timezone': 43200, 'id': 4031574, 'name': 'Provideniya', 'cod': 200}\n",
      "Looking for the weather in city number 234, bintulu\n",
      "{'coord': {'lon': 113.03, 'lat': 3.17}, 'weather': [{'id': 802, 'main': 'Clouds', 'description': 'scattered clouds', 'icon': '03d'}], 'base': 'stations', 'main': {'temp': 82.2, 'feels_like': 92.68, 'temp_min': 82, 'temp_max': 82.4, 'pressure': 1009, 'humidity': 88}, 'visibility': 10000, 'wind': {'speed': 3.36, 'deg': 150}, 'clouds': {'all': 40}, 'dt': 1599706986, 'sys': {'type': 1, 'id': 9365, 'country': 'MY', 'sunrise': 1599690037, 'sunset': 1599733767}, 'timezone': 28800, 'id': 1737486, 'name': 'Bintulu', 'cod': 200}\n",
      "Looking for the weather in city number 235, urumqi\n",
      "{'coord': {'lon': 87.6, 'lat': 43.8}, 'weather': [{'id': 803, 'main': 'Clouds', 'description': 'broken clouds', 'icon': '04d'}], 'base': 'stations', 'main': {'temp': 62.6, 'feels_like': 56.68, 'temp_min': 62.6, 'temp_max': 62.6, 'pressure': 1017, 'humidity': 55}, 'visibility': 10000, 'wind': {'speed': 8.95, 'deg': 290}, 'clouds': {'all': 53}, 'dt': 1599706813, 'sys': {'type': 1, 'id': 9677, 'country': 'CN', 'sunrise': 1599695004, 'sunset': 1599741004}, 'timezone': 28800, 'id': 1529102, 'name': 'Ürümqi', 'cod': 200}\n"
     ]
    },
    {
     "name": "stdout",
     "output_type": "stream",
     "text": [
      "Looking for the weather in city number 236, nouadhibou\n",
      "{'coord': {'lon': -17.03, 'lat': 20.93}, 'weather': [{'id': 800, 'main': 'Clear', 'description': 'clear sky', 'icon': '01n'}], 'base': 'stations', 'main': {'temp': 78.8, 'feels_like': 84.22, 'temp_min': 78.8, 'temp_max': 78.8, 'pressure': 1011, 'humidity': 83}, 'visibility': 10000, 'wind': {'speed': 6.93, 'deg': 290}, 'clouds': {'all': 0}, 'dt': 1599706986, 'sys': {'type': 1, 'id': 2444, 'country': 'MR', 'sunrise': 1599720858, 'sunset': 1599765360}, 'timezone': 0, 'id': 2377457, 'name': 'Nouadhibou', 'cod': 200}\n",
      "Looking for the weather in city number 237, srednekolymsk\n",
      "{'coord': {'lon': 153.68, 'lat': 67.45}, 'weather': [{'id': 803, 'main': 'Clouds', 'description': 'broken clouds', 'icon': '04d'}], 'base': 'stations', 'main': {'temp': 54.95, 'feels_like': 48.79, 'temp_min': 54.95, 'temp_max': 54.95, 'pressure': 1026, 'humidity': 53, 'sea_level': 1026, 'grnd_level': 1024}, 'visibility': 10000, 'wind': {'speed': 6.38, 'deg': 262}, 'clouds': {'all': 80}, 'dt': 1599706986, 'sys': {'country': 'RU', 'sunrise': 1599677138, 'sunset': 1599727159}, 'timezone': 39600, 'id': 2121025, 'name': 'Srednekolymsk', 'cod': 200}\n",
      "Looking for the weather in city number 238, tripoli\n",
      "{'coord': {'lon': 13.19, 'lat': 32.88}, 'weather': [{'id': 800, 'main': 'Clear', 'description': 'clear sky', 'icon': '01n'}], 'base': 'stations', 'main': {'temp': 77.56, 'feels_like': 77.76, 'temp_min': 77.56, 'temp_max': 77.56, 'pressure': 1015, 'humidity': 78, 'sea_level': 1015, 'grnd_level': 1013}, 'visibility': 10000, 'wind': {'speed': 13.33, 'deg': 82}, 'clouds': {'all': 0}, 'dt': 1599706986, 'sys': {'country': 'LY', 'sunrise': 1599713276, 'sunset': 1599758440}, 'timezone': 7200, 'id': 2210247, 'name': 'Tripoli', 'cod': 200}\n",
      "Looking for the weather in city number 239, hofn\n",
      "{'coord': {'lon': -15.21, 'lat': 64.25}, 'weather': [{'id': 500, 'main': 'Rain', 'description': 'light rain', 'icon': '10n'}], 'base': 'stations', 'main': {'temp': 45.84, 'feels_like': 40.66, 'temp_min': 45.84, 'temp_max': 45.84, 'pressure': 1004, 'humidity': 84, 'sea_level': 1004, 'grnd_level': 1004}, 'visibility': 10000, 'wind': {'speed': 5.7, 'deg': 248}, 'rain': {'1h': 0.9510000000000001}, 'clouds': {'all': 100}, 'dt': 1599706686, 'sys': {'country': 'IS', 'sunrise': 1599718223, 'sunset': 1599767121}, 'timezone': 0, 'id': 2630299, 'name': 'Hofn', 'cod': 200}\n",
      "Looking for the weather in city number 240, kununurra\n",
      "{'coord': {'lon': 128.73, 'lat': -15.77}, 'weather': [{'id': 800, 'main': 'Clear', 'description': 'clear sky', 'icon': '01d'}], 'base': 'stations', 'main': {'temp': 95.31, 'feels_like': 85.82, 'temp_min': 95.31, 'temp_max': 95.31, 'pressure': 1011, 'humidity': 19, 'sea_level': 1011, 'grnd_level': 1006}, 'visibility': 10000, 'wind': {'speed': 15.39, 'deg': 75}, 'clouds': {'all': 0}, 'dt': 1599706987, 'sys': {'country': 'AU', 'sunrise': 1599686660, 'sunset': 1599729610}, 'timezone': 28800, 'id': 2068110, 'name': 'Kununurra', 'cod': 200}\n",
      "Looking for the weather in city number 241, tiverton\n",
      "{'coord': {'lon': -3.48, 'lat': 50.9}, 'weather': [{'id': 800, 'main': 'Clear', 'description': 'clear sky', 'icon': '01n'}], 'base': 'stations', 'main': {'temp': 44.91, 'feels_like': 40.17, 'temp_min': 44.01, 'temp_max': 46, 'pressure': 1026, 'humidity': 95}, 'visibility': 10000, 'wind': {'speed': 5.77, 'deg': 21}, 'clouds': {'all': 1}, 'dt': 1599706987, 'sys': {'type': 3, 'id': 2013659, 'country': 'GB', 'sunrise': 1599716527, 'sunset': 1599763188}, 'timezone': 3600, 'id': 2635762, 'name': 'Tiverton', 'cod': 200}\n",
      "Looking for the weather in city number 242, ixtapa\n",
      "{'coord': {'lon': -105.2, 'lat': 20.7}, 'weather': [{'id': 804, 'main': 'Clouds', 'description': 'overcast clouds', 'icon': '04n'}], 'base': 'stations', 'main': {'temp': 78.91, 'feels_like': 87.21, 'temp_min': 78.8, 'temp_max': 79, 'pressure': 1010, 'humidity': 94}, 'visibility': 10000, 'wind': {'speed': 5.82, 'deg': 360}, 'clouds': {'all': 90}, 'dt': 1599706811, 'sys': {'type': 1, 'id': 7156, 'country': 'MX', 'sunrise': 1599655614, 'sunset': 1599700157}, 'timezone': -18000, 'id': 4004293, 'name': 'Ixtapa', 'cod': 200}\n",
      "Looking for the weather in city number 243, tecpan\n",
      "{'coord': {'lon': -90.99, 'lat': 14.76}, 'weather': [{'id': 802, 'main': 'Clouds', 'description': 'scattered clouds', 'icon': '03n'}], 'base': 'stations', 'main': {'temp': 61.45, 'feels_like': 61.86, 'temp_min': 51.01, 'temp_max': 68, 'pressure': 1026, 'humidity': 93}, 'visibility': 10000, 'wind': {'speed': 4.7, 'deg': 20}, 'clouds': {'all': 40}, 'dt': 1599706987, 'sys': {'type': 1, 'id': 7079, 'country': 'GT', 'sunrise': 1599652349, 'sunset': 1599696603}, 'timezone': -21600, 'id': 3588476, 'name': 'Tecpan', 'cod': 200}\n",
      "Looking for the weather in city number 244, mouzakion\n",
      "{'cod': '404', 'message': 'city not found'}\n",
      "Missing city. Moving on...\n",
      "Looking for the weather in city number 245, leningradskiy\n",
      "{'coord': {'lon': 178.42, 'lat': 69.38}, 'weather': [{'id': 804, 'main': 'Clouds', 'description': 'overcast clouds', 'icon': '04d'}], 'base': 'stations', 'main': {'temp': 45.59, 'feels_like': 34.57, 'temp_min': 45.59, 'temp_max': 45.59, 'pressure': 1021, 'humidity': 75, 'sea_level': 1021, 'grnd_level': 1020}, 'visibility': 10000, 'wind': {'speed': 14.99, 'deg': 270}, 'clouds': {'all': 100}, 'dt': 1599706642, 'sys': {'country': 'RU', 'sunrise': 1599670830, 'sunset': 1599721594}, 'timezone': 43200, 'id': 2123814, 'name': 'Leningradskiy', 'cod': 200}\n",
      "Looking for the weather in city number 246, sao carlos\n",
      "{'coord': {'lon': -47.89, 'lat': -22.02}, 'weather': [{'id': 804, 'main': 'Clouds', 'description': 'overcast clouds', 'icon': '04n'}], 'base': 'stations', 'main': {'temp': 71.6, 'feels_like': 70.81, 'temp_min': 71.6, 'temp_max': 71.6, 'pressure': 1019, 'humidity': 53}, 'visibility': 10000, 'wind': {'speed': 3.36, 'deg': 220}, 'clouds': {'all': 94}, 'dt': 1599706952, 'sys': {'type': 1, 'id': 8462, 'country': 'BR', 'sunrise': 1599729156, 'sunset': 1599771870}, 'timezone': -10800, 'id': 3449319, 'name': 'São Carlos', 'cod': 200}\n",
      "Looking for the weather in city number 247, jodhpur\n",
      "{'coord': {'lon': 73.03, 'lat': 26.29}, 'weather': [{'id': 800, 'main': 'Clear', 'description': 'clear sky', 'icon': '01d'}], 'base': 'stations', 'main': {'temp': 87.01, 'feels_like': 89.26, 'temp_min': 87.01, 'temp_max': 87.01, 'pressure': 1006, 'humidity': 57, 'sea_level': 1006, 'grnd_level': 978}, 'visibility': 10000, 'wind': {'speed': 9.46, 'deg': 245}, 'clouds': {'all': 0}, 'dt': 1599706785, 'sys': {'country': 'IN', 'sunrise': 1599699101, 'sunset': 1599743898}, 'timezone': 19800, 'id': 1268865, 'name': 'Jodhpur', 'cod': 200}\n",
      "Looking for the weather in city number 248, najran\n",
      "{'coord': {'lon': 44.13, 'lat': 17.49}, 'weather': [{'id': 800, 'main': 'Clear', 'description': 'clear sky', 'icon': '01d'}], 'base': 'stations', 'main': {'temp': 75.2, 'feels_like': 74.82, 'temp_min': 75.2, 'temp_max': 75.2, 'pressure': 1014, 'humidity': 41}, 'visibility': 10000, 'wind': {'speed': 0.76, 'deg': 359}, 'clouds': {'all': 1}, 'dt': 1599706988, 'sys': {'type': 1, 'id': 7421, 'country': 'SA', 'sunrise': 1599706259, 'sunset': 1599750608}, 'timezone': 10800, 'id': 103630, 'name': 'Najrān', 'cod': 200}\n",
      "Looking for the weather in city number 249, sitka\n",
      "{'coord': {'lon': -135.33, 'lat': 57.05}, 'weather': [{'id': 804, 'main': 'Clouds', 'description': 'overcast clouds', 'icon': '04d'}], 'base': 'stations', 'main': {'temp': 57.2, 'feels_like': 56.17, 'temp_min': 57.2, 'temp_max': 57.2, 'pressure': 1025, 'humidity': 93}, 'visibility': 10000, 'wind': {'speed': 4.7, 'deg': 210}, 'clouds': {'all': 90}, 'dt': 1599706988, 'sys': {'type': 1, 'id': 7795, 'country': 'US', 'sunrise': 1599661281, 'sunset': 1599708949}, 'timezone': -28800, 'id': 5557293, 'name': 'Sitka', 'cod': 200}\n",
      "Looking for the weather in city number 250, roura\n",
      "{'coord': {'lon': -52.33, 'lat': 4.73}, 'weather': [{'id': 802, 'main': 'Clouds', 'description': 'scattered clouds', 'icon': '03n'}], 'base': 'stations', 'main': {'temp': 77, 'feels_like': 85.05, 'temp_min': 77, 'temp_max': 77, 'pressure': 1014, 'humidity': 94}, 'visibility': 10000, 'wind': {'speed': 4.25, 'deg': 126}, 'clouds': {'all': 32}, 'dt': 1599706989, 'sys': {'type': 1, 'id': 8669, 'country': 'GF', 'sunrise': 1599729684, 'sunset': 1599773473}, 'timezone': -10800, 'id': 3380450, 'name': 'Roura', 'cod': 200}\n",
      "Looking for the weather in city number 251, hasaki\n",
      "{'coord': {'lon': 140.83, 'lat': 35.73}, 'weather': [{'id': 803, 'main': 'Clouds', 'description': 'broken clouds', 'icon': '04d'}], 'base': 'stations', 'main': {'temp': 84.22, 'feels_like': 89.53, 'temp_min': 82.4, 'temp_max': 87.8, 'pressure': 1011, 'humidity': 83}, 'visibility': 10000, 'wind': {'speed': 12.75, 'deg': 160}, 'clouds': {'all': 75}, 'dt': 1599706941, 'sys': {'type': 1, 'id': 7955, 'country': 'JP', 'sunrise': 1599682534, 'sunset': 1599727929}, 'timezone': 32400, 'id': 2112802, 'name': 'Hasaki', 'cod': 200}\n"
     ]
    },
    {
     "name": "stdout",
     "output_type": "stream",
     "text": [
      "Looking for the weather in city number 252, mahebourg\n",
      "{'coord': {'lon': 57.7, 'lat': -20.41}, 'weather': [{'id': 520, 'main': 'Rain', 'description': 'light intensity shower rain', 'icon': '09d'}], 'base': 'stations', 'main': {'temp': 69.8, 'feels_like': 65.86, 'temp_min': 69.8, 'temp_max': 69.8, 'pressure': 1021, 'humidity': 88}, 'visibility': 8000, 'wind': {'speed': 17.22, 'deg': 140}, 'clouds': {'all': 75}, 'dt': 1599706655, 'sys': {'type': 1, 'id': 2061, 'country': 'MU', 'sunrise': 1599703796, 'sunset': 1599746559}, 'timezone': 14400, 'id': 934322, 'name': 'Mahébourg', 'cod': 200}\n",
      "Looking for the weather in city number 253, borba\n",
      "{'coord': {'lon': -59.59, 'lat': -4.39}, 'weather': [{'id': 802, 'main': 'Clouds', 'description': 'scattered clouds', 'icon': '03n'}], 'base': 'stations', 'main': {'temp': 84.07, 'feels_like': 87.26, 'temp_min': 84.07, 'temp_max': 84.07, 'pressure': 1011, 'humidity': 46, 'sea_level': 1011, 'grnd_level': 1008}, 'visibility': 10000, 'wind': {'speed': 0.85, 'deg': 341}, 'clouds': {'all': 48}, 'dt': 1599706989, 'sys': {'country': 'BR', 'sunrise': 1599645235, 'sunset': 1599688649}, 'timezone': -14400, 'id': 3405051, 'name': 'Borba', 'cod': 200}\n",
      "Looking for the weather in city number 254, bowen\n",
      "{'coord': {'lon': 148.23, 'lat': -20.02}, 'weather': [{'id': 803, 'main': 'Clouds', 'description': 'broken clouds', 'icon': '04d'}], 'base': 'stations', 'main': {'temp': 77, 'feels_like': 68.99, 'temp_min': 77, 'temp_max': 77, 'pressure': 1016, 'humidity': 44}, 'visibility': 10000, 'wind': {'speed': 16.11, 'deg': 90, 'gust': 27.51}, 'clouds': {'all': 75}, 'dt': 1599706989, 'sys': {'type': 1, 'id': 9503, 'country': 'AU', 'sunrise': 1599682075, 'sunset': 1599724838}, 'timezone': 36000, 'id': 2174444, 'name': 'Bowen', 'cod': 200}\n",
      "Looking for the weather in city number 255, souillac\n",
      "{'coord': {'lon': 57.52, 'lat': -20.52}, 'weather': [{'id': 520, 'main': 'Rain', 'description': 'light intensity shower rain', 'icon': '09d'}], 'base': 'stations', 'main': {'temp': 69.8, 'feels_like': 65.86, 'temp_min': 69.8, 'temp_max': 69.8, 'pressure': 1021, 'humidity': 88}, 'visibility': 8000, 'wind': {'speed': 17.22, 'deg': 140}, 'clouds': {'all': 75}, 'dt': 1599706685, 'sys': {'type': 1, 'id': 2061, 'country': 'MU', 'sunrise': 1599703842, 'sunset': 1599746600}, 'timezone': 14400, 'id': 933995, 'name': 'Souillac', 'cod': 200}\n",
      "Looking for the weather in city number 256, jaque\n",
      "{'coord': {'lon': -78.17, 'lat': 7.52}, 'weather': [{'id': 803, 'main': 'Clouds', 'description': 'broken clouds', 'icon': '04n'}], 'base': 'stations', 'main': {'temp': 77.41, 'feels_like': 84.54, 'temp_min': 77.41, 'temp_max': 77.41, 'pressure': 1014, 'humidity': 83, 'sea_level': 1014, 'grnd_level': 1014}, 'visibility': 10000, 'wind': {'speed': 2.57, 'deg': 115}, 'clouds': {'all': 57}, 'dt': 1599706990, 'sys': {'country': 'PA', 'sunrise': 1599649437, 'sunset': 1599693363}, 'timezone': -18000, 'id': 3708432, 'name': 'Jaqué', 'cod': 200}\n",
      "Looking for the weather in city number 257, kargopol\n",
      "{'coord': {'lon': 38.95, 'lat': 61.51}, 'weather': [{'id': 804, 'main': 'Clouds', 'description': 'overcast clouds', 'icon': '04d'}], 'base': 'stations', 'main': {'temp': 49.17, 'feels_like': 44.64, 'temp_min': 49.17, 'temp_max': 49.17, 'pressure': 999, 'humidity': 92, 'sea_level': 999, 'grnd_level': 985}, 'visibility': 10000, 'wind': {'speed': 6.8, 'deg': 196}, 'clouds': {'all': 90}, 'dt': 1599706990, 'sys': {'country': 'RU', 'sunrise': 1599705513, 'sunset': 1599753841}, 'timezone': 10800, 'id': 552465, 'name': \"Kargopol'\", 'cod': 200}\n",
      "Looking for the weather in city number 258, guerrero negro\n",
      "{'coord': {'lon': -114.06, 'lat': 27.98}, 'weather': [{'id': 800, 'main': 'Clear', 'description': 'clear sky', 'icon': '01n'}], 'base': 'stations', 'main': {'temp': 76.44, 'feels_like': 75.92, 'temp_min': 76.44, 'temp_max': 76.44, 'pressure': 1010, 'humidity': 73, 'sea_level': 1010, 'grnd_level': 1010}, 'visibility': 10000, 'wind': {'speed': 12.01, 'deg': 304}, 'clouds': {'all': 0}, 'dt': 1599706658, 'sys': {'country': 'MX', 'sunrise': 1599657542, 'sunset': 1599702481}, 'timezone': -21600, 'id': 4021858, 'name': 'Guerrero Negro', 'cod': 200}\n",
      "Looking for the weather in city number 259, port hardy\n",
      "{'coord': {'lon': -127.42, 'lat': 50.7}, 'weather': [{'id': 800, 'main': 'Clear', 'description': 'clear sky', 'icon': '01d'}], 'base': 'stations', 'main': {'temp': 68, 'feels_like': 65.84, 'temp_min': 68, 'temp_max': 68, 'pressure': 1016, 'humidity': 64}, 'visibility': 10000, 'wind': {'speed': 6.78, 'deg': 294}, 'clouds': {'all': 5}, 'dt': 1599706403, 'sys': {'type': 1, 'id': 1011, 'country': 'CA', 'sunrise': 1599659824, 'sunset': 1599706611}, 'timezone': -25200, 'id': 6111862, 'name': 'Port Hardy', 'cod': 200}\n",
      "Looking for the weather in city number 260, gumdag\n",
      "{'coord': {'lon': 54.59, 'lat': 39.21}, 'weather': [{'id': 800, 'main': 'Clear', 'description': 'clear sky', 'icon': '01d'}], 'base': 'stations', 'main': {'temp': 72.64, 'feels_like': 66.61, 'temp_min': 72.64, 'temp_max': 72.64, 'pressure': 1016, 'humidity': 21, 'sea_level': 1016, 'grnd_level': 1015}, 'visibility': 10000, 'wind': {'speed': 3.98, 'deg': 165}, 'clouds': {'all': 0}, 'dt': 1599706991, 'sys': {'country': 'TM', 'sunrise': 1599703118, 'sunset': 1599748730}, 'timezone': 18000, 'id': 161943, 'name': 'Gumdag', 'cod': 200}\n",
      "Looking for the weather in city number 261, alta floresta\n",
      "{'coord': {'lon': -56.09, 'lat': -9.88}, 'weather': [{'id': 800, 'main': 'Clear', 'description': 'clear sky', 'icon': '01n'}], 'base': 'stations', 'main': {'temp': 79.09, 'feels_like': 76.73, 'temp_min': 79.09, 'temp_max': 79.09, 'pressure': 1011, 'humidity': 31, 'sea_level': 1011, 'grnd_level': 980}, 'visibility': 10000, 'wind': {'speed': 2.46, 'deg': 113}, 'clouds': {'all': 10}, 'dt': 1599706991, 'sys': {'country': 'BR', 'sunrise': 1599644512, 'sunset': 1599687692}, 'timezone': -14400, 'id': 6316343, 'name': 'Alta Floresta', 'cod': 200}\n",
      "Looking for the weather in city number 262, manta\n",
      "{'coord': {'lon': -80.73, 'lat': -0.95}, 'weather': [{'id': 802, 'main': 'Clouds', 'description': 'scattered clouds', 'icon': '03n'}], 'base': 'stations', 'main': {'temp': 71.6, 'feels_like': 74.75, 'temp_min': 71.6, 'temp_max': 71.6, 'pressure': 1014, 'humidity': 83}, 'visibility': 10000, 'wind': {'speed': 4.7, 'deg': 240}, 'clouds': {'all': 40}, 'dt': 1599706991, 'sys': {'type': 1, 'id': 8552, 'country': 'EC', 'sunrise': 1599650234, 'sunset': 1599693794}, 'timezone': -18000, 'id': 3654410, 'name': 'Manta', 'cod': 200}\n",
      "Looking for the weather in city number 263, coquimbo\n",
      "{'coord': {'lon': -71.34, 'lat': -29.95}, 'weather': [{'id': 800, 'main': 'Clear', 'description': 'clear sky', 'icon': '01n'}], 'base': 'stations', 'main': {'temp': 53.6, 'feels_like': 49.23, 'temp_min': 53.6, 'temp_max': 53.6, 'pressure': 1017, 'humidity': 81}, 'visibility': 10000, 'wind': {'speed': 6.93, 'deg': 120}, 'clouds': {'all': 1}, 'dt': 1599706992, 'sys': {'type': 1, 'id': 8514, 'country': 'CL', 'sunrise': 1599734959, 'sunset': 1599777320}, 'timezone': -10800, 'id': 3893629, 'name': 'Coquimbo', 'cod': 200}\n",
      "Looking for the weather in city number 264, almaznyy\n",
      "{'coord': {'lon': 40.05, 'lat': 48.04}, 'weather': [{'id': 800, 'main': 'Clear', 'description': 'clear sky', 'icon': '01d'}], 'base': 'stations', 'main': {'temp': 48.2, 'feels_like': 44.24, 'temp_min': 48.2, 'temp_max': 48.2, 'pressure': 1019, 'humidity': 66}, 'visibility': 10000, 'wind': {'speed': 2.24, 'deg': 40}, 'clouds': {'all': 0}, 'dt': 1599706992, 'sys': {'type': 1, 'id': 8971, 'country': 'RU', 'sunrise': 1599706224, 'sunset': 1599752601}, 'timezone': 10800, 'id': 582447, 'name': 'Almaznyy', 'cod': 200}\n",
      "Looking for the weather in city number 265, honningsvag\n",
      "{'coord': {'lon': 25.97, 'lat': 70.98}, 'weather': [{'id': 800, 'main': 'Clear', 'description': 'clear sky', 'icon': '01n'}], 'base': 'stations', 'main': {'temp': 49.42, 'feels_like': 47.25, 'temp_min': 49.42, 'temp_max': 49.42, 'pressure': 992, 'humidity': 82, 'sea_level': 992, 'grnd_level': 991}, 'visibility': 10000, 'wind': {'speed': 1.48, 'deg': 277}, 'clouds': {'all': 2}, 'dt': 1599706986, 'sys': {'country': 'NO', 'sunrise': 1599707177, 'sunset': 1599758405}, 'timezone': 7200, 'id': 779554, 'name': 'Honningsvåg', 'cod': 200}\n"
     ]
    },
    {
     "name": "stdout",
     "output_type": "stream",
     "text": [
      "Looking for the weather in city number 266, kandrian\n",
      "{'coord': {'lon': 149.55, 'lat': -6.22}, 'weather': [{'id': 500, 'main': 'Rain', 'description': 'light rain', 'icon': '10d'}], 'base': 'stations', 'main': {'temp': 80.74, 'feels_like': 82.29, 'temp_min': 80.74, 'temp_max': 80.74, 'pressure': 1007, 'humidity': 78, 'sea_level': 1007, 'grnd_level': 1007}, 'visibility': 10000, 'wind': {'speed': 13.85, 'deg': 135}, 'rain': {'1h': 0.26}, 'clouds': {'all': 97}, 'dt': 1599706992, 'sys': {'country': 'PG', 'sunrise': 1599681467, 'sunset': 1599724811}, 'timezone': 36000, 'id': 2094746, 'name': 'Kandrian', 'cod': 200}\n",
      "Looking for the weather in city number 267, suez\n",
      "{'coord': {'lon': 32.53, 'lat': 29.97}, 'weather': [{'id': 800, 'main': 'Clear', 'description': 'clear sky', 'icon': '01n'}], 'base': 'stations', 'main': {'temp': 73.56, 'feels_like': 75.09, 'temp_min': 73.56, 'temp_max': 73.56, 'pressure': 1005, 'humidity': 84, 'sea_level': 1005, 'grnd_level': 1004}, 'visibility': 10000, 'wind': {'speed': 9.46, 'deg': 324}, 'clouds': {'all': 0}, 'dt': 1599706992, 'sys': {'country': 'EG', 'sunrise': 1599708720, 'sunset': 1599753714}, 'timezone': 7200, 'id': 359796, 'name': 'Suez', 'cod': 200}\n",
      "Looking for the weather in city number 268, isangel\n",
      "{'coord': {'lon': 169.27, 'lat': -19.55}, 'weather': [{'id': 802, 'main': 'Clouds', 'description': 'scattered clouds', 'icon': '03d'}], 'base': 'stations', 'main': {'temp': 77, 'feels_like': 78.33, 'temp_min': 77, 'temp_max': 77, 'pressure': 1009, 'humidity': 73}, 'visibility': 10000, 'wind': {'speed': 9.17, 'deg': 150}, 'clouds': {'all': 40}, 'dt': 1599706670, 'sys': {'type': 1, 'id': 7317, 'country': 'VU', 'sunrise': 1599677018, 'sunset': 1599719798}, 'timezone': 39600, 'id': 2136825, 'name': 'Isangel', 'cod': 200}\n",
      "Looking for the weather in city number 269, high rock\n",
      "{'coord': {'lon': -78.28, 'lat': 26.62}, 'weather': [{'id': 804, 'main': 'Clouds', 'description': 'overcast clouds', 'icon': '04n'}], 'base': 'stations', 'main': {'temp': 83.55, 'feels_like': 86.65, 'temp_min': 83.55, 'temp_max': 83.55, 'pressure': 1016, 'humidity': 77, 'sea_level': 1016, 'grnd_level': 1016}, 'visibility': 10000, 'wind': {'speed': 13.47, 'deg': 117}, 'clouds': {'all': 100}, 'dt': 1599706993, 'sys': {'country': 'BS', 'sunrise': 1599648992, 'sunset': 1599693861}, 'timezone': -14400, 'id': 3572189, 'name': 'High Rock', 'cod': 200}\n",
      "Looking for the weather in city number 270, vila do maio\n",
      "{'coord': {'lon': -23.22, 'lat': 15.13}, 'weather': [{'id': 802, 'main': 'Clouds', 'description': 'scattered clouds', 'icon': '03n'}], 'base': 'stations', 'main': {'temp': 78.8, 'feels_like': 87.22, 'temp_min': 78.8, 'temp_max': 78.8, 'pressure': 1015, 'humidity': 88}, 'visibility': 10000, 'wind': {'speed': 3.36, 'deg': 360}, 'clouds': {'all': 40}, 'dt': 1599706993, 'sys': {'type': 1, 'id': 2462, 'country': 'CV', 'sunrise': 1599722478, 'sunset': 1599766709}, 'timezone': -3600, 'id': 3374120, 'name': 'Vila do Maio', 'cod': 200}\n",
      "Looking for the weather in city number 271, aksu\n",
      "{'coord': {'lon': 80.26, 'lat': 41.12}, 'weather': [{'id': 800, 'main': 'Clear', 'description': 'clear sky', 'icon': '01d'}], 'base': 'stations', 'main': {'temp': 72.54, 'feels_like': 68.77, 'temp_min': 72.54, 'temp_max': 72.54, 'pressure': 1012, 'humidity': 38, 'sea_level': 1012, 'grnd_level': 893}, 'visibility': 10000, 'wind': {'speed': 4.79, 'deg': 58}, 'clouds': {'all': 0}, 'dt': 1599706642, 'sys': {'country': 'CN', 'sunrise': 1599696879, 'sunset': 1599742650}, 'timezone': 28800, 'id': 1529660, 'name': 'Aksu', 'cod': 200}\n",
      "Looking for the weather in city number 272, lavrentiya\n",
      "{'coord': {'lon': -171, 'lat': 65.58}, 'weather': [{'id': 803, 'main': 'Clouds', 'description': 'broken clouds', 'icon': '04n'}], 'base': 'stations', 'main': {'temp': 46.18, 'feels_like': 36.59, 'temp_min': 46.18, 'temp_max': 46.18, 'pressure': 1025, 'humidity': 76, 'sea_level': 1025, 'grnd_level': 1024}, 'visibility': 10000, 'wind': {'speed': 12.77, 'deg': 218}, 'clouds': {'all': 63}, 'dt': 1599706993, 'sys': {'country': 'RU', 'sunrise': 1599755518, 'sunset': 1599804586}, 'timezone': 43200, 'id': 4031637, 'name': 'Lavrentiya', 'cod': 200}\n",
      "Looking for the weather in city number 273, salamiyah\n",
      "{'coord': {'lon': 37.05, 'lat': 35.01}, 'weather': [{'id': 800, 'main': 'Clear', 'description': 'clear sky', 'icon': '01n'}], 'base': 'stations', 'main': {'temp': 68.18, 'feels_like': 66.47, 'temp_min': 68.18, 'temp_max': 68.18, 'pressure': 1006, 'humidity': 44, 'sea_level': 1006, 'grnd_level': 954}, 'visibility': 10000, 'wind': {'speed': 1.14, 'deg': 135}, 'clouds': {'all': 0}, 'dt': 1599706994, 'sys': {'country': 'SY', 'sunrise': 1599707478, 'sunset': 1599752787}, 'timezone': 10800, 'id': 164947, 'name': 'Salamiyah', 'cod': 200}\n",
      "Looking for the weather in city number 274, puerto del rosario\n",
      "{'coord': {'lon': -13.86, 'lat': 28.5}, 'weather': [{'id': 800, 'main': 'Clear', 'description': 'clear sky', 'icon': '01n'}], 'base': 'stations', 'main': {'temp': 73.4, 'feels_like': 73.38, 'temp_min': 73.4, 'temp_max': 73.4, 'pressure': 1018, 'humidity': 78}, 'visibility': 10000, 'wind': {'speed': 10.29, 'deg': 20}, 'clouds': {'all': 5}, 'dt': 1599706994, 'sys': {'type': 1, 'id': 2371, 'country': 'ES', 'sunrise': 1599719900, 'sunset': 1599764796}, 'timezone': 3600, 'id': 2512186, 'name': 'Puerto del Rosario', 'cod': 200}\n",
      "Looking for the weather in city number 275, pacific grove\n",
      "{'coord': {'lon': -121.92, 'lat': 36.62}, 'weather': [{'id': 802, 'main': 'Clouds', 'description': 'scattered clouds', 'icon': '03n'}], 'base': 'stations', 'main': {'temp': 59.52, 'feels_like': 60.03, 'temp_min': 59, 'temp_max': 61, 'pressure': 1012, 'humidity': 94}, 'visibility': 10000, 'wind': {'speed': 3.51, 'deg': 198}, 'clouds': {'all': 42}, 'dt': 1599706994, 'sys': {'type': 3, 'id': 2009350, 'country': 'US', 'sunrise': 1599659150, 'sunset': 1599704645}, 'timezone': -25200, 'id': 5380437, 'name': 'Pacific Grove', 'cod': 200}\n",
      "Looking for the weather in city number 276, steubenville\n",
      "{'coord': {'lon': -80.63, 'lat': 40.37}, 'weather': [{'id': 800, 'main': 'Clear', 'description': 'clear sky', 'icon': '01n'}], 'base': 'stations', 'main': {'temp': 68.97, 'feels_like': 66.4, 'temp_min': 66.99, 'temp_max': 73.4, 'pressure': 1024, 'humidity': 64}, 'visibility': 10000, 'wind': {'speed': 8.05, 'deg': 90}, 'clouds': {'all': 1}, 'dt': 1599706960, 'sys': {'type': 1, 'id': 4384, 'country': 'US', 'sunrise': 1599649091, 'sunset': 1599694890}, 'timezone': -14400, 'id': 5173048, 'name': 'Steubenville', 'cod': 200}\n",
      "Looking for the weather in city number 277, baykit\n",
      "{'coord': {'lon': 96.37, 'lat': 61.67}, 'weather': [{'id': 803, 'main': 'Clouds', 'description': 'broken clouds', 'icon': '04d'}], 'base': 'stations', 'main': {'temp': 54.88, 'feels_like': 52.05, 'temp_min': 54.88, 'temp_max': 54.88, 'pressure': 1020, 'humidity': 62, 'sea_level': 1020, 'grnd_level': 1002}, 'visibility': 10000, 'wind': {'speed': 1.81, 'deg': 153}, 'clouds': {'all': 63}, 'dt': 1599706994, 'sys': {'country': 'RU', 'sunrise': 1599691691, 'sunset': 1599740108}, 'timezone': 25200, 'id': 1510689, 'name': 'Baykit', 'cod': 200}\n",
      "Looking for the weather in city number 278, komsomolskiy\n",
      "{'coord': {'lon': 71.72, 'lat': 40.43}, 'weather': [{'id': 800, 'main': 'Clear', 'description': 'clear sky', 'icon': '01d'}], 'base': 'stations', 'main': {'temp': 69.8, 'feels_like': 66.49, 'temp_min': 69.8, 'temp_max': 69.8, 'pressure': 1014, 'humidity': 35}, 'visibility': 10000, 'wind': {'speed': 2.24, 'deg': 130}, 'clouds': {'all': 0}, 'dt': 1599706693, 'sys': {'type': 1, 'id': 9014, 'country': 'UZ', 'sunrise': 1599698957, 'sunset': 1599744670}, 'timezone': 18000, 'id': 1513491, 'name': 'Yangi Marg`ilon', 'cod': 200}\n",
      "Looking for the weather in city number 279, saleaula\n",
      "{'cod': '404', 'message': 'city not found'}\n",
      "Missing city. Moving on...\n",
      "Looking for the weather in city number 280, paamiut\n",
      "{'coord': {'lon': -49.67, 'lat': 61.99}, 'weather': [{'id': 804, 'main': 'Clouds', 'description': 'overcast clouds', 'icon': '04n'}], 'base': 'stations', 'main': {'temp': 39.99, 'feels_like': 23.74, 'temp_min': 39.99, 'temp_max': 39.99, 'pressure': 1007, 'humidity': 78, 'sea_level': 1007, 'grnd_level': 1007}, 'visibility': 10000, 'wind': {'speed': 22.97, 'deg': 321}, 'clouds': {'all': 88}, 'dt': 1599706995, 'sys': {'country': 'GL', 'sunrise': 1599726769, 'sunset': 1599775112}, 'timezone': -7200, 'id': 3421193, 'name': 'Paamiut', 'cod': 200}\n"
     ]
    },
    {
     "name": "stdout",
     "output_type": "stream",
     "text": [
      "Looking for the weather in city number 281, biak\n",
      "{'coord': {'lon': 122.88, 'lat': -0.91}, 'weather': [{'id': 802, 'main': 'Clouds', 'description': 'scattered clouds', 'icon': '03d'}], 'base': 'stations', 'main': {'temp': 82.15, 'feels_like': 86.52, 'temp_min': 82.15, 'temp_max': 82.15, 'pressure': 1008, 'humidity': 73, 'sea_level': 1008, 'grnd_level': 994}, 'visibility': 10000, 'wind': {'speed': 8.23, 'deg': 217}, 'clouds': {'all': 28}, 'dt': 1599706995, 'sys': {'country': 'ID', 'sunrise': 1599687757, 'sunset': 1599731320}, 'timezone': 28800, 'id': 1637001, 'name': 'Biak', 'cod': 200}\n",
      "Looking for the weather in city number 282, ararat\n",
      "{'coord': {'lon': 44.7, 'lat': 39.83}, 'weather': [{'id': 800, 'main': 'Clear', 'description': 'clear sky', 'icon': '01d'}], 'base': 'stations', 'main': {'temp': 64.4, 'feels_like': 60.66, 'temp_min': 64.4, 'temp_max': 64.4, 'pressure': 1018, 'humidity': 55}, 'visibility': 10000, 'wind': {'speed': 5.82, 'deg': 80}, 'clouds': {'all': 0}, 'dt': 1599706996, 'sys': {'type': 1, 'id': 8851, 'country': 'AM', 'sunrise': 1599705470, 'sunset': 1599751125}, 'timezone': 14400, 'id': 174991, 'name': 'Ararat', 'cod': 200}\n"
     ]
    },
    {
     "data": {
      "text/html": [
       "<div>\n",
       "<style scoped>\n",
       "    .dataframe tbody tr th:only-of-type {\n",
       "        vertical-align: middle;\n",
       "    }\n",
       "\n",
       "    .dataframe tbody tr th {\n",
       "        vertical-align: top;\n",
       "    }\n",
       "\n",
       "    .dataframe thead th {\n",
       "        text-align: right;\n",
       "    }\n",
       "</style>\n",
       "<table border=\"1\" class=\"dataframe\">\n",
       "  <thead>\n",
       "    <tr style=\"text-align: right;\">\n",
       "      <th></th>\n",
       "      <th>lat</th>\n",
       "      <th>long</th>\n",
       "      <th>city</th>\n",
       "      <th>country</th>\n",
       "      <th>max temp</th>\n",
       "      <th>humidity</th>\n",
       "      <th>cloudiness</th>\n",
       "      <th>wind speed</th>\n",
       "      <th>date</th>\n",
       "    </tr>\n",
       "  </thead>\n",
       "  <tbody>\n",
       "    <tr>\n",
       "      <th>0</th>\n",
       "      <td>-54.80</td>\n",
       "      <td>-68.30</td>\n",
       "      <td>ushuaia</td>\n",
       "      <td>ar</td>\n",
       "      <td>42.8</td>\n",
       "      <td>52</td>\n",
       "      <td>75</td>\n",
       "      <td>16.11</td>\n",
       "      <td>1599706358</td>\n",
       "    </tr>\n",
       "    <tr>\n",
       "      <th>1</th>\n",
       "      <td>-33.65</td>\n",
       "      <td>115.33</td>\n",
       "      <td>busselton</td>\n",
       "      <td>au</td>\n",
       "      <td>57</td>\n",
       "      <td>67</td>\n",
       "      <td>0</td>\n",
       "      <td>5.99</td>\n",
       "      <td>1599706647</td>\n",
       "    </tr>\n",
       "    <tr>\n",
       "      <th>2</th>\n",
       "      <td>-25.17</td>\n",
       "      <td>45.05</td>\n",
       "      <td>beloha</td>\n",
       "      <td>mg</td>\n",
       "      <td>70.97</td>\n",
       "      <td>64</td>\n",
       "      <td>48</td>\n",
       "      <td>10.02</td>\n",
       "      <td>1599706937</td>\n",
       "    </tr>\n",
       "    <tr>\n",
       "      <th>3</th>\n",
       "      <td>28.32</td>\n",
       "      <td>109.72</td>\n",
       "      <td>jishou</td>\n",
       "      <td>cn</td>\n",
       "      <td>80.22</td>\n",
       "      <td>79</td>\n",
       "      <td>79</td>\n",
       "      <td>1.92</td>\n",
       "      <td>1599706938</td>\n",
       "    </tr>\n",
       "    <tr>\n",
       "      <th>4</th>\n",
       "      <td>8.57</td>\n",
       "      <td>81.23</td>\n",
       "      <td>trincomalee</td>\n",
       "      <td>lk</td>\n",
       "      <td>83.71</td>\n",
       "      <td>71</td>\n",
       "      <td>91</td>\n",
       "      <td>18.12</td>\n",
       "      <td>1599706858</td>\n",
       "    </tr>\n",
       "  </tbody>\n",
       "</table>\n",
       "</div>"
      ],
      "text/plain": [
       "     lat    long         city country max temp humidity cloudiness wind speed  \\\n",
       "0 -54.80  -68.30      ushuaia      ar     42.8       52         75      16.11   \n",
       "1 -33.65  115.33    busselton      au       57       67          0       5.99   \n",
       "2 -25.17   45.05       beloha      mg    70.97       64         48      10.02   \n",
       "3  28.32  109.72       jishou      cn    80.22       79         79       1.92   \n",
       "4   8.57   81.23  trincomalee      lk    83.71       71         91      18.12   \n",
       "\n",
       "         date  \n",
       "0  1599706358  \n",
       "1  1599706647  \n",
       "2  1599706937  \n",
       "3  1599706938  \n",
       "4  1599706858  "
      ]
     },
     "execution_count": 8,
     "metadata": {},
     "output_type": "execute_result"
    }
   ],
   "source": [
    "url = \"http://api.openweathermap.org/data/2.5/weather?\"\n",
    "units = \"imperial\"\n",
    "api_key = weather_api\n",
    "query_url = f\"{url}appid={api_key}&units={units}&q=\"\n",
    "\n",
    "for index, row in cleancities_df.iterrows():\n",
    "    city = row[\"city\"]\n",
    "    response = requests.get(query_url + city).json()\n",
    "    \n",
    "    print(f\"Looking for the weather in city number {index}, {city}\")\n",
    "    \n",
    "    try:\n",
    "        cleancities_df.at[index, \"lat\"] = response[\"coord\"][\"lat\"]\n",
    "        cleancities_df.at[index, \"long\"] = response[\"coord\"][\"lon\"]\n",
    "        cleancities_df.at[index, \"max temp\"] = response[\"main\"][\"temp_max\"]\n",
    "        cleancities_df.at[index, \"humidity\"] = response[\"main\"][\"humidity\"]\n",
    "        cleancities_df.at[index, \"cloudiness\"] = response[\"clouds\"][\"all\"]\n",
    "        cleancities_df.at[index, \"wind speed\"] = response[\"wind\"][\"speed\"]\n",
    "        cleancities_df.at[index, \"date\"] = response[\"dt\"]\n",
    "    except:\n",
    "          print(\"Missing city. Moving on...\")\n",
    "          \n",
    "\n",
    "cleancities_df.head()"
   ]
  },
  {
   "cell_type": "code",
   "execution_count": 9,
   "metadata": {},
   "outputs": [
    {
     "name": "stdout",
     "output_type": "stream",
     "text": [
      "283\n"
     ]
    }
   ],
   "source": [
    "print(len(cleancities_df[\"city\"]))"
   ]
  },
  {
   "cell_type": "code",
   "execution_count": 10,
   "metadata": {},
   "outputs": [
    {
     "data": {
      "text/html": [
       "<div>\n",
       "<style scoped>\n",
       "    .dataframe tbody tr th:only-of-type {\n",
       "        vertical-align: middle;\n",
       "    }\n",
       "\n",
       "    .dataframe tbody tr th {\n",
       "        vertical-align: top;\n",
       "    }\n",
       "\n",
       "    .dataframe thead th {\n",
       "        text-align: right;\n",
       "    }\n",
       "</style>\n",
       "<table border=\"1\" class=\"dataframe\">\n",
       "  <thead>\n",
       "    <tr style=\"text-align: right;\">\n",
       "      <th></th>\n",
       "      <th>lat</th>\n",
       "      <th>long</th>\n",
       "      <th>city</th>\n",
       "      <th>country</th>\n",
       "      <th>max temp</th>\n",
       "      <th>humidity</th>\n",
       "      <th>cloudiness</th>\n",
       "      <th>wind speed</th>\n",
       "      <th>date</th>\n",
       "    </tr>\n",
       "  </thead>\n",
       "  <tbody>\n",
       "    <tr>\n",
       "      <th>0</th>\n",
       "      <td>-54.800000</td>\n",
       "      <td>-68.30000</td>\n",
       "      <td>ushuaia</td>\n",
       "      <td>ar</td>\n",
       "      <td>42.8</td>\n",
       "      <td>52</td>\n",
       "      <td>75</td>\n",
       "      <td>16.11</td>\n",
       "      <td>1599706358</td>\n",
       "    </tr>\n",
       "    <tr>\n",
       "      <th>1</th>\n",
       "      <td>-33.650000</td>\n",
       "      <td>115.33000</td>\n",
       "      <td>busselton</td>\n",
       "      <td>au</td>\n",
       "      <td>57</td>\n",
       "      <td>67</td>\n",
       "      <td>0</td>\n",
       "      <td>5.99</td>\n",
       "      <td>1599706647</td>\n",
       "    </tr>\n",
       "    <tr>\n",
       "      <th>2</th>\n",
       "      <td>-25.170000</td>\n",
       "      <td>45.05000</td>\n",
       "      <td>beloha</td>\n",
       "      <td>mg</td>\n",
       "      <td>70.97</td>\n",
       "      <td>64</td>\n",
       "      <td>48</td>\n",
       "      <td>10.02</td>\n",
       "      <td>1599706937</td>\n",
       "    </tr>\n",
       "    <tr>\n",
       "      <th>3</th>\n",
       "      <td>28.320000</td>\n",
       "      <td>109.72000</td>\n",
       "      <td>jishou</td>\n",
       "      <td>cn</td>\n",
       "      <td>80.22</td>\n",
       "      <td>79</td>\n",
       "      <td>79</td>\n",
       "      <td>1.92</td>\n",
       "      <td>1599706938</td>\n",
       "    </tr>\n",
       "    <tr>\n",
       "      <th>4</th>\n",
       "      <td>8.570000</td>\n",
       "      <td>81.23000</td>\n",
       "      <td>trincomalee</td>\n",
       "      <td>lk</td>\n",
       "      <td>83.71</td>\n",
       "      <td>71</td>\n",
       "      <td>91</td>\n",
       "      <td>18.12</td>\n",
       "      <td>1599706858</td>\n",
       "    </tr>\n",
       "    <tr>\n",
       "      <th>...</th>\n",
       "      <td>...</td>\n",
       "      <td>...</td>\n",
       "      <td>...</td>\n",
       "      <td>...</td>\n",
       "      <td>...</td>\n",
       "      <td>...</td>\n",
       "      <td>...</td>\n",
       "      <td>...</td>\n",
       "      <td>...</td>\n",
       "    </tr>\n",
       "    <tr>\n",
       "      <th>278</th>\n",
       "      <td>40.430000</td>\n",
       "      <td>71.72000</td>\n",
       "      <td>komsomolskiy</td>\n",
       "      <td>ru</td>\n",
       "      <td>69.8</td>\n",
       "      <td>35</td>\n",
       "      <td>0</td>\n",
       "      <td>2.24</td>\n",
       "      <td>1599706693</td>\n",
       "    </tr>\n",
       "    <tr>\n",
       "      <th>279</th>\n",
       "      <td>1.538881</td>\n",
       "      <td>-170.53697</td>\n",
       "      <td>saleaula</td>\n",
       "      <td>ws</td>\n",
       "      <td></td>\n",
       "      <td></td>\n",
       "      <td></td>\n",
       "      <td></td>\n",
       "      <td></td>\n",
       "    </tr>\n",
       "    <tr>\n",
       "      <th>280</th>\n",
       "      <td>61.990000</td>\n",
       "      <td>-49.67000</td>\n",
       "      <td>paamiut</td>\n",
       "      <td>gl</td>\n",
       "      <td>39.99</td>\n",
       "      <td>78</td>\n",
       "      <td>88</td>\n",
       "      <td>22.97</td>\n",
       "      <td>1599706995</td>\n",
       "    </tr>\n",
       "    <tr>\n",
       "      <th>281</th>\n",
       "      <td>-0.910000</td>\n",
       "      <td>122.88000</td>\n",
       "      <td>biak</td>\n",
       "      <td>id</td>\n",
       "      <td>82.15</td>\n",
       "      <td>73</td>\n",
       "      <td>28</td>\n",
       "      <td>8.23</td>\n",
       "      <td>1599706995</td>\n",
       "    </tr>\n",
       "    <tr>\n",
       "      <th>282</th>\n",
       "      <td>39.830000</td>\n",
       "      <td>44.70000</td>\n",
       "      <td>ararat</td>\n",
       "      <td>au</td>\n",
       "      <td>64.4</td>\n",
       "      <td>55</td>\n",
       "      <td>0</td>\n",
       "      <td>5.82</td>\n",
       "      <td>1599706996</td>\n",
       "    </tr>\n",
       "  </tbody>\n",
       "</table>\n",
       "<p>283 rows × 9 columns</p>\n",
       "</div>"
      ],
      "text/plain": [
       "           lat       long          city country max temp humidity cloudiness  \\\n",
       "0   -54.800000  -68.30000       ushuaia      ar     42.8       52         75   \n",
       "1   -33.650000  115.33000     busselton      au       57       67          0   \n",
       "2   -25.170000   45.05000        beloha      mg    70.97       64         48   \n",
       "3    28.320000  109.72000        jishou      cn    80.22       79         79   \n",
       "4     8.570000   81.23000   trincomalee      lk    83.71       71         91   \n",
       "..         ...        ...           ...     ...      ...      ...        ...   \n",
       "278  40.430000   71.72000  komsomolskiy      ru     69.8       35          0   \n",
       "279   1.538881 -170.53697      saleaula      ws                                \n",
       "280  61.990000  -49.67000       paamiut      gl    39.99       78         88   \n",
       "281  -0.910000  122.88000          biak      id    82.15       73         28   \n",
       "282  39.830000   44.70000        ararat      au     64.4       55          0   \n",
       "\n",
       "    wind speed        date  \n",
       "0        16.11  1599706358  \n",
       "1         5.99  1599706647  \n",
       "2        10.02  1599706937  \n",
       "3         1.92  1599706938  \n",
       "4        18.12  1599706858  \n",
       "..         ...         ...  \n",
       "278       2.24  1599706693  \n",
       "279                         \n",
       "280      22.97  1599706995  \n",
       "281       8.23  1599706995  \n",
       "282       5.82  1599706996  \n",
       "\n",
       "[283 rows x 9 columns]"
      ]
     },
     "execution_count": 10,
     "metadata": {},
     "output_type": "execute_result"
    }
   ],
   "source": [
    "cleancities_df"
   ]
  },
  {
   "cell_type": "code",
   "execution_count": 11,
   "metadata": {},
   "outputs": [
    {
     "data": {
      "text/plain": [
       "lat           0\n",
       "long          0\n",
       "city          0\n",
       "country       0\n",
       "max temp      0\n",
       "humidity      0\n",
       "cloudiness    0\n",
       "wind speed    0\n",
       "date          0\n",
       "dtype: int64"
      ]
     },
     "execution_count": 11,
     "metadata": {},
     "output_type": "execute_result"
    }
   ],
   "source": [
    "cleancities_df.isnull().sum()"
   ]
  },
  {
   "cell_type": "code",
   "execution_count": 12,
   "metadata": {},
   "outputs": [
    {
     "data": {
      "text/plain": [
       "lat           0\n",
       "long          0\n",
       "city          0\n",
       "country       0\n",
       "max temp      0\n",
       "humidity      0\n",
       "cloudiness    0\n",
       "wind speed    0\n",
       "date          0\n",
       "dtype: int64"
      ]
     },
     "execution_count": 12,
     "metadata": {},
     "output_type": "execute_result"
    }
   ],
   "source": [
    "cleancities_df.dropna(inplace=True)\n",
    "\n",
    "cleancities_df.isnull().sum()\n"
   ]
  },
  {
   "cell_type": "code",
   "execution_count": 13,
   "metadata": {},
   "outputs": [
    {
     "name": "stdout",
     "output_type": "stream",
     "text": [
      "283\n"
     ]
    }
   ],
   "source": [
    "print(len(cleancities_df[\"city\"]))"
   ]
  },
  {
   "cell_type": "code",
   "execution_count": 14,
   "metadata": {
    "scrolled": true
   },
   "outputs": [
    {
     "data": {
      "text/plain": [
       "lat           float64\n",
       "long          float64\n",
       "city           object\n",
       "country        object\n",
       "max temp       object\n",
       "humidity       object\n",
       "cloudiness     object\n",
       "wind speed     object\n",
       "date           object\n",
       "dtype: object"
      ]
     },
     "execution_count": 14,
     "metadata": {},
     "output_type": "execute_result"
    }
   ],
   "source": [
    "cleancities_df.dtypes"
   ]
  },
  {
   "cell_type": "code",
   "execution_count": 15,
   "metadata": {
    "scrolled": true
   },
   "outputs": [
    {
     "data": {
      "text/plain": [
       "lat           float64\n",
       "long          float64\n",
       "city           object\n",
       "country        object\n",
       "max temp      float64\n",
       "humidity      float64\n",
       "cloudiness    float64\n",
       "wind speed    float64\n",
       "date           object\n",
       "dtype: object"
      ]
     },
     "execution_count": 15,
     "metadata": {},
     "output_type": "execute_result"
    }
   ],
   "source": [
    "cleancities_df[\"max temp\"] = pd.to_numeric(cleancities_df[\"max temp\"])\n",
    "cleancities_df[\"humidity\"] = pd.to_numeric(cleancities_df[\"humidity\"])\n",
    "cleancities_df[\"cloudiness\"] = pd.to_numeric(cleancities_df[\"cloudiness\"])\n",
    "cleancities_df[\"wind speed\"] = pd.to_numeric(cleancities_df[\"wind speed\"])\n",
    "\n",
    "cleancities_df.dtypes"
   ]
  },
  {
   "cell_type": "code",
   "execution_count": 16,
   "metadata": {},
   "outputs": [],
   "source": [
    "cleancities_df.to_csv(r\"..\\\\Output\\\\Clean Cities.csv\", index = False, header=True)"
   ]
  },
  {
   "cell_type": "code",
   "execution_count": 17,
   "metadata": {},
   "outputs": [
    {
     "data": {
      "image/png": "[encoded data removed]",
      "text/plain": [
       "<Figure size 432x288 with 1 Axes>"
      ]
     },
     "metadata": {
      "needs_background": "light"
     },
     "output_type": "display_data"
    }
   ],
   "source": [
    "a = cleancities_df.plot.scatter(x=\"lat\", y=\"max temp\").get_figure()\n",
    "plt.title(\"Latitude vs. Max Temperature in chosen Cities\")\n",
    "a.savefig(\"..\\\\Output\\\\latvsmaxtemp.png\")\n",
    "plt.show()"
   ]
  },
  {
   "cell_type": "markdown",
   "metadata": {},
   "source": [
    "### This scatter plot makes the most sense to me. We can notice how temperature increases the closer we move to the Equator."
   ]
  },
  {
   "cell_type": "code",
   "execution_count": 18,
   "metadata": {
    "scrolled": true
   },
   "outputs": [
    {
     "data": {
      "image/png": "[encoded data removed]",
      "text/plain": [
       "<Figure size 432x288 with 1 Axes>"
      ]
     },
     "metadata": {
      "needs_background": "light"
     },
     "output_type": "display_data"
    }
   ],
   "source": [
    "b= cleancities_df.plot.scatter(x=\"lat\", y=\"humidity\").get_figure()\n",
    "plt.title(\"Latitude vs. Humidity in chosen Cities\")\n",
    "b.savefig(\"..\\\\Output\\\\latvshumid.png\")\n",
    "plt.show()"
   ]
  },
  {
   "cell_type": "markdown",
   "metadata": {},
   "source": [
    "### Humidity and Latitude seems a little random. I'd believe that a city would be more humid if it was closer to the ocean. Or maybe it depends on the amount of vegetation there is there."
   ]
  },
  {
   "cell_type": "code",
   "execution_count": 19,
   "metadata": {
    "scrolled": true
   },
   "outputs": [
    {
     "data": {
      "image/png": "[encoded data removed]",
      "text/plain": [
       "<Figure size 432x288 with 1 Axes>"
      ]
     },
     "metadata": {
      "needs_background": "light"
     },
     "output_type": "display_data"
    }
   ],
   "source": [
    "c=cleancities_df.plot.scatter(x=\"lat\", y=\"cloudiness\").get_figure()\n",
    "plt.title(\"Latitude vs. Cloudiness in chosen Cities\")\n",
    "c.savefig(\"..\\\\Output\\\\latvscloud.png\")\n",
    "plt.show()"
   ]
  },
  {
   "cell_type": "markdown",
   "metadata": {},
   "source": [
    "### There doesn't appear to be anything noticeable in this scatter plot."
   ]
  },
  {
   "cell_type": "code",
   "execution_count": 20,
   "metadata": {},
   "outputs": [
    {
     "data": {
      "image/png": "[encoded data removed]",
      "text/plain": [
       "<Figure size 432x288 with 1 Axes>"
      ]
     },
     "metadata": {
      "needs_background": "light"
     },
     "output_type": "display_data"
    }
   ],
   "source": [
    "d=cleancities_df.plot.scatter(x=\"lat\", y=\"wind speed\").get_figure()\n",
    "plt.title(\"Latitude vs. Wind Speed in chosen Cities\")\n",
    "d.savefig(\"..\\\\Output\\\\latvswind.png\")\n",
    "plt.show()"
   ]
  },
  {
   "cell_type": "markdown",
   "metadata": {},
   "source": [
    "### We can see that the cities that were chosen are not that windy. Maybe if we plotted altitude along with latitude and wind speed, we could see another kind of pattern."
   ]
  },
  {
   "cell_type": "markdown",
   "metadata": {},
   "source": [
    "# Now lets makes regressions comparing the Northern and Southern Hemisphere"
   ]
  },
  {
   "cell_type": "code",
   "execution_count": 21,
   "metadata": {},
   "outputs": [],
   "source": [
    "import scipy.stats as st\n",
    "from scipy.stats import linregress"
   ]
  },
  {
   "cell_type": "code",
   "execution_count": 22,
   "metadata": {},
   "outputs": [
    {
     "name": "stderr",
     "output_type": "stream",
     "text": [
      "<ipython-input-22-4312184d1897>:4: SettingWithCopyWarning: \n",
      "A value is trying to be set on a copy of a slice from a DataFrame\n",
      "\n",
      "See the caveats in the documentation: https://pandas.pydata.org/pandas-docs/stable/user_guide/indexing.html#returning-a-view-versus-a-copy\n",
      "  northhem.dropna(inplace=True)\n",
      "<ipython-input-22-4312184d1897>:5: SettingWithCopyWarning: \n",
      "A value is trying to be set on a copy of a slice from a DataFrame\n",
      "\n",
      "See the caveats in the documentation: https://pandas.pydata.org/pandas-docs/stable/user_guide/indexing.html#returning-a-view-versus-a-copy\n",
      "  southhem.dropna(inplace=True)\n"
     ]
    }
   ],
   "source": [
    "northhem = cleancities_df.loc[cleancities_df[\"lat\"]>=0]\n",
    "southhem = cleancities_df.loc[cleancities_df[\"lat\"]<0]\n",
    "\n",
    "northhem.dropna(inplace=True)\n",
    "southhem.dropna(inplace=True)"
   ]
  },
  {
   "cell_type": "code",
   "execution_count": 23,
   "metadata": {},
   "outputs": [],
   "source": [
    "def regression(x_values, y_values, x_label, y_label, eq_pos, save):\n",
    "    (slope, intercept, rvalue, pvalue, stderr) = st.linregress(x_values, y_values)\n",
    "    regress_values = x_values * slope + intercept\n",
    "    line_eq = \"y = \" + str(round(slope,2)) + \"x + \" + str(round(intercept,2))\n",
    "    plt.scatter(x_values,y_values)\n",
    "    plt.plot(x_values,regress_values,\"r-\")\n",
    "    plt.annotate(line_eq,(eq_pos),fontsize=15,color=\"red\")\n",
    "    plt.xlabel(x_label)\n",
    "    plt.ylabel(y_label)\n",
    "    plt.title(f\"{save}\")\n",
    "    print(f\"The r-squared is: {rvalue**2}\")\n",
    "    plt.savefig(f\"..\\\\Output\\\\{save}\")\n",
    "    plt.show()"
   ]
  },
  {
   "cell_type": "code",
   "execution_count": 24,
   "metadata": {},
   "outputs": [
    {
     "name": "stdout",
     "output_type": "stream",
     "text": [
      "The r-squared is: 0.6964837688269448\n"
     ]
    },
    {
     "data": {
      "image/png": "[encoded data removed]",
      "text/plain": [
       "<Figure size 432x288 with 1 Axes>"
      ]
     },
     "metadata": {
      "needs_background": "light"
     },
     "output_type": "display_data"
    }
   ],
   "source": [
    "x_label = \"lat\"\n",
    "y_label = \"max temp\"\n",
    "\n",
    "eq_pos = (0,40)\n",
    "\n",
    "regression(northhem[x_label], northhem[y_label], x_label, y_label, eq_pos, \"NorthHemLatvsMaxTemp\")"
   ]
  },
  {
   "cell_type": "code",
   "execution_count": 32,
   "metadata": {},
   "outputs": [
    {
     "name": "stdout",
     "output_type": "stream",
     "text": [
      "The r-squared is: 0.47250366929904647\n"
     ]
    },
    {
     "data": {
      "image/png": "[encoded data removed]",
      "text/plain": [
       "<Figure size 432x288 with 1 Axes>"
      ]
     },
     "metadata": {
      "needs_background": "light"
     },
     "output_type": "display_data"
    }
   ],
   "source": [
    "x_label = \"lat\"\n",
    "y_label = \"max temp\"\n",
    "\n",
    "eq_pos = (-50,80)\n",
    "\n",
    "regression(southhem[x_label], southhem[y_label], x_label, y_label, eq_pos, \"SouthHemLatvsMaxTemp\")"
   ]
  },
  {
   "cell_type": "code",
   "execution_count": 33,
   "metadata": {},
   "outputs": [
    {
     "name": "stdout",
     "output_type": "stream",
     "text": [
      "The r-squared is: 0.0018397880258591282\n"
     ]
    },
    {
     "data": {
      "image/png": "[encoded data removed]",
      "text/plain": [
       "<Figure size 432x288 with 1 Axes>"
      ]
     },
     "metadata": {
      "needs_background": "light"
     },
     "output_type": "display_data"
    }
   ],
   "source": [
    "x_label = \"lat\"\n",
    "y_label = \"humidity\"\n",
    "\n",
    "eq_pos = (45,20)\n",
    "\n",
    "regression(northhem[x_label], northhem[y_label], x_label, y_label, eq_pos, \"NorthHemLatvsHumidity\")"
   ]
  },
  {
   "cell_type": "code",
   "execution_count": 34,
   "metadata": {},
   "outputs": [
    {
     "name": "stdout",
     "output_type": "stream",
     "text": [
      "The r-squared is: 0.0022688771565869442\n"
     ]
    },
    {
     "data": {
      "image/png": "[encoded data removed]",
      "text/plain": [
       "<Figure size 432x288 with 1 Axes>"
      ]
     },
     "metadata": {
      "needs_background": "light"
     },
     "output_type": "display_data"
    }
   ],
   "source": [
    "x_label = \"lat\"\n",
    "y_label = \"humidity\"\n",
    "\n",
    "eq_pos = (-50,20)\n",
    "\n",
    "regression(southhem[x_label], southhem[y_label], x_label, y_label, eq_pos, \"SouthHemLatvsHumidity\")"
   ]
  },
  {
   "cell_type": "code",
   "execution_count": 35,
   "metadata": {},
   "outputs": [
    {
     "name": "stdout",
     "output_type": "stream",
     "text": [
      "The r-squared is: 0.005373095145048143\n"
     ]
    },
    {
     "data": {
      "image/png": "[encoded data removed]",
      "text/plain": [
       "<Figure size 432x288 with 1 Axes>"
      ]
     },
     "metadata": {
      "needs_background": "light"
     },
     "output_type": "display_data"
    }
   ],
   "source": [
    "x_label = \"lat\"\n",
    "y_label = \"cloudiness\"\n",
    "\n",
    "eq_pos = (40,15)\n",
    "\n",
    "regression(northhem[x_label], northhem[y_label], x_label, y_label, eq_pos, \"NorthHemLatvsCloudiness\")"
   ]
  },
  {
   "cell_type": "code",
   "execution_count": 36,
   "metadata": {},
   "outputs": [
    {
     "name": "stdout",
     "output_type": "stream",
     "text": [
      "The r-squared is: 0.03172820507682186\n"
     ]
    },
    {
     "data": {
      "image/png": "[encoded data removed]",
      "text/plain": [
       "<Figure size 432x288 with 1 Axes>"
      ]
     },
     "metadata": {
      "needs_background": "light"
     },
     "output_type": "display_data"
    }
   ],
   "source": [
    "x_label = \"lat\"\n",
    "y_label = \"cloudiness\"\n",
    "\n",
    "eq_pos = (-50,10)\n",
    "\n",
    "regression(southhem[x_label], southhem[y_label], x_label, y_label, eq_pos, \"SouthHemLatvsCloudiness\")"
   ]
  },
  {
   "cell_type": "code",
   "execution_count": 37,
   "metadata": {},
   "outputs": [
    {
     "name": "stdout",
     "output_type": "stream",
     "text": [
      "The r-squared is: 0.007861228651418386\n"
     ]
    },
    {
     "data": {
      "image/png": "[encoded data removed]",
      "text/plain": [
       "<Figure size 432x288 with 1 Axes>"
      ]
     },
     "metadata": {
      "needs_background": "light"
     },
     "output_type": "display_data"
    }
   ],
   "source": [
    "x_label = \"lat\"\n",
    "y_label = \"wind speed\"\n",
    "\n",
    "eq_pos = (40,20)\n",
    "\n",
    "regression(northhem[x_label], northhem[y_label], x_label, y_label, eq_pos, \"NorthHemLatvsWindSpeed\")"
   ]
  },
  {
   "cell_type": "code",
   "execution_count": 38,
   "metadata": {},
   "outputs": [
    {
     "name": "stdout",
     "output_type": "stream",
     "text": [
      "The r-squared is: 0.04756271658342103\n"
     ]
    },
    {
     "data": {
      "image/png": "[encoded data removed]",
      "text/plain": [
       "<Figure size 432x288 with 1 Axes>"
      ]
     },
     "metadata": {
      "needs_background": "light"
     },
     "output_type": "display_data"
    }
   ],
   "source": [
    "x_label = \"lat\"\n",
    "y_label = \"wind speed\"\n",
    "\n",
    "eq_pos = (-50,20)\n",
    "\n",
    "regression(southhem[x_label], southhem[y_label], x_label, y_label, eq_pos, \"SouthHemLatvsWindSpeed\")"
   ]
  },
  {
   "cell_type": "markdown",
   "metadata": {},
   "source": [
    "# Observations:"
   ]
  },
  {
   "cell_type": "markdown",
   "metadata": {},
   "source": [
    "## 1. Temperature is affected by how close you are to the Equator."
   ]
  },
  {
   "cell_type": "markdown",
   "metadata": {},
   "source": [
    "## 2. Wind Speed tends to increase the farther away your are from the Equator."
   ]
  },
  {
   "cell_type": "markdown",
   "metadata": {},
   "source": [
    "## 3. Cloudiness tends to increase the farther away you are from the Equator."
   ]
  },
  {
   "cell_type": "code",
   "execution_count": null,
   "metadata": {},
   "outputs": [],
   "source": []
  }
 ],
 "metadata": {
  "kernelspec": {
   "display_name": "Python 3",
   "language": "python",
   "name": "python3"
  },
  "language_info": {
   "codemirror_mode": {
    "name": "ipython",
    "version": 3
   },
   "file_extension": ".py",
   "mimetype": "text/x-python",
   "name": "python",
   "nbconvert_exporter": "python",
   "pygments_lexer": "ipython3",
   "version": "3.8.3"
  }
 },
 "nbformat": 4,
 "nbformat_minor": 4
}
