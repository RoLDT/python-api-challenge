{
 "cells": [
  {
   "cell_type": "code",
   "execution_count": 2,
   "metadata": {},
   "outputs": [],
   "source": [
    "# Dependencies and Setup\n",
    "import matplotlib.pyplot as plt\n",
    "import pandas as pd\n",
    "import numpy as np\n",
    "import requests\n",
    "import gmaps\n",
    "import os\n",
    "import json\n",
    "\n",
    "# Import API key\n",
    "from config import g_key\n",
    "gmaps.configure(api_key=g_key)"
   ]
  },
  {
   "cell_type": "markdown",
   "metadata": {},
   "source": [
    "## Load CSV from Weatherpy exercise"
   ]
  },
  {
   "cell_type": "code",
   "execution_count": 3,
   "metadata": {},
   "outputs": [
    {
     "data": {
      "text/html": [
       "<div>\n",
       "<style scoped>\n",
       "    .dataframe tbody tr th:only-of-type {\n",
       "        vertical-align: middle;\n",
       "    }\n",
       "\n",
       "    .dataframe tbody tr th {\n",
       "        vertical-align: top;\n",
       "    }\n",
       "\n",
       "    .dataframe thead th {\n",
       "        text-align: right;\n",
       "    }\n",
       "</style>\n",
       "<table border=\"1\" class=\"dataframe\">\n",
       "  <thead>\n",
       "    <tr style=\"text-align: right;\">\n",
       "      <th></th>\n",
       "      <th>lat</th>\n",
       "      <th>long</th>\n",
       "      <th>city</th>\n",
       "      <th>country</th>\n",
       "      <th>max temp</th>\n",
       "      <th>humidity</th>\n",
       "      <th>cloudiness</th>\n",
       "      <th>wind speed</th>\n",
       "      <th>date</th>\n",
       "    </tr>\n",
       "  </thead>\n",
       "  <tbody>\n",
       "    <tr>\n",
       "      <th>0</th>\n",
       "      <td>-37.092551</td>\n",
       "      <td>-81.223852</td>\n",
       "      <td>lebu</td>\n",
       "      <td>cl</td>\n",
       "      <td>48.87</td>\n",
       "      <td>86.0</td>\n",
       "      <td>26.0</td>\n",
       "      <td>0.81</td>\n",
       "      <td>1.599346e+09</td>\n",
       "    </tr>\n",
       "    <tr>\n",
       "      <th>1</th>\n",
       "      <td>35.151068</td>\n",
       "      <td>86.759262</td>\n",
       "      <td>korla</td>\n",
       "      <td>cn</td>\n",
       "      <td>73.00</td>\n",
       "      <td>52.0</td>\n",
       "      <td>0.0</td>\n",
       "      <td>5.99</td>\n",
       "      <td>1.599346e+09</td>\n",
       "    </tr>\n",
       "    <tr>\n",
       "      <th>2</th>\n",
       "      <td>-35.321667</td>\n",
       "      <td>170.227764</td>\n",
       "      <td>ahipara</td>\n",
       "      <td>nz</td>\n",
       "      <td>58.39</td>\n",
       "      <td>68.0</td>\n",
       "      <td>100.0</td>\n",
       "      <td>12.64</td>\n",
       "      <td>1.599346e+09</td>\n",
       "    </tr>\n",
       "    <tr>\n",
       "      <th>3</th>\n",
       "      <td>0.508284</td>\n",
       "      <td>-45.526150</td>\n",
       "      <td>carutapera</td>\n",
       "      <td>br</td>\n",
       "      <td>78.84</td>\n",
       "      <td>83.0</td>\n",
       "      <td>85.0</td>\n",
       "      <td>7.72</td>\n",
       "      <td>1.599346e+09</td>\n",
       "    </tr>\n",
       "    <tr>\n",
       "      <th>4</th>\n",
       "      <td>-13.533050</td>\n",
       "      <td>78.674963</td>\n",
       "      <td>hithadhoo</td>\n",
       "      <td>mv</td>\n",
       "      <td>80.51</td>\n",
       "      <td>76.0</td>\n",
       "      <td>100.0</td>\n",
       "      <td>25.59</td>\n",
       "      <td>1.599346e+09</td>\n",
       "    </tr>\n",
       "  </tbody>\n",
       "</table>\n",
       "</div>"
      ],
      "text/plain": [
       "         lat        long        city country  max temp  humidity  cloudiness  \\\n",
       "0 -37.092551  -81.223852        lebu      cl     48.87      86.0        26.0   \n",
       "1  35.151068   86.759262       korla      cn     73.00      52.0         0.0   \n",
       "2 -35.321667  170.227764     ahipara      nz     58.39      68.0       100.0   \n",
       "3   0.508284  -45.526150  carutapera      br     78.84      83.0        85.0   \n",
       "4 -13.533050   78.674963   hithadhoo      mv     80.51      76.0       100.0   \n",
       "\n",
       "   wind speed          date  \n",
       "0        0.81  1.599346e+09  \n",
       "1        5.99  1.599346e+09  \n",
       "2       12.64  1.599346e+09  \n",
       "3        7.72  1.599346e+09  \n",
       "4       25.59  1.599346e+09  "
      ]
     },
     "execution_count": 3,
     "metadata": {},
     "output_type": "execute_result"
    }
   ],
   "source": [
    "path = \"..\\\\Output\\\\Clean Cities.csv\"\n",
    "\n",
    "df = pd.read_csv(path)\n",
    "\n",
    "df.head()"
   ]
  },
  {
   "cell_type": "markdown",
   "metadata": {},
   "source": [
    "## Humidity Heat Map"
   ]
  },
  {
   "cell_type": "code",
   "execution_count": 4,
   "metadata": {},
   "outputs": [],
   "source": [
    "locations = df[[\"lat\", \"long\"]]\n",
    "\n",
    "weight = df[\"humidity\"]"
   ]
  },
  {
   "cell_type": "code",
   "execution_count": 5,
   "metadata": {},
   "outputs": [
    {
     "data": {
      "application/vnd.jupyter.widget-view+json": {
       "model_id": "db45979bec114edab0a8fad6137a96c5",
       "version_major": 2,
       "version_minor": 0
      },
      "text/plain": [
       "Figure(layout=FigureLayout(height='420px'))"
      ]
     },
     "metadata": {},
     "output_type": "display_data"
    }
   ],
   "source": [
    "fig = gmaps.figure()\n",
    "heatmap_layer = gmaps.heatmap_layer(\n",
    "    locations, weights=weight,\n",
    "    max_intensity=20, point_radius=5\n",
    ")\n",
    "fig.add_layer(heatmap_layer)\n",
    "fig\n"
   ]
  },
  {
   "cell_type": "markdown",
   "metadata": {},
   "source": [
    "### The heatmap is too populated. Let's further filter out cities I probably don't want to go to on vacation."
   ]
  },
  {
   "cell_type": "markdown",
   "metadata": {},
   "source": [
    "## Create new DF considering my weather preferences."
   ]
  },
  {
   "cell_type": "code",
   "execution_count": 6,
   "metadata": {},
   "outputs": [
    {
     "data": {
      "text/html": [
       "<div>\n",
       "<style scoped>\n",
       "    .dataframe tbody tr th:only-of-type {\n",
       "        vertical-align: middle;\n",
       "    }\n",
       "\n",
       "    .dataframe tbody tr th {\n",
       "        vertical-align: top;\n",
       "    }\n",
       "\n",
       "    .dataframe thead th {\n",
       "        text-align: right;\n",
       "    }\n",
       "</style>\n",
       "<table border=\"1\" class=\"dataframe\">\n",
       "  <thead>\n",
       "    <tr style=\"text-align: right;\">\n",
       "      <th></th>\n",
       "      <th>lat</th>\n",
       "      <th>long</th>\n",
       "      <th>city</th>\n",
       "      <th>country</th>\n",
       "      <th>max temp</th>\n",
       "      <th>humidity</th>\n",
       "      <th>cloudiness</th>\n",
       "      <th>wind speed</th>\n",
       "      <th>date</th>\n",
       "    </tr>\n",
       "  </thead>\n",
       "  <tbody>\n",
       "    <tr>\n",
       "      <th>1</th>\n",
       "      <td>35.151068</td>\n",
       "      <td>86.759262</td>\n",
       "      <td>korla</td>\n",
       "      <td>cn</td>\n",
       "      <td>73.0</td>\n",
       "      <td>52.0</td>\n",
       "      <td>0.0</td>\n",
       "      <td>5.99</td>\n",
       "      <td>1.599346e+09</td>\n",
       "    </tr>\n",
       "    <tr>\n",
       "      <th>10</th>\n",
       "      <td>38.764772</td>\n",
       "      <td>-11.590327</td>\n",
       "      <td>colares</td>\n",
       "      <td>pt</td>\n",
       "      <td>75.2</td>\n",
       "      <td>33.0</td>\n",
       "      <td>0.0</td>\n",
       "      <td>6.93</td>\n",
       "      <td>1.599346e+09</td>\n",
       "    </tr>\n",
       "    <tr>\n",
       "      <th>84</th>\n",
       "      <td>-26.476105</td>\n",
       "      <td>137.765005</td>\n",
       "      <td>alice springs</td>\n",
       "      <td>au</td>\n",
       "      <td>75.0</td>\n",
       "      <td>18.0</td>\n",
       "      <td>0.0</td>\n",
       "      <td>9.17</td>\n",
       "      <td>1.599346e+09</td>\n",
       "    </tr>\n",
       "    <tr>\n",
       "      <th>149</th>\n",
       "      <td>38.284009</td>\n",
       "      <td>62.143531</td>\n",
       "      <td>murgab</td>\n",
       "      <td>tm</td>\n",
       "      <td>71.6</td>\n",
       "      <td>30.0</td>\n",
       "      <td>0.0</td>\n",
       "      <td>4.70</td>\n",
       "      <td>1.599347e+09</td>\n",
       "    </tr>\n",
       "    <tr>\n",
       "      <th>159</th>\n",
       "      <td>28.531723</td>\n",
       "      <td>-21.545099</td>\n",
       "      <td>los llanos de aridane</td>\n",
       "      <td>es</td>\n",
       "      <td>73.4</td>\n",
       "      <td>69.0</td>\n",
       "      <td>0.0</td>\n",
       "      <td>8.86</td>\n",
       "      <td>1.599347e+09</td>\n",
       "    </tr>\n",
       "  </tbody>\n",
       "</table>\n",
       "</div>"
      ],
      "text/plain": [
       "           lat        long                   city country  max temp  humidity  \\\n",
       "1    35.151068   86.759262                  korla      cn      73.0      52.0   \n",
       "10   38.764772  -11.590327                colares      pt      75.2      33.0   \n",
       "84  -26.476105  137.765005          alice springs      au      75.0      18.0   \n",
       "149  38.284009   62.143531                 murgab      tm      71.6      30.0   \n",
       "159  28.531723  -21.545099  los llanos de aridane      es      73.4      69.0   \n",
       "\n",
       "     cloudiness  wind speed          date  \n",
       "1           0.0        5.99  1.599346e+09  \n",
       "10          0.0        6.93  1.599346e+09  \n",
       "84          0.0        9.17  1.599346e+09  \n",
       "149         0.0        4.70  1.599347e+09  \n",
       "159         0.0        8.86  1.599347e+09  "
      ]
     },
     "execution_count": 6,
     "metadata": {},
     "output_type": "execute_result"
    }
   ],
   "source": [
    "filtered_df = df.loc[(df[\"wind speed\"]<=10) & (df[\"max temp\"]>=70) & (df[\"max temp\"]<=80) & (df[\"cloudiness\"] ==0) & \n",
    "                    (df[\"humidity\"]<= 80)].dropna()\n",
    "\n",
    "filtered_df.head()"
   ]
  },
  {
   "cell_type": "code",
   "execution_count": 7,
   "metadata": {},
   "outputs": [],
   "source": [
    "filt_locations = filtered_df[[\"lat\", \"long\"]]\n",
    "\n",
    "filt_weight = filtered_df[\"humidity\"]"
   ]
  },
  {
   "cell_type": "code",
   "execution_count": 8,
   "metadata": {},
   "outputs": [
    {
     "data": {
      "application/vnd.jupyter.widget-view+json": {
       "model_id": "5cdd9b02b7804d9fb0a8b125943664ba",
       "version_major": 2,
       "version_minor": 0
      },
      "text/plain": [
       "Figure(layout=FigureLayout(height='420px'))"
      ]
     },
     "metadata": {},
     "output_type": "display_data"
    },
    {
     "data": {
      "text/plain": [
       "<Figure size 432x288 with 0 Axes>"
      ]
     },
     "metadata": {},
     "output_type": "display_data"
    }
   ],
   "source": [
    "fig2 = gmaps.figure(center=(35,40), zoom_level=2)\n",
    "heatmap_layer = gmaps.heatmap_layer(\n",
    "    filt_locations, weights=filt_weight,\n",
    "    max_intensity=60, point_radius=20\n",
    ")\n",
    "fig2.add_layer(heatmap_layer)\n",
    "plt.savefig(\"..\\Output\\FilteredHeatMap.png\")\n",
    "fig2\n"
   ]
  },
  {
   "cell_type": "markdown",
   "metadata": {},
   "source": [
    "### Now that we are down to 5 cities, let's look for hotels in the area."
   ]
  },
  {
   "cell_type": "markdown",
   "metadata": {},
   "source": [
    "## Hotel Map and Markers"
   ]
  },
  {
   "cell_type": "code",
   "execution_count": 9,
   "metadata": {
    "scrolled": true
   },
   "outputs": [
    {
     "data": {
      "text/html": [
       "<div>\n",
       "<style scoped>\n",
       "    .dataframe tbody tr th:only-of-type {\n",
       "        vertical-align: middle;\n",
       "    }\n",
       "\n",
       "    .dataframe tbody tr th {\n",
       "        vertical-align: top;\n",
       "    }\n",
       "\n",
       "    .dataframe thead th {\n",
       "        text-align: right;\n",
       "    }\n",
       "</style>\n",
       "<table border=\"1\" class=\"dataframe\">\n",
       "  <thead>\n",
       "    <tr style=\"text-align: right;\">\n",
       "      <th></th>\n",
       "      <th>lat</th>\n",
       "      <th>long</th>\n",
       "      <th>city</th>\n",
       "      <th>country</th>\n",
       "      <th>max temp</th>\n",
       "      <th>humidity</th>\n",
       "      <th>cloudiness</th>\n",
       "      <th>wind speed</th>\n",
       "      <th>date</th>\n",
       "      <th>hotel name</th>\n",
       "    </tr>\n",
       "  </thead>\n",
       "  <tbody>\n",
       "    <tr>\n",
       "      <th>1</th>\n",
       "      <td>35.151068</td>\n",
       "      <td>86.759262</td>\n",
       "      <td>korla</td>\n",
       "      <td>cn</td>\n",
       "      <td>73.0</td>\n",
       "      <td>52.0</td>\n",
       "      <td>0.0</td>\n",
       "      <td>5.99</td>\n",
       "      <td>1.599346e+09</td>\n",
       "      <td></td>\n",
       "    </tr>\n",
       "    <tr>\n",
       "      <th>10</th>\n",
       "      <td>38.764772</td>\n",
       "      <td>-11.590327</td>\n",
       "      <td>colares</td>\n",
       "      <td>pt</td>\n",
       "      <td>75.2</td>\n",
       "      <td>33.0</td>\n",
       "      <td>0.0</td>\n",
       "      <td>6.93</td>\n",
       "      <td>1.599346e+09</td>\n",
       "      <td></td>\n",
       "    </tr>\n",
       "    <tr>\n",
       "      <th>84</th>\n",
       "      <td>-26.476105</td>\n",
       "      <td>137.765005</td>\n",
       "      <td>alice springs</td>\n",
       "      <td>au</td>\n",
       "      <td>75.0</td>\n",
       "      <td>18.0</td>\n",
       "      <td>0.0</td>\n",
       "      <td>9.17</td>\n",
       "      <td>1.599346e+09</td>\n",
       "      <td></td>\n",
       "    </tr>\n",
       "    <tr>\n",
       "      <th>149</th>\n",
       "      <td>38.284009</td>\n",
       "      <td>62.143531</td>\n",
       "      <td>murgab</td>\n",
       "      <td>tm</td>\n",
       "      <td>71.6</td>\n",
       "      <td>30.0</td>\n",
       "      <td>0.0</td>\n",
       "      <td>4.70</td>\n",
       "      <td>1.599347e+09</td>\n",
       "      <td></td>\n",
       "    </tr>\n",
       "    <tr>\n",
       "      <th>159</th>\n",
       "      <td>28.531723</td>\n",
       "      <td>-21.545099</td>\n",
       "      <td>los llanos de aridane</td>\n",
       "      <td>es</td>\n",
       "      <td>73.4</td>\n",
       "      <td>69.0</td>\n",
       "      <td>0.0</td>\n",
       "      <td>8.86</td>\n",
       "      <td>1.599347e+09</td>\n",
       "      <td></td>\n",
       "    </tr>\n",
       "  </tbody>\n",
       "</table>\n",
       "</div>"
      ],
      "text/plain": [
       "           lat        long                   city country  max temp  humidity  \\\n",
       "1    35.151068   86.759262                  korla      cn      73.0      52.0   \n",
       "10   38.764772  -11.590327                colares      pt      75.2      33.0   \n",
       "84  -26.476105  137.765005          alice springs      au      75.0      18.0   \n",
       "149  38.284009   62.143531                 murgab      tm      71.6      30.0   \n",
       "159  28.531723  -21.545099  los llanos de aridane      es      73.4      69.0   \n",
       "\n",
       "     cloudiness  wind speed          date hotel name  \n",
       "1           0.0        5.99  1.599346e+09             \n",
       "10          0.0        6.93  1.599346e+09             \n",
       "84          0.0        9.17  1.599346e+09             \n",
       "149         0.0        4.70  1.599347e+09             \n",
       "159         0.0        8.86  1.599347e+09             "
      ]
     },
     "execution_count": 9,
     "metadata": {},
     "output_type": "execute_result"
    }
   ],
   "source": [
    "filtered_df[\"hotel name\"] = \"\"\n",
    "\n",
    "filtered_df.head()"
   ]
  },
  {
   "cell_type": "code",
   "execution_count": 10,
   "metadata": {},
   "outputs": [],
   "source": [
    "base_url = \"https://maps.googleapis.com/maps/api/place/nearbysearch/json\"\n",
    "\n",
    "params = {\"types\" : \"lodging\",\n",
    "          \"radius\" : 5000,\n",
    "          \"key\" : g_key}\n",
    "\n",
    "\n",
    "import time\n",
    "import pprint"
   ]
  },
  {
   "cell_type": "code",
   "execution_count": 11,
   "metadata": {
    "scrolled": true
   },
   "outputs": [
    {
     "data": {
      "text/html": [
       "<div>\n",
       "<style scoped>\n",
       "    .dataframe tbody tr th:only-of-type {\n",
       "        vertical-align: middle;\n",
       "    }\n",
       "\n",
       "    .dataframe tbody tr th {\n",
       "        vertical-align: top;\n",
       "    }\n",
       "\n",
       "    .dataframe thead th {\n",
       "        text-align: right;\n",
       "    }\n",
       "</style>\n",
       "<table border=\"1\" class=\"dataframe\">\n",
       "  <thead>\n",
       "    <tr style=\"text-align: right;\">\n",
       "      <th></th>\n",
       "      <th>lat</th>\n",
       "      <th>long</th>\n",
       "      <th>city</th>\n",
       "      <th>country</th>\n",
       "      <th>max temp</th>\n",
       "      <th>humidity</th>\n",
       "      <th>cloudiness</th>\n",
       "      <th>wind speed</th>\n",
       "      <th>date</th>\n",
       "      <th>hotel name</th>\n",
       "    </tr>\n",
       "  </thead>\n",
       "  <tbody>\n",
       "    <tr>\n",
       "      <th>1</th>\n",
       "      <td>35.151068</td>\n",
       "      <td>86.759262</td>\n",
       "      <td>korla</td>\n",
       "      <td>cn</td>\n",
       "      <td>73.0</td>\n",
       "      <td>52.0</td>\n",
       "      <td>0.0</td>\n",
       "      <td>5.99</td>\n",
       "      <td>1.599346e+09</td>\n",
       "      <td></td>\n",
       "    </tr>\n",
       "    <tr>\n",
       "      <th>10</th>\n",
       "      <td>38.764772</td>\n",
       "      <td>-11.590327</td>\n",
       "      <td>colares</td>\n",
       "      <td>pt</td>\n",
       "      <td>75.2</td>\n",
       "      <td>33.0</td>\n",
       "      <td>0.0</td>\n",
       "      <td>6.93</td>\n",
       "      <td>1.599346e+09</td>\n",
       "      <td></td>\n",
       "    </tr>\n",
       "    <tr>\n",
       "      <th>84</th>\n",
       "      <td>-26.476105</td>\n",
       "      <td>137.765005</td>\n",
       "      <td>alice springs</td>\n",
       "      <td>au</td>\n",
       "      <td>75.0</td>\n",
       "      <td>18.0</td>\n",
       "      <td>0.0</td>\n",
       "      <td>9.17</td>\n",
       "      <td>1.599346e+09</td>\n",
       "      <td></td>\n",
       "    </tr>\n",
       "    <tr>\n",
       "      <th>149</th>\n",
       "      <td>38.284009</td>\n",
       "      <td>62.143531</td>\n",
       "      <td>murgab</td>\n",
       "      <td>tm</td>\n",
       "      <td>71.6</td>\n",
       "      <td>30.0</td>\n",
       "      <td>0.0</td>\n",
       "      <td>4.70</td>\n",
       "      <td>1.599347e+09</td>\n",
       "      <td></td>\n",
       "    </tr>\n",
       "    <tr>\n",
       "      <th>159</th>\n",
       "      <td>28.531723</td>\n",
       "      <td>-21.545099</td>\n",
       "      <td>los llanos de aridane</td>\n",
       "      <td>es</td>\n",
       "      <td>73.4</td>\n",
       "      <td>69.0</td>\n",
       "      <td>0.0</td>\n",
       "      <td>8.86</td>\n",
       "      <td>1.599347e+09</td>\n",
       "      <td></td>\n",
       "    </tr>\n",
       "    <tr>\n",
       "      <th>179</th>\n",
       "      <td>-25.423555</td>\n",
       "      <td>138.772353</td>\n",
       "      <td>mount isa</td>\n",
       "      <td>au</td>\n",
       "      <td>77.0</td>\n",
       "      <td>23.0</td>\n",
       "      <td>0.0</td>\n",
       "      <td>8.05</td>\n",
       "      <td>1.599347e+09</td>\n",
       "      <td></td>\n",
       "    </tr>\n",
       "  </tbody>\n",
       "</table>\n",
       "</div>"
      ],
      "text/plain": [
       "           lat        long                   city country  max temp  humidity  \\\n",
       "1    35.151068   86.759262                  korla      cn      73.0      52.0   \n",
       "10   38.764772  -11.590327                colares      pt      75.2      33.0   \n",
       "84  -26.476105  137.765005          alice springs      au      75.0      18.0   \n",
       "149  38.284009   62.143531                 murgab      tm      71.6      30.0   \n",
       "159  28.531723  -21.545099  los llanos de aridane      es      73.4      69.0   \n",
       "179 -25.423555  138.772353              mount isa      au      77.0      23.0   \n",
       "\n",
       "     cloudiness  wind speed          date hotel name  \n",
       "1           0.0        5.99  1.599346e+09             \n",
       "10          0.0        6.93  1.599346e+09             \n",
       "84          0.0        9.17  1.599346e+09             \n",
       "149         0.0        4.70  1.599347e+09             \n",
       "159         0.0        8.86  1.599347e+09             \n",
       "179         0.0        8.05  1.599347e+09             "
      ]
     },
     "execution_count": 11,
     "metadata": {},
     "output_type": "execute_result"
    }
   ],
   "source": [
    "filtered_df"
   ]
  },
  {
   "cell_type": "code",
   "execution_count": 12,
   "metadata": {},
   "outputs": [
    {
     "name": "stdout",
     "output_type": "stream",
     "text": [
      "Hotel not found... skipping.\n",
      "Hotel not found... skipping.\n",
      "Hotel not found... skipping.\n",
      "Hotel not found... skipping.\n",
      "Hotel not found... skipping.\n",
      "Hotel not found... skipping.\n"
     ]
    }
   ],
   "source": [
    "\n",
    "params = {\n",
    "    \"radius\": 5000,\n",
    "    \"type\": \"lodging\",\n",
    "    \"key\": g_key\n",
    "}\n",
    "\n",
    "\n",
    "for index, row in filtered_df.iterrows():\n",
    "    \n",
    "    lat = row[\"lat\"]\n",
    "    lng = row[\"long\"]\n",
    "    \n",
    "    \n",
    "    params[\"location\"] = f\"{lat},{lng}\"\n",
    "    \n",
    "    \n",
    "    base_url = \"https://maps.googleapis.com/maps/api/place/nearbysearch/json\"\n",
    "\n",
    "    \n",
    "    hotels = requests.get(base_url, params=params).json()\n",
    "    \n",
    "    \n",
    "    try:\n",
    "        filtered_df.loc[index, \"hotel name\"] = hotels[\"results\"][0][\"name\"]\n",
    "    except (IndexError):\n",
    "        print(\"Hotel not found... skipping.\")"
   ]
  },
  {
   "cell_type": "code",
   "execution_count": null,
   "metadata": {},
   "outputs": [],
   "source": []
  },
  {
   "cell_type": "code",
   "execution_count": null,
   "metadata": {},
   "outputs": [],
   "source": [
    "# NOTE: Do not change any of the code in this cell\n",
    "\n",
    "# Using the template add the hotel marks to the heatmap\n",
    "info_box_template = \"\"\"\n",
    "<dl>\n",
    "<dt>Name</dt><dd>{Hotel Name}</dd>\n",
    "<dt>City</dt><dd>{City}</dd>\n",
    "<dt>Country</dt><dd>{Country}</dd>\n",
    "</dl>\n",
    "\"\"\"\n",
    "# Store the DataFrame Row\n",
    "# NOTE: be sure to update with your DataFrame name\n",
    "#hotel_info = [info_box_template.format(**row) for index, row in narrowed_city_df.iterrows()]\n",
    "hotel_info = [info_box_template.format(**row) for index, row in hotel_df.iterrows()]\n",
    "locations = hotel_df[[\"Lat\", \"Lng\"]]"
   ]
  },
  {
   "cell_type": "code",
   "execution_count": null,
   "metadata": {},
   "outputs": [],
   "source": []
  }
 ],
 "metadata": {
  "kernelspec": {
   "display_name": "Python 3",
   "language": "python",
   "name": "python3"
  },
  "language_info": {
   "codemirror_mode": {
    "name": "ipython",
    "version": 3
   },
   "file_extension": ".py",
   "mimetype": "text/x-python",
   "name": "python",
   "nbconvert_exporter": "python",
   "pygments_lexer": "ipython3",
   "version": "3.8.3"
  }
 },
 "nbformat": 4,
 "nbformat_minor": 4
}
